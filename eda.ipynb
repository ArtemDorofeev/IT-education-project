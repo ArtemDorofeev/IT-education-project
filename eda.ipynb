{
  "nbformat": 4,
  "nbformat_minor": 0,
  "metadata": {
    "colab": {
      "provenance": [],
      "collapsed_sections": [
        "yKAo8f5pZJSw",
        "CkLCKrRridEI",
        "pzk2ujVUiktY",
        "8srVA3w9_nD5",
        "jdfhjmqwmVLg",
        "JGwxnWglnLN4",
        "NFV4CrIuFHLN",
        "NkY7tcpUFBI1",
        "hryKL4xLhBGj",
        "7DdDfrbPj8Fb",
        "RbeQltZ2nDUs",
        "0OsDFe13FQT1",
        "1jO1X2mOtZhN",
        "mSwY6czXubKF",
        "cQvfRK53x_b9",
        "NYQaOIE1aXL9"
      ],
      "authorship_tag": "ABX9TyPYvSLVNLYe1DxYLcNMjVsK",
      "include_colab_link": true
    },
    "kernelspec": {
      "name": "python3",
      "display_name": "Python 3"
    },
    "language_info": {
      "name": "python"
    }
  },
  "cells": [
    {
      "cell_type": "markdown",
      "metadata": {
        "id": "view-in-github",
        "colab_type": "text"
      },
      "source": [
        "<a href=\"https://colab.research.google.com/github/ArtemDorofeev/IT-education-project/blob/main/eda.ipynb\" target=\"_parent\"><img src=\"https://colab.research.google.com/assets/colab-badge.svg\" alt=\"Open In Colab\"/></a>"
      ]
    },
    {
      "cell_type": "code",
      "execution_count": null,
      "metadata": {
        "colab": {
          "base_uri": "https://localhost:8080/"
        },
        "id": "LkfeFFdVRrLh",
        "outputId": "994ae8d6-0cb7-4b0c-e668-00b902197f84"
      },
      "outputs": [
        {
          "output_type": "stream",
          "name": "stdout",
          "text": [
            "/usr/local/lib/python3.7/dist-packages/gdown/cli.py:131: FutureWarning: Option `--id` was deprecated in version 4.3.1 and will be removed in 5.0. You don't need to pass it anymore to use a file ID.\n",
            "  category=FutureWarning,\n",
            "Downloading...\n",
            "From: https://drive.google.com/uc?id=1GHMKZEl5P8-rfHsWqlUXzzu9Lqx08mL0\n",
            "To: /content/region roles (26.05.22).xlsx\n",
            "100% 84.4M/84.4M [00:01<00:00, 57.9MB/s]\n"
          ]
        }
      ],
      "source": [
        "# Подключаем загрузку файла датасета с Гугл Диска\n",
        "\n",
        "!gdown --id 1GHMKZEl5P8-rfHsWqlUXzzu9Lqx08mL0"
      ]
    },
    {
      "cell_type": "code",
      "source": [
        "# Подключаем необходимые библиотеки \n",
        "\n",
        "import pandas as pd\n",
        "import numpy as np\n",
        "import matplotlib.pyplot as plt\n",
        "import seaborn as sns\n",
        "import re\n",
        "import csv\n",
        "import json"
      ],
      "metadata": {
        "id": "1GRgNuS-WGNa"
      },
      "execution_count": null,
      "outputs": []
    },
    {
      "cell_type": "code",
      "source": [
        "# Записываем подгруженный файл excel в датафрейм, выводим информацию о нем\n",
        "\n",
        "dataset = pd.read_excel('region roles (26.05.22).xlsx')\n",
        "dataset.info()"
      ],
      "metadata": {
        "id": "9mXK50XNWNuC"
      },
      "execution_count": null,
      "outputs": []
    },
    {
      "cell_type": "markdown",
      "source": [
        "# 1. Изучение датасета\n",
        "Оцениваем размер, тип данных и наличие пропусков"
      ],
      "metadata": {
        "id": "yKAo8f5pZJSw"
      }
    },
    {
      "cell_type": "code",
      "source": [
        "# Внешний вид таблицы\n",
        "\n",
        "dataset.head(3)"
      ],
      "metadata": {
        "colab": {
          "base_uri": "https://localhost:8080/",
          "height": 480
        },
        "id": "T6YZwwSuuLvS",
        "outputId": "2eb741ee-0a26-439a-9162-c561da97801a"
      },
      "execution_count": null,
      "outputs": [
        {
          "output_type": "execute_result",
          "data": {
            "text/plain": [
              "   Unnamed: 0        id  premium                                     name  \\\n",
              "0           0  49059633    False  Младший специалист ручного тестирования   \n",
              "1           1  54653519    False                          Тестировщик.Net   \n",
              "2           2  55116066    False                                Пентестер   \n",
              "\n",
              "  department  has_test  response_letter_required  \\\n",
              "0        NaN     False                     False   \n",
              "1        NaN     False                     False   \n",
              "2        NaN     False                     False   \n",
              "\n",
              "                                                area  \\\n",
              "0  {'id': '15', 'name': 'Астрахань', 'url': 'http...   \n",
              "1  {'id': '15', 'name': 'Астрахань', 'url': 'http...   \n",
              "2  {'id': '15', 'name': 'Астрахань', 'url': 'http...   \n",
              "\n",
              "                                              salary  \\\n",
              "0                                                NaN   \n",
              "1  {'from': 25000, 'to': 50000, 'currency': 'RUR'...   \n",
              "2                                                NaN   \n",
              "\n",
              "                                 type  ... working_days  \\\n",
              "0  {'id': 'open', 'name': 'Открытая'}  ...           []   \n",
              "1  {'id': 'open', 'name': 'Открытая'}  ...           []   \n",
              "2  {'id': 'open', 'name': 'Открытая'}  ...           []   \n",
              "\n",
              "  working_time_intervals  working_time_modes accept_temporary  \\\n",
              "0                     []                  []            False   \n",
              "1                     []                  []            False   \n",
              "2                     []                  []            False   \n",
              "\n",
              "                                         description  \\\n",
              "0  <p>В некоторых проектах Яндексу помогают компа...   \n",
              "1  <p><em><strong>Мы ищем талантливого и амбициоз...   \n",
              "2  <p>Лидер на рынке систем информационной безопа...   \n",
              "\n",
              "                                          experience  \\\n",
              "0        {'id': 'noExperience', 'name': 'Нет опыта'}   \n",
              "1  {'id': 'between1And3', 'name': 'От 1 года до 3...   \n",
              "2    {'id': 'between3And6', 'name': 'От 3 до 6 лет'}   \n",
              "\n",
              "                                          key_skills  \\\n",
              "0                                                 []   \n",
              "1  [{'name': 'Git'}, {'name': 'SQL'}, {'name': 'Т...   \n",
              "2  [{'name': 'SQL'}, {'name': 'Linux'}, {'name': ...   \n",
              "\n",
              "                                     specializations                region  \\\n",
              "0  [{'id': '1.172', 'name': 'Начальный уровень, М...  Астраханская область   \n",
              "1  [{'id': '1.221', 'name': 'Программирование, Ра...  Астраханская область   \n",
              "2  [{'id': '1.221', 'name': 'Программирование, Ра...  Астраханская область   \n",
              "\n",
              "  immediate_redirect_url  \n",
              "0                    NaN  \n",
              "1                    NaN  \n",
              "2                    NaN  \n",
              "\n",
              "[3 rows x 34 columns]"
            ],
            "text/html": [
              "\n",
              "  <div id=\"df-e8710be1-1eb9-4c50-8cf6-ca4751aec41c\">\n",
              "    <div class=\"colab-df-container\">\n",
              "      <div>\n",
              "<style scoped>\n",
              "    .dataframe tbody tr th:only-of-type {\n",
              "        vertical-align: middle;\n",
              "    }\n",
              "\n",
              "    .dataframe tbody tr th {\n",
              "        vertical-align: top;\n",
              "    }\n",
              "\n",
              "    .dataframe thead th {\n",
              "        text-align: right;\n",
              "    }\n",
              "</style>\n",
              "<table border=\"1\" class=\"dataframe\">\n",
              "  <thead>\n",
              "    <tr style=\"text-align: right;\">\n",
              "      <th></th>\n",
              "      <th>Unnamed: 0</th>\n",
              "      <th>id</th>\n",
              "      <th>premium</th>\n",
              "      <th>name</th>\n",
              "      <th>department</th>\n",
              "      <th>has_test</th>\n",
              "      <th>response_letter_required</th>\n",
              "      <th>area</th>\n",
              "      <th>salary</th>\n",
              "      <th>type</th>\n",
              "      <th>...</th>\n",
              "      <th>working_days</th>\n",
              "      <th>working_time_intervals</th>\n",
              "      <th>working_time_modes</th>\n",
              "      <th>accept_temporary</th>\n",
              "      <th>description</th>\n",
              "      <th>experience</th>\n",
              "      <th>key_skills</th>\n",
              "      <th>specializations</th>\n",
              "      <th>region</th>\n",
              "      <th>immediate_redirect_url</th>\n",
              "    </tr>\n",
              "  </thead>\n",
              "  <tbody>\n",
              "    <tr>\n",
              "      <th>0</th>\n",
              "      <td>0</td>\n",
              "      <td>49059633</td>\n",
              "      <td>False</td>\n",
              "      <td>Младший специалист ручного тестирования</td>\n",
              "      <td>NaN</td>\n",
              "      <td>False</td>\n",
              "      <td>False</td>\n",
              "      <td>{'id': '15', 'name': 'Астрахань', 'url': 'http...</td>\n",
              "      <td>NaN</td>\n",
              "      <td>{'id': 'open', 'name': 'Открытая'}</td>\n",
              "      <td>...</td>\n",
              "      <td>[]</td>\n",
              "      <td>[]</td>\n",
              "      <td>[]</td>\n",
              "      <td>False</td>\n",
              "      <td>&lt;p&gt;В некоторых проектах Яндексу помогают компа...</td>\n",
              "      <td>{'id': 'noExperience', 'name': 'Нет опыта'}</td>\n",
              "      <td>[]</td>\n",
              "      <td>[{'id': '1.172', 'name': 'Начальный уровень, М...</td>\n",
              "      <td>Астраханская область</td>\n",
              "      <td>NaN</td>\n",
              "    </tr>\n",
              "    <tr>\n",
              "      <th>1</th>\n",
              "      <td>1</td>\n",
              "      <td>54653519</td>\n",
              "      <td>False</td>\n",
              "      <td>Тестировщик.Net</td>\n",
              "      <td>NaN</td>\n",
              "      <td>False</td>\n",
              "      <td>False</td>\n",
              "      <td>{'id': '15', 'name': 'Астрахань', 'url': 'http...</td>\n",
              "      <td>{'from': 25000, 'to': 50000, 'currency': 'RUR'...</td>\n",
              "      <td>{'id': 'open', 'name': 'Открытая'}</td>\n",
              "      <td>...</td>\n",
              "      <td>[]</td>\n",
              "      <td>[]</td>\n",
              "      <td>[]</td>\n",
              "      <td>False</td>\n",
              "      <td>&lt;p&gt;&lt;em&gt;&lt;strong&gt;Мы ищем талантливого и амбициоз...</td>\n",
              "      <td>{'id': 'between1And3', 'name': 'От 1 года до 3...</td>\n",
              "      <td>[{'name': 'Git'}, {'name': 'SQL'}, {'name': 'Т...</td>\n",
              "      <td>[{'id': '1.221', 'name': 'Программирование, Ра...</td>\n",
              "      <td>Астраханская область</td>\n",
              "      <td>NaN</td>\n",
              "    </tr>\n",
              "    <tr>\n",
              "      <th>2</th>\n",
              "      <td>2</td>\n",
              "      <td>55116066</td>\n",
              "      <td>False</td>\n",
              "      <td>Пентестер</td>\n",
              "      <td>NaN</td>\n",
              "      <td>False</td>\n",
              "      <td>False</td>\n",
              "      <td>{'id': '15', 'name': 'Астрахань', 'url': 'http...</td>\n",
              "      <td>NaN</td>\n",
              "      <td>{'id': 'open', 'name': 'Открытая'}</td>\n",
              "      <td>...</td>\n",
              "      <td>[]</td>\n",
              "      <td>[]</td>\n",
              "      <td>[]</td>\n",
              "      <td>False</td>\n",
              "      <td>&lt;p&gt;Лидер на рынке систем информационной безопа...</td>\n",
              "      <td>{'id': 'between3And6', 'name': 'От 3 до 6 лет'}</td>\n",
              "      <td>[{'name': 'SQL'}, {'name': 'Linux'}, {'name': ...</td>\n",
              "      <td>[{'id': '1.221', 'name': 'Программирование, Ра...</td>\n",
              "      <td>Астраханская область</td>\n",
              "      <td>NaN</td>\n",
              "    </tr>\n",
              "  </tbody>\n",
              "</table>\n",
              "<p>3 rows × 34 columns</p>\n",
              "</div>\n",
              "      <button class=\"colab-df-convert\" onclick=\"convertToInteractive('df-e8710be1-1eb9-4c50-8cf6-ca4751aec41c')\"\n",
              "              title=\"Convert this dataframe to an interactive table.\"\n",
              "              style=\"display:none;\">\n",
              "        \n",
              "  <svg xmlns=\"http://www.w3.org/2000/svg\" height=\"24px\"viewBox=\"0 0 24 24\"\n",
              "       width=\"24px\">\n",
              "    <path d=\"M0 0h24v24H0V0z\" fill=\"none\"/>\n",
              "    <path d=\"M18.56 5.44l.94 2.06.94-2.06 2.06-.94-2.06-.94-.94-2.06-.94 2.06-2.06.94zm-11 1L8.5 8.5l.94-2.06 2.06-.94-2.06-.94L8.5 2.5l-.94 2.06-2.06.94zm10 10l.94 2.06.94-2.06 2.06-.94-2.06-.94-.94-2.06-.94 2.06-2.06.94z\"/><path d=\"M17.41 7.96l-1.37-1.37c-.4-.4-.92-.59-1.43-.59-.52 0-1.04.2-1.43.59L10.3 9.45l-7.72 7.72c-.78.78-.78 2.05 0 2.83L4 21.41c.39.39.9.59 1.41.59.51 0 1.02-.2 1.41-.59l7.78-7.78 2.81-2.81c.8-.78.8-2.07 0-2.86zM5.41 20L4 18.59l7.72-7.72 1.47 1.35L5.41 20z\"/>\n",
              "  </svg>\n",
              "      </button>\n",
              "      \n",
              "  <style>\n",
              "    .colab-df-container {\n",
              "      display:flex;\n",
              "      flex-wrap:wrap;\n",
              "      gap: 12px;\n",
              "    }\n",
              "\n",
              "    .colab-df-convert {\n",
              "      background-color: #E8F0FE;\n",
              "      border: none;\n",
              "      border-radius: 50%;\n",
              "      cursor: pointer;\n",
              "      display: none;\n",
              "      fill: #1967D2;\n",
              "      height: 32px;\n",
              "      padding: 0 0 0 0;\n",
              "      width: 32px;\n",
              "    }\n",
              "\n",
              "    .colab-df-convert:hover {\n",
              "      background-color: #E2EBFA;\n",
              "      box-shadow: 0px 1px 2px rgba(60, 64, 67, 0.3), 0px 1px 3px 1px rgba(60, 64, 67, 0.15);\n",
              "      fill: #174EA6;\n",
              "    }\n",
              "\n",
              "    [theme=dark] .colab-df-convert {\n",
              "      background-color: #3B4455;\n",
              "      fill: #D2E3FC;\n",
              "    }\n",
              "\n",
              "    [theme=dark] .colab-df-convert:hover {\n",
              "      background-color: #434B5C;\n",
              "      box-shadow: 0px 1px 3px 1px rgba(0, 0, 0, 0.15);\n",
              "      filter: drop-shadow(0px 1px 2px rgba(0, 0, 0, 0.3));\n",
              "      fill: #FFFFFF;\n",
              "    }\n",
              "  </style>\n",
              "\n",
              "      <script>\n",
              "        const buttonEl =\n",
              "          document.querySelector('#df-e8710be1-1eb9-4c50-8cf6-ca4751aec41c button.colab-df-convert');\n",
              "        buttonEl.style.display =\n",
              "          google.colab.kernel.accessAllowed ? 'block' : 'none';\n",
              "\n",
              "        async function convertToInteractive(key) {\n",
              "          const element = document.querySelector('#df-e8710be1-1eb9-4c50-8cf6-ca4751aec41c');\n",
              "          const dataTable =\n",
              "            await google.colab.kernel.invokeFunction('convertToInteractive',\n",
              "                                                     [key], {});\n",
              "          if (!dataTable) return;\n",
              "\n",
              "          const docLinkHtml = 'Like what you see? Visit the ' +\n",
              "            '<a target=\"_blank\" href=https://colab.research.google.com/notebooks/data_table.ipynb>data table notebook</a>'\n",
              "            + ' to learn more about interactive tables.';\n",
              "          element.innerHTML = '';\n",
              "          dataTable['output_type'] = 'display_data';\n",
              "          await google.colab.output.renderOutput(dataTable, element);\n",
              "          const docLink = document.createElement('div');\n",
              "          docLink.innerHTML = docLinkHtml;\n",
              "          element.appendChild(docLink);\n",
              "        }\n",
              "      </script>\n",
              "    </div>\n",
              "  </div>\n",
              "  "
            ]
          },
          "metadata": {},
          "execution_count": 142
        }
      ]
    },
    {
      "cell_type": "code",
      "source": [
        "# Количество пропущенных значений по каждой колонке\n",
        "\n",
        "dataset.isna().sum()"
      ],
      "metadata": {
        "id": "wJgXuv-aZI8g",
        "colab": {
          "base_uri": "https://localhost:8080/"
        },
        "outputId": "c6495aae-caa2-4a89-8935-8d3718890c56"
      },
      "execution_count": null,
      "outputs": [
        {
          "output_type": "execute_result",
          "data": {
            "text/plain": [
              "Unnamed: 0                      0\n",
              "id                              0\n",
              "premium                         0\n",
              "name                            0\n",
              "department                  64393\n",
              "has_test                        0\n",
              "response_letter_required        0\n",
              "area                            0\n",
              "salary                      32066\n",
              "type                            0\n",
              "address                     29338\n",
              "response_url                69655\n",
              "sort_point_distance         69656\n",
              "published_at                    0\n",
              "created_at                      0\n",
              "archived                        0\n",
              "insider_interview           69134\n",
              "url                             0\n",
              "alternate_url                   0\n",
              "relations                       0\n",
              "employer                        0\n",
              "snippet                         0\n",
              "contacts                    34542\n",
              "schedule                        0\n",
              "working_days                    0\n",
              "working_time_intervals          0\n",
              "working_time_modes              0\n",
              "accept_temporary                0\n",
              "description                     0\n",
              "experience                      0\n",
              "key_skills                      0\n",
              "specializations                 0\n",
              "region                          0\n",
              "immediate_redirect_url      69655\n",
              "dtype: int64"
            ]
          },
          "metadata": {},
          "execution_count": 143
        }
      ]
    },
    {
      "cell_type": "code",
      "source": [
        "# Количество пропусков в %\n",
        "\n",
        "dataset.isna().mean()*100"
      ],
      "metadata": {
        "colab": {
          "base_uri": "https://localhost:8080/"
        },
        "id": "0KI0ArVUwwNl",
        "outputId": "914f91f9-1b42-49de-f0ad-53fde6e7a9ac"
      },
      "execution_count": null,
      "outputs": [
        {
          "output_type": "execute_result",
          "data": {
            "text/plain": [
              "Unnamed: 0                    0.000000\n",
              "id                            0.000000\n",
              "premium                       0.000000\n",
              "name                          0.000000\n",
              "department                   92.444298\n",
              "has_test                      0.000000\n",
              "response_letter_required      0.000000\n",
              "area                          0.000000\n",
              "salary                       46.034800\n",
              "type                          0.000000\n",
              "address                      42.118410\n",
              "response_url                 99.998564\n",
              "sort_point_distance         100.000000\n",
              "published_at                  0.000000\n",
              "created_at                    0.000000\n",
              "archived                      0.000000\n",
              "insider_interview            99.250603\n",
              "url                           0.000000\n",
              "alternate_url                 0.000000\n",
              "relations                     0.000000\n",
              "employer                      0.000000\n",
              "snippet                       0.000000\n",
              "contacts                     49.589411\n",
              "schedule                      0.000000\n",
              "working_days                  0.000000\n",
              "working_time_intervals        0.000000\n",
              "working_time_modes            0.000000\n",
              "accept_temporary              0.000000\n",
              "description                   0.000000\n",
              "experience                    0.000000\n",
              "key_skills                    0.000000\n",
              "specializations               0.000000\n",
              "region                        0.000000\n",
              "immediate_redirect_url       99.998564\n",
              "dtype: float64"
            ]
          },
          "metadata": {},
          "execution_count": 144
        }
      ]
    },
    {
      "cell_type": "code",
      "source": [
        "# Поиск дублей по идентификатору вакансии\n",
        "\n",
        "duplicate = dataset['id'].duplicated()\n",
        "duplicate.value_counts()"
      ],
      "metadata": {
        "colab": {
          "base_uri": "https://localhost:8080/"
        },
        "id": "R5WEv9fXbze4",
        "outputId": "cf178906-6fc2-4ebe-f556-276d449f0c9f"
      },
      "execution_count": null,
      "outputs": [
        {
          "output_type": "execute_result",
          "data": {
            "text/plain": [
              "False    69423\n",
              "True       233\n",
              "Name: id, dtype: int64"
            ]
          },
          "metadata": {},
          "execution_count": 145
        }
      ]
    },
    {
      "cell_type": "code",
      "source": [
        "# Удаляем дубликаты\n",
        "\n",
        "data = dataset.drop(index=dataset[duplicate].index, axis=0)"
      ],
      "metadata": {
        "id": "YoP456gDcY6g"
      },
      "execution_count": null,
      "outputs": []
    },
    {
      "cell_type": "code",
      "source": [
        "data.duplicated().sum()"
      ],
      "metadata": {
        "colab": {
          "base_uri": "https://localhost:8080/"
        },
        "id": "RAsMipX37qgR",
        "outputId": "ae8ff8f3-71d6-43a4-ef4a-7ea2a305d07f"
      },
      "execution_count": null,
      "outputs": [
        {
          "output_type": "execute_result",
          "data": {
            "text/plain": [
              "0"
            ]
          },
          "metadata": {},
          "execution_count": 147
        }
      ]
    },
    {
      "cell_type": "code",
      "source": [
        "# Убираем колонки, не нужные для исследования\n",
        "\n",
        "df = data[['name', 'area', 'region', 'salary', 'employer', 'schedule', 'experience', 'key_skills', 'specializations']]\n",
        "df.sample()"
      ],
      "metadata": {
        "colab": {
          "base_uri": "https://localhost:8080/",
          "height": 142
        },
        "id": "qha6ZMIQagkB",
        "outputId": "25c8d2dc-9951-426d-e1af-d286508c82fb"
      },
      "execution_count": null,
      "outputs": [
        {
          "output_type": "execute_result",
          "data": {
            "text/plain": [
              "                      name                                               area  \\\n",
              "44751  Middle Data Analyst  {'id': '2', 'name': 'Санкт-Петербург', 'url': ...   \n",
              "\n",
              "                region salary  \\\n",
              "44751  Санкт-Петербург    NaN   \n",
              "\n",
              "                                                employer  \\\n",
              "44751  {'id': '856498', 'name': 'Lesta Studio (St.Pet...   \n",
              "\n",
              "                                       schedule  \\\n",
              "44751  {'id': 'fullDay', 'name': 'Полный день'}   \n",
              "\n",
              "                                              experience  \\\n",
              "44751  {'id': 'between1And3', 'name': 'От 1 года до 3...   \n",
              "\n",
              "                                              key_skills  \\\n",
              "44751  [{'name': 'Python'}, {'name': 'SQL'}, {'name':...   \n",
              "\n",
              "                                         specializations  \n",
              "44751  [{'id': '17.751', 'name': 'Другое', 'profarea_...  "
            ],
            "text/html": [
              "\n",
              "  <div id=\"df-a224e3c5-2d62-4692-ab36-175c4c870df7\">\n",
              "    <div class=\"colab-df-container\">\n",
              "      <div>\n",
              "<style scoped>\n",
              "    .dataframe tbody tr th:only-of-type {\n",
              "        vertical-align: middle;\n",
              "    }\n",
              "\n",
              "    .dataframe tbody tr th {\n",
              "        vertical-align: top;\n",
              "    }\n",
              "\n",
              "    .dataframe thead th {\n",
              "        text-align: right;\n",
              "    }\n",
              "</style>\n",
              "<table border=\"1\" class=\"dataframe\">\n",
              "  <thead>\n",
              "    <tr style=\"text-align: right;\">\n",
              "      <th></th>\n",
              "      <th>name</th>\n",
              "      <th>area</th>\n",
              "      <th>region</th>\n",
              "      <th>salary</th>\n",
              "      <th>employer</th>\n",
              "      <th>schedule</th>\n",
              "      <th>experience</th>\n",
              "      <th>key_skills</th>\n",
              "      <th>specializations</th>\n",
              "    </tr>\n",
              "  </thead>\n",
              "  <tbody>\n",
              "    <tr>\n",
              "      <th>44751</th>\n",
              "      <td>Middle Data Analyst</td>\n",
              "      <td>{'id': '2', 'name': 'Санкт-Петербург', 'url': ...</td>\n",
              "      <td>Санкт-Петербург</td>\n",
              "      <td>NaN</td>\n",
              "      <td>{'id': '856498', 'name': 'Lesta Studio (St.Pet...</td>\n",
              "      <td>{'id': 'fullDay', 'name': 'Полный день'}</td>\n",
              "      <td>{'id': 'between1And3', 'name': 'От 1 года до 3...</td>\n",
              "      <td>[{'name': 'Python'}, {'name': 'SQL'}, {'name':...</td>\n",
              "      <td>[{'id': '17.751', 'name': 'Другое', 'profarea_...</td>\n",
              "    </tr>\n",
              "  </tbody>\n",
              "</table>\n",
              "</div>\n",
              "      <button class=\"colab-df-convert\" onclick=\"convertToInteractive('df-a224e3c5-2d62-4692-ab36-175c4c870df7')\"\n",
              "              title=\"Convert this dataframe to an interactive table.\"\n",
              "              style=\"display:none;\">\n",
              "        \n",
              "  <svg xmlns=\"http://www.w3.org/2000/svg\" height=\"24px\"viewBox=\"0 0 24 24\"\n",
              "       width=\"24px\">\n",
              "    <path d=\"M0 0h24v24H0V0z\" fill=\"none\"/>\n",
              "    <path d=\"M18.56 5.44l.94 2.06.94-2.06 2.06-.94-2.06-.94-.94-2.06-.94 2.06-2.06.94zm-11 1L8.5 8.5l.94-2.06 2.06-.94-2.06-.94L8.5 2.5l-.94 2.06-2.06.94zm10 10l.94 2.06.94-2.06 2.06-.94-2.06-.94-.94-2.06-.94 2.06-2.06.94z\"/><path d=\"M17.41 7.96l-1.37-1.37c-.4-.4-.92-.59-1.43-.59-.52 0-1.04.2-1.43.59L10.3 9.45l-7.72 7.72c-.78.78-.78 2.05 0 2.83L4 21.41c.39.39.9.59 1.41.59.51 0 1.02-.2 1.41-.59l7.78-7.78 2.81-2.81c.8-.78.8-2.07 0-2.86zM5.41 20L4 18.59l7.72-7.72 1.47 1.35L5.41 20z\"/>\n",
              "  </svg>\n",
              "      </button>\n",
              "      \n",
              "  <style>\n",
              "    .colab-df-container {\n",
              "      display:flex;\n",
              "      flex-wrap:wrap;\n",
              "      gap: 12px;\n",
              "    }\n",
              "\n",
              "    .colab-df-convert {\n",
              "      background-color: #E8F0FE;\n",
              "      border: none;\n",
              "      border-radius: 50%;\n",
              "      cursor: pointer;\n",
              "      display: none;\n",
              "      fill: #1967D2;\n",
              "      height: 32px;\n",
              "      padding: 0 0 0 0;\n",
              "      width: 32px;\n",
              "    }\n",
              "\n",
              "    .colab-df-convert:hover {\n",
              "      background-color: #E2EBFA;\n",
              "      box-shadow: 0px 1px 2px rgba(60, 64, 67, 0.3), 0px 1px 3px 1px rgba(60, 64, 67, 0.15);\n",
              "      fill: #174EA6;\n",
              "    }\n",
              "\n",
              "    [theme=dark] .colab-df-convert {\n",
              "      background-color: #3B4455;\n",
              "      fill: #D2E3FC;\n",
              "    }\n",
              "\n",
              "    [theme=dark] .colab-df-convert:hover {\n",
              "      background-color: #434B5C;\n",
              "      box-shadow: 0px 1px 3px 1px rgba(0, 0, 0, 0.15);\n",
              "      filter: drop-shadow(0px 1px 2px rgba(0, 0, 0, 0.3));\n",
              "      fill: #FFFFFF;\n",
              "    }\n",
              "  </style>\n",
              "\n",
              "      <script>\n",
              "        const buttonEl =\n",
              "          document.querySelector('#df-a224e3c5-2d62-4692-ab36-175c4c870df7 button.colab-df-convert');\n",
              "        buttonEl.style.display =\n",
              "          google.colab.kernel.accessAllowed ? 'block' : 'none';\n",
              "\n",
              "        async function convertToInteractive(key) {\n",
              "          const element = document.querySelector('#df-a224e3c5-2d62-4692-ab36-175c4c870df7');\n",
              "          const dataTable =\n",
              "            await google.colab.kernel.invokeFunction('convertToInteractive',\n",
              "                                                     [key], {});\n",
              "          if (!dataTable) return;\n",
              "\n",
              "          const docLinkHtml = 'Like what you see? Visit the ' +\n",
              "            '<a target=\"_blank\" href=https://colab.research.google.com/notebooks/data_table.ipynb>data table notebook</a>'\n",
              "            + ' to learn more about interactive tables.';\n",
              "          element.innerHTML = '';\n",
              "          dataTable['output_type'] = 'display_data';\n",
              "          await google.colab.output.renderOutput(dataTable, element);\n",
              "          const docLink = document.createElement('div');\n",
              "          docLink.innerHTML = docLinkHtml;\n",
              "          element.appendChild(docLink);\n",
              "        }\n",
              "      </script>\n",
              "    </div>\n",
              "  </div>\n",
              "  "
            ]
          },
          "metadata": {},
          "execution_count": 148
        }
      ]
    },
    {
      "cell_type": "code",
      "source": [
        "df.info()"
      ],
      "metadata": {
        "colab": {
          "base_uri": "https://localhost:8080/"
        },
        "id": "OSDLq-lwbMfY",
        "outputId": "8051f14f-c682-420e-e8f5-3be829c657a5"
      },
      "execution_count": null,
      "outputs": [
        {
          "output_type": "stream",
          "name": "stdout",
          "text": [
            "<class 'pandas.core.frame.DataFrame'>\n",
            "Int64Index: 69423 entries, 0 to 69655\n",
            "Data columns (total 9 columns):\n",
            " #   Column           Non-Null Count  Dtype \n",
            "---  ------           --------------  ----- \n",
            " 0   name             69423 non-null  object\n",
            " 1   area             69423 non-null  object\n",
            " 2   region           69423 non-null  object\n",
            " 3   salary           37487 non-null  object\n",
            " 4   employer         69423 non-null  object\n",
            " 5   schedule         69423 non-null  object\n",
            " 6   experience       69423 non-null  object\n",
            " 7   key_skills       69423 non-null  object\n",
            " 8   specializations  69423 non-null  object\n",
            "dtypes: object(9)\n",
            "memory usage: 5.3+ MB\n"
          ]
        }
      ]
    },
    {
      "cell_type": "code",
      "source": [
        "print(type(df['area'][2]))\n",
        "df['area'][2]"
      ],
      "metadata": {
        "colab": {
          "base_uri": "https://localhost:8080/"
        },
        "id": "nLtGS16g-k7p",
        "outputId": "c045f1d9-9f44-48c1-fceb-c8b1862e5d0e"
      },
      "execution_count": null,
      "outputs": [
        {
          "output_type": "stream",
          "name": "stdout",
          "text": [
            "<class 'dict'>\n"
          ]
        },
        {
          "output_type": "execute_result",
          "data": {
            "text/plain": [
              "{'id': '15', 'name': 'Астрахань', 'url': 'https://api.hh.ru/areas/15'}"
            ]
          },
          "metadata": {},
          "execution_count": 206
        }
      ]
    },
    {
      "cell_type": "markdown",
      "source": [
        "После удаления дубликатов в датасете осталось 69423 строки.\n",
        "\n",
        "Исходные типы данных в таблице преобразованы в строковый тип данных"
      ],
      "metadata": {
        "id": "3kKP6q4EbZz5"
      }
    },
    {
      "cell_type": "markdown",
      "source": [
        "# 2. Анализ колонок с данными\n",
        "Анализируем данные каждой колонки в соответствии с их типом"
      ],
      "metadata": {
        "id": "CkLCKrRridEI"
      }
    },
    {
      "cell_type": "markdown",
      "source": [
        "## Название вакансии"
      ],
      "metadata": {
        "id": "pzk2ujVUiktY"
      }
    },
    {
      "cell_type": "code",
      "source": [
        "# Сводка по колонке \n",
        "\n",
        "df['name'].describe()"
      ],
      "metadata": {
        "colab": {
          "base_uri": "https://localhost:8080/"
        },
        "id": "bbV-RUhfihnX",
        "outputId": "9becee3d-0a41-4426-8025-66983550908b"
      },
      "execution_count": null,
      "outputs": [
        {
          "output_type": "execute_result",
          "data": {
            "text/plain": [
              "count                       69423\n",
              "unique                      31756\n",
              "top       Системный администратор\n",
              "freq                         1652\n",
              "Name: name, dtype: object"
            ]
          },
          "metadata": {},
          "execution_count": 151
        }
      ]
    },
    {
      "cell_type": "code",
      "source": [
        "# ТОП 10 названий вакансий\n",
        "\n",
        "df['name'].value_counts()[:10]"
      ],
      "metadata": {
        "colab": {
          "base_uri": "https://localhost:8080/"
        },
        "id": "nhtXMITVi2xx",
        "outputId": "cd52cacf-e918-4a8f-f0f1-06cdf66ae77e"
      },
      "execution_count": null,
      "outputs": [
        {
          "output_type": "execute_result",
          "data": {
            "text/plain": [
              "Системный администратор             1652\n",
              "Программист 1С                      1122\n",
              "Менеджер по персоналу                679\n",
              "Менеджер по подбору персонала        568\n",
              "Специалист технической поддержки     481\n",
              "Специалист по кадрам                 469\n",
              "Системный аналитик                   465\n",
              "Агент по недвижимости                374\n",
              "Аналитик                             346\n",
              "SMM-менеджер                         342\n",
              "Name: name, dtype: int64"
            ]
          },
          "metadata": {},
          "execution_count": 152
        }
      ]
    },
    {
      "cell_type": "code",
      "source": [
        "# Выведем диаграмму вакансий\n",
        "\n",
        "plt.style.use('seaborn')\n",
        "plt.title('Вакансии')\n",
        "plt.barh(df['name'].value_counts()[0:10].index, df['name'].value_counts()[0:10].values)\n",
        "plt.show()"
      ],
      "metadata": {
        "id": "54S3A9jVjYAJ",
        "colab": {
          "base_uri": "https://localhost:8080/",
          "height": 362
        },
        "outputId": "4c413b22-e9b6-467d-cc0d-8d6664661981"
      },
      "execution_count": null,
      "outputs": [
        {
          "output_type": "display_data",
          "data": {
            "text/plain": [
              "<Figure size 576x396 with 1 Axes>"
            ],
            "image/png": "[encoded data removed]"
          },
          "metadata": {}
        }
      ]
    },
    {
      "cell_type": "markdown",
      "source": [
        "В перечне вакансий присутствуют вакансии не имеющие отношения к IT сфере"
      ],
      "metadata": {
        "id": "LJfcjR_pDsTG"
      }
    },
    {
      "cell_type": "markdown",
      "source": [
        "## Город вакансии"
      ],
      "metadata": {
        "id": "8srVA3w9_nD5"
      }
    },
    {
      "cell_type": "code",
      "source": [
        "# Преобразуем строковый тип данных в словарь\n",
        "\n",
        "df['area'] = df['area'].apply(eval)"
      ],
      "metadata": {
        "id": "0bvhb8uV_rjG",
        "colab": {
          "base_uri": "https://localhost:8080/"
        },
        "outputId": "f2a4eab9-22bf-4b73-cfcd-10b9a003eb48"
      },
      "execution_count": null,
      "outputs": [
        {
          "output_type": "stream",
          "name": "stderr",
          "text": [
            "/usr/local/lib/python3.7/dist-packages/ipykernel_launcher.py:3: SettingWithCopyWarning: \n",
            "A value is trying to be set on a copy of a slice from a DataFrame.\n",
            "Try using .loc[row_indexer,col_indexer] = value instead\n",
            "\n",
            "See the caveats in the documentation: https://pandas.pydata.org/pandas-docs/stable/user_guide/indexing.html#returning-a-view-versus-a-copy\n",
            "  This is separate from the ipykernel package so we can avoid doing imports until\n"
          ]
        }
      ]
    },
    {
      "cell_type": "code",
      "source": [
        "# Выбираем из словаря название города\n",
        "\n",
        "df['city']= df['area'].apply(lambda row: row['name'])"
      ],
      "metadata": {
        "id": "vKZhTyb9A4sY",
        "colab": {
          "base_uri": "https://localhost:8080/"
        },
        "outputId": "0cde2511-1b42-4681-969e-d26a01282a49"
      },
      "execution_count": null,
      "outputs": [
        {
          "output_type": "stream",
          "name": "stderr",
          "text": [
            "/usr/local/lib/python3.7/dist-packages/ipykernel_launcher.py:3: SettingWithCopyWarning: \n",
            "A value is trying to be set on a copy of a slice from a DataFrame.\n",
            "Try using .loc[row_indexer,col_indexer] = value instead\n",
            "\n",
            "See the caveats in the documentation: https://pandas.pydata.org/pandas-docs/stable/user_guide/indexing.html#returning-a-view-versus-a-copy\n",
            "  This is separate from the ipykernel package so we can avoid doing imports until\n"
          ]
        }
      ]
    },
    {
      "cell_type": "code",
      "source": [
        "# ТОП 10 городов по количеству вакансий\n",
        "\n",
        "df['city'].value_counts()[:10]"
      ],
      "metadata": {
        "colab": {
          "base_uri": "https://localhost:8080/"
        },
        "outputId": "c65746f7-7544-4a3f-ef88-5b3f04c62437",
        "id": "v2VbABRA_nD5"
      },
      "execution_count": null,
      "outputs": [
        {
          "output_type": "execute_result",
          "data": {
            "text/plain": [
              "Москва             19884\n",
              "Санкт-Петербург     8212\n",
              "Екатеринбург        2422\n",
              "Новосибирск         2412\n",
              "Казань              1927\n",
              "Краснодар           1705\n",
              "Нижний Новгород     1645\n",
              "Ростов-на-Дону      1407\n",
              "Воронеж             1177\n",
              "Самара              1141\n",
              "Name: city, dtype: int64"
            ]
          },
          "metadata": {},
          "execution_count": 156
        }
      ]
    },
    {
      "cell_type": "code",
      "source": [
        "# Выведем диаграмму городов\n",
        "\n",
        "plt.style.use('seaborn')\n",
        "plt.title('Города')\n",
        "plt.barh(df['city'].value_counts()[:10].index, df['city'].value_counts()[:10].values)\n",
        "plt.show()"
      ],
      "metadata": {
        "colab": {
          "base_uri": "https://localhost:8080/",
          "height": 362
        },
        "outputId": "9b5c99ce-2f41-4ebc-f4c6-46a713fe98fb",
        "id": "0ReWxxPY_nD5"
      },
      "execution_count": null,
      "outputs": [
        {
          "output_type": "display_data",
          "data": {
            "text/plain": [
              "<Figure size 576x396 with 1 Axes>"
            ],
            "image/png": "[encoded data removed]"
          },
          "metadata": {}
        }
      ]
    },
    {
      "cell_type": "markdown",
      "source": [
        "Большая часть вакансий в городах Москва и Санкт-Петербург"
      ],
      "metadata": {
        "id": "R_qrLv2eB3OR"
      }
    },
    {
      "cell_type": "markdown",
      "source": [
        "## Регион вакансии"
      ],
      "metadata": {
        "id": "jdfhjmqwmVLg"
      }
    },
    {
      "cell_type": "code",
      "source": [
        "# ТОП 10 регионов по количеству вакансий\n",
        "\n",
        "df['region'].value_counts()[:10]"
      ],
      "metadata": {
        "colab": {
          "base_uri": "https://localhost:8080/"
        },
        "id": "992StibkmgT1",
        "outputId": "5e81473d-62e0-4029-921a-f5c92711633d"
      },
      "execution_count": null,
      "outputs": [
        {
          "output_type": "execute_result",
          "data": {
            "text/plain": [
              "Москва                   19884\n",
              "Санкт-Петербург           8212\n",
              "Краснодарский край        3163\n",
              "Свердловская область      2625\n",
              "Новосибирская область     2469\n",
              "Республика Татарстан      2448\n",
              "Московская область        2337\n",
              "Нижегородская область     1783\n",
              "Ростовская область        1702\n",
              "Самарская область         1448\n",
              "Name: region, dtype: int64"
            ]
          },
          "metadata": {},
          "execution_count": 158
        }
      ]
    },
    {
      "cell_type": "code",
      "source": [
        "# Выведем диаграмму регионов\n",
        "\n",
        "plt.style.use('seaborn')\n",
        "plt.title('ТОП 10 регионов')\n",
        "plt.barh(df['region'].value_counts()[:10].index, df['region'].value_counts()[:10].values)\n",
        "plt.show()"
      ],
      "metadata": {
        "id": "oQg9jR-km6XP",
        "colab": {
          "base_uri": "https://localhost:8080/",
          "height": 362
        },
        "outputId": "1ad2a37b-00eb-4c1b-96d4-11ea91b05285"
      },
      "execution_count": null,
      "outputs": [
        {
          "output_type": "display_data",
          "data": {
            "text/plain": [
              "<Figure size 576x396 with 1 Axes>"
            ],
            "image/png": "[encoded data removed]"
          },
          "metadata": {}
        }
      ]
    },
    {
      "cell_type": "markdown",
      "source": [
        "## Заработная плата"
      ],
      "metadata": {
        "id": "JGwxnWglnLN4"
      }
    },
    {
      "cell_type": "code",
      "source": [
        "# Преобразуем строковый тип данных в словари\n",
        "\n",
        "def str_dict(row):\n",
        "  try:\n",
        "    n = eval(row) \n",
        "    return n\n",
        "  except:\n",
        "    return np.nan\n",
        "df['salary'] = df['salary'].apply(str_dict)"
      ],
      "metadata": {
        "id": "JSfFGk8znT-p",
        "colab": {
          "base_uri": "https://localhost:8080/"
        },
        "outputId": "7ef1e53e-8541-4159-ffca-d0e08a71b18d"
      },
      "execution_count": null,
      "outputs": [
        {
          "output_type": "stream",
          "name": "stderr",
          "text": [
            "/usr/local/lib/python3.7/dist-packages/ipykernel_launcher.py:9: SettingWithCopyWarning: \n",
            "A value is trying to be set on a copy of a slice from a DataFrame.\n",
            "Try using .loc[row_indexer,col_indexer] = value instead\n",
            "\n",
            "See the caveats in the documentation: https://pandas.pydata.org/pandas-docs/stable/user_guide/indexing.html#returning-a-view-versus-a-copy\n",
            "  if __name__ == '__main__':\n"
          ]
        }
      ]
    },
    {
      "cell_type": "markdown",
      "source": [
        "Запишем в функции извлечения значений из словаря:"
      ],
      "metadata": {
        "id": "Dh1KZDHmFuCY"
      }
    },
    {
      "cell_type": "code",
      "source": [
        "# Для колонки зарплата 'от'\n",
        "\n",
        "def sal_from(quant): # salary_from\n",
        "  try:\n",
        "    n = quant['from'] \n",
        "    return n\n",
        "  except:\n",
        "    return np.nan"
      ],
      "metadata": {
        "id": "iNdzSqA8FK6y"
      },
      "execution_count": null,
      "outputs": []
    },
    {
      "cell_type": "code",
      "source": [
        "# Для колонки зарплата 'до'\n",
        "\n",
        "def sal_to(quant): # salary_to\n",
        "  try:\n",
        "    n = quant['to'] \n",
        "    return n\n",
        "  except:\n",
        "    return np.nan"
      ],
      "metadata": {
        "id": "S576P4SpFPq3"
      },
      "execution_count": null,
      "outputs": []
    },
    {
      "cell_type": "code",
      "source": [
        "# Для колонки валюта\n",
        "\n",
        "def sal_curr(quant): # currency\n",
        "  try:\n",
        "    n = quant['currency'] \n",
        "    return n\n",
        "  except:\n",
        "    return np.nan"
      ],
      "metadata": {
        "id": "hdpGrwSrFUkB"
      },
      "execution_count": null,
      "outputs": []
    },
    {
      "cell_type": "code",
      "source": [
        "# Для колонки зарплата гросс\n",
        "\n",
        "def sal_gross(quant): # gross\n",
        "  try:\n",
        "    n = quant['gross'] \n",
        "    return n\n",
        "  except:\n",
        "    return np.nan"
      ],
      "metadata": {
        "id": "4_duMW-Mo0w5"
      },
      "execution_count": null,
      "outputs": []
    },
    {
      "cell_type": "code",
      "source": [
        "# Разберем извлеченные значения по колонкам\n",
        "\n",
        "df['salary_from'] = df['salary'].apply(sal_from)\n",
        "df['salary_to'] = df['salary'].apply(sal_to)\n",
        "df['currency'] = df['salary'].apply(sal_curr)\n",
        "df['gross'] = df['salary'].apply(sal_gross)"
      ],
      "metadata": {
        "id": "2wY6M3JfFglF",
        "colab": {
          "base_uri": "https://localhost:8080/"
        },
        "outputId": "72c05da7-6125-4c3e-8157-4e02f2e7759e"
      },
      "execution_count": null,
      "outputs": [
        {
          "output_type": "stream",
          "name": "stderr",
          "text": [
            "/usr/local/lib/python3.7/dist-packages/ipykernel_launcher.py:3: SettingWithCopyWarning: \n",
            "A value is trying to be set on a copy of a slice from a DataFrame.\n",
            "Try using .loc[row_indexer,col_indexer] = value instead\n",
            "\n",
            "See the caveats in the documentation: https://pandas.pydata.org/pandas-docs/stable/user_guide/indexing.html#returning-a-view-versus-a-copy\n",
            "  This is separate from the ipykernel package so we can avoid doing imports until\n",
            "/usr/local/lib/python3.7/dist-packages/ipykernel_launcher.py:4: SettingWithCopyWarning: \n",
            "A value is trying to be set on a copy of a slice from a DataFrame.\n",
            "Try using .loc[row_indexer,col_indexer] = value instead\n",
            "\n",
            "See the caveats in the documentation: https://pandas.pydata.org/pandas-docs/stable/user_guide/indexing.html#returning-a-view-versus-a-copy\n",
            "  after removing the cwd from sys.path.\n",
            "/usr/local/lib/python3.7/dist-packages/ipykernel_launcher.py:5: SettingWithCopyWarning: \n",
            "A value is trying to be set on a copy of a slice from a DataFrame.\n",
            "Try using .loc[row_indexer,col_indexer] = value instead\n",
            "\n",
            "See the caveats in the documentation: https://pandas.pydata.org/pandas-docs/stable/user_guide/indexing.html#returning-a-view-versus-a-copy\n",
            "  \"\"\"\n",
            "/usr/local/lib/python3.7/dist-packages/ipykernel_launcher.py:6: SettingWithCopyWarning: \n",
            "A value is trying to be set on a copy of a slice from a DataFrame.\n",
            "Try using .loc[row_indexer,col_indexer] = value instead\n",
            "\n",
            "See the caveats in the documentation: https://pandas.pydata.org/pandas-docs/stable/user_guide/indexing.html#returning-a-view-versus-a-copy\n",
            "  \n"
          ]
        }
      ]
    },
    {
      "cell_type": "code",
      "source": [
        "# Конвертируем валюты\n",
        "\n",
        "exchange = {'RUR': 1, 'USD': 59.4, 'EUR': 58.06, 'KZT': 0.1257}  # Подготовим словарь с курсом обмена к рублю\n",
        "\n",
        "# Конвертация\n",
        "\n",
        "df['salary_from'] = df['currency'].map(exchange) * df['salary_from']\n",
        "df['salary_to'] = df['currency'].map(exchange) * df['salary_to']\n",
        "\n",
        "# Меняем значение валюты после конвертации на \"RUR\"\n",
        "\n",
        "df['currency'] = df['currency'].apply(lambda n: 'RUR' if n in exchange else n)"
      ],
      "metadata": {
        "id": "v0RyK3i3xzGL",
        "colab": {
          "base_uri": "https://localhost:8080/"
        },
        "outputId": "54ada25b-2a88-4952-a914-90d96dfeb1c4"
      },
      "execution_count": null,
      "outputs": [
        {
          "output_type": "stream",
          "name": "stderr",
          "text": [
            "/usr/local/lib/python3.7/dist-packages/ipykernel_launcher.py:7: SettingWithCopyWarning: \n",
            "A value is trying to be set on a copy of a slice from a DataFrame.\n",
            "Try using .loc[row_indexer,col_indexer] = value instead\n",
            "\n",
            "See the caveats in the documentation: https://pandas.pydata.org/pandas-docs/stable/user_guide/indexing.html#returning-a-view-versus-a-copy\n",
            "  import sys\n",
            "/usr/local/lib/python3.7/dist-packages/ipykernel_launcher.py:8: SettingWithCopyWarning: \n",
            "A value is trying to be set on a copy of a slice from a DataFrame.\n",
            "Try using .loc[row_indexer,col_indexer] = value instead\n",
            "\n",
            "See the caveats in the documentation: https://pandas.pydata.org/pandas-docs/stable/user_guide/indexing.html#returning-a-view-versus-a-copy\n",
            "  \n",
            "/usr/local/lib/python3.7/dist-packages/ipykernel_launcher.py:12: SettingWithCopyWarning: \n",
            "A value is trying to be set on a copy of a slice from a DataFrame.\n",
            "Try using .loc[row_indexer,col_indexer] = value instead\n",
            "\n",
            "See the caveats in the documentation: https://pandas.pydata.org/pandas-docs/stable/user_guide/indexing.html#returning-a-view-versus-a-copy\n",
            "  if sys.path[0] == '':\n"
          ]
        }
      ]
    },
    {
      "cell_type": "code",
      "source": [
        "# Создадим функции пересчета зарплат из gross в net\n",
        "\n",
        "mask_gross = df['gross'] == True # Создаем фильтр для зарплат гросс\n",
        "\n",
        "# 'salary_from'\n",
        "def gross_from():\n",
        "    df.loc[(mask_gross), 'salary_from'] = df[mask_gross]['salary_from'] * 0.87\n",
        "    \n",
        "# 'salary_to'\n",
        "def gross_to():\n",
        "  try:\n",
        "    df.loc[(mask_gross), 'salary_to'] = df[mask_gross]['salary_to'] * 0.87\n",
        "  except:\n",
        "    np.nan"
      ],
      "metadata": {
        "id": "Lo_A6hTg3o4e"
      },
      "execution_count": null,
      "outputs": []
    },
    {
      "cell_type": "code",
      "source": [
        "# Пересчитаем\n",
        "\n",
        "gross_from()\n",
        "gross_to()\n",
        "\n",
        "# Меняем значение \"gross\" после персчета\n",
        "df.loc[(mask_gross), 'gross'] = False"
      ],
      "metadata": {
        "id": "MdvjF62FtA7o",
        "colab": {
          "base_uri": "https://localhost:8080/"
        },
        "outputId": "daf07df8-556d-4a9c-a49e-ec0c19888433"
      },
      "execution_count": null,
      "outputs": [
        {
          "output_type": "stream",
          "name": "stderr",
          "text": [
            "/usr/local/lib/python3.7/dist-packages/pandas/core/indexing.py:1773: SettingWithCopyWarning: \n",
            "A value is trying to be set on a copy of a slice from a DataFrame.\n",
            "Try using .loc[row_indexer,col_indexer] = value instead\n",
            "\n",
            "See the caveats in the documentation: https://pandas.pydata.org/pandas-docs/stable/user_guide/indexing.html#returning-a-view-versus-a-copy\n",
            "  self._setitem_single_column(ilocs[0], value, pi)\n",
            "/usr/local/lib/python3.7/dist-packages/pandas/core/indexing.py:1817: SettingWithCopyWarning: \n",
            "A value is trying to be set on a copy of a slice from a DataFrame.\n",
            "Try using .loc[row_indexer,col_indexer] = value instead\n",
            "\n",
            "See the caveats in the documentation: https://pandas.pydata.org/pandas-docs/stable/user_guide/indexing.html#returning-a-view-versus-a-copy\n",
            "  self._setitem_single_column(loc, value, pi)\n"
          ]
        }
      ]
    },
    {
      "cell_type": "code",
      "source": [
        "# Посчитаем стреднее значение зарплаты по каждой позиции в одтельный столбец\n",
        "\n",
        "df['salary_mean'] = df[['salary_from', 'salary_to']].mean(axis=1)"
      ],
      "metadata": {
        "id": "NCqNtmHjeo2q",
        "colab": {
          "base_uri": "https://localhost:8080/"
        },
        "outputId": "42ccc08a-1857-4303-93bf-d8cf36784b3a"
      },
      "execution_count": null,
      "outputs": [
        {
          "output_type": "stream",
          "name": "stderr",
          "text": [
            "/usr/local/lib/python3.7/dist-packages/ipykernel_launcher.py:3: SettingWithCopyWarning: \n",
            "A value is trying to be set on a copy of a slice from a DataFrame.\n",
            "Try using .loc[row_indexer,col_indexer] = value instead\n",
            "\n",
            "See the caveats in the documentation: https://pandas.pydata.org/pandas-docs/stable/user_guide/indexing.html#returning-a-view-versus-a-copy\n",
            "  This is separate from the ipykernel package so we can avoid doing imports until\n"
          ]
        }
      ]
    },
    {
      "cell_type": "code",
      "source": [
        "# Проверим распределение зарплаты\n",
        "\n",
        "df['salary_mean'].describe().astype(int)"
      ],
      "metadata": {
        "colab": {
          "base_uri": "https://localhost:8080/"
        },
        "id": "hm_xBDtTfKfa",
        "outputId": "5e6fc1d9-c0d9-45d0-c8ca-36e7844df76a"
      },
      "execution_count": null,
      "outputs": [
        {
          "output_type": "execute_result",
          "data": {
            "text/plain": [
              "count      37487\n",
              "mean       92570\n",
              "std        99723\n",
              "min           20\n",
              "25%        40000\n",
              "50%        65000\n",
              "75%       115000\n",
              "max      5150000\n",
              "Name: salary_mean, dtype: int64"
            ]
          },
          "metadata": {},
          "execution_count": 170
        }
      ]
    },
    {
      "cell_type": "code",
      "source": [
        "# Обрежем значения средней ЗП с 3% процентиля по 97% для устранения выбросов\n",
        "\n",
        "percentile3 = np.percentile(df['salary_mean'].dropna(), 3) # 3% процентиль\n",
        "percentile97 = np.percentile(df['salary_mean'].dropna(), 97) # 97% процентиль\n",
        "df = df.drop(df.loc[(df['salary_mean'] < percentile3) | (df['salary_mean'] > percentile97)].index)"
      ],
      "metadata": {
        "id": "4zCVffAMxv8K"
      },
      "execution_count": null,
      "outputs": []
    },
    {
      "cell_type": "code",
      "source": [
        "df['salary_mean'].describe().astype(int)"
      ],
      "metadata": {
        "colab": {
          "base_uri": "https://localhost:8080/"
        },
        "id": "MEkJUAzPzAW4",
        "outputId": "5e099db7-d7a8-4e80-b42c-9b36a8217db5"
      },
      "execution_count": null,
      "outputs": [
        {
          "output_type": "execute_result",
          "data": {
            "text/plain": [
              "count     35301\n",
              "mean      83581\n",
              "std       56344\n",
              "min       17400\n",
              "25%       40020\n",
              "50%       65000\n",
              "75%      110000\n",
              "max      295800\n",
              "Name: salary_mean, dtype: int64"
            ]
          },
          "metadata": {},
          "execution_count": 172
        }
      ]
    },
    {
      "cell_type": "code",
      "source": [
        "# Построим график Boxplot для средней зарплаты по всем вакансиям\n",
        "\n",
        "plt.style.use('seaborn')\n",
        "k = sns.boxplot(data=df['salary_mean'])\n",
        "k.set_xlabel(\"Средняя зарплата\", fontsize=14)\n",
        "plt.axis(ymax= 300000)"
      ],
      "metadata": {
        "colab": {
          "base_uri": "https://localhost:8080/",
          "height": 386
        },
        "id": "SzqyHF4sgEBs",
        "outputId": "11f93379-c3de-4553-b3bf-9618e6a199ea"
      },
      "execution_count": null,
      "outputs": [
        {
          "output_type": "execute_result",
          "data": {
            "text/plain": [
              "(-0.5, 0.5, 3480.0, 300000.0)"
            ]
          },
          "metadata": {},
          "execution_count": 173
        },
        {
          "output_type": "display_data",
          "data": {
            "text/plain": [
              "<Figure size 576x396 with 1 Axes>"
            ],
            "image/png": "[encoded data removed]"
          },
          "metadata": {}
        }
      ]
    },
    {
      "cell_type": "markdown",
      "source": [
        "Среднее значение ЗП = 83581р выше медианного = 65000р за счет большого количества выбросов"
      ],
      "metadata": {
        "id": "VG0cZNvF_Kd7"
      }
    },
    {
      "cell_type": "markdown",
      "source": [
        "## Компания работодатель"
      ],
      "metadata": {
        "id": "NFV4CrIuFHLN"
      }
    },
    {
      "cell_type": "code",
      "source": [
        "# Преобразуем строковый тип данных в словарь\n",
        "\n",
        "def emp_name(row):\n",
        "  try:\n",
        "    n = eval(row) \n",
        "    x = n['name'] # Выбираем название компании из словаря\n",
        "    return x\n",
        "  except:\n",
        "    return ''\n",
        "\n",
        "# Переносим название работодателя в новый столбец\n",
        "df['emp_name'] = df['employer'].apply(emp_name)"
      ],
      "metadata": {
        "id": "j6h5Ji_5paJH"
      },
      "execution_count": null,
      "outputs": []
    },
    {
      "cell_type": "code",
      "source": [
        "# Выводим ТОП 10 работодателей по числу вакансий\n",
        "\n",
        "df['emp_name'].value_counts()[:10]"
      ],
      "metadata": {
        "colab": {
          "base_uri": "https://localhost:8080/"
        },
        "outputId": "7b160e03-5580-408e-bbee-4e24d72df9cd",
        "id": "2vQZKfKbM15m"
      },
      "execution_count": null,
      "outputs": [
        {
          "output_type": "execute_result",
          "data": {
            "text/plain": [
              "Яндекс           1108\n",
              "Газпром нефть     587\n",
              "Сбербанк          546\n",
              "Тинькофф          489\n",
              "Ростелеком        470\n",
              "МТС               366\n",
              "ИК СИБИНТЕК       348\n",
              "Ozon              280\n",
              "VK                250\n",
              "Первый Бит        232\n",
              "Name: emp_name, dtype: int64"
            ]
          },
          "metadata": {},
          "execution_count": 175
        }
      ]
    },
    {
      "cell_type": "code",
      "source": [
        "# Диаграма ТОП 10 работодателей\n",
        "\n",
        "plt.style.use('seaborn')\n",
        "plt.title('Компания работодатель')\n",
        "plt.bar(df['emp_name'].value_counts()[:10].index, df['emp_name'].value_counts()[:10].values)\n",
        "plt.xticks(rotation=30, ha='right')\n",
        "plt.show()"
      ],
      "metadata": {
        "colab": {
          "base_uri": "https://localhost:8080/",
          "height": 397
        },
        "id": "oHXBNCOUNK09",
        "outputId": "a34dec9b-44b2-4ee8-df49-3bd1c352200e"
      },
      "execution_count": null,
      "outputs": [
        {
          "output_type": "display_data",
          "data": {
            "text/plain": [
              "<Figure size 576x396 with 1 Axes>"
            ],
            "image/png": "[encoded data removed]"
          },
          "metadata": {}
        }
      ]
    },
    {
      "cell_type": "markdown",
      "source": [
        "Топовый работодатель с отрывом - Яндекс"
      ],
      "metadata": {
        "id": "UWNQc4W9_fzj"
      }
    },
    {
      "cell_type": "markdown",
      "source": [
        "## График работы"
      ],
      "metadata": {
        "id": "NkY7tcpUFBI1"
      }
    },
    {
      "cell_type": "code",
      "source": [
        "# Преобразуем строковый тип данных в словарь\n",
        "\n",
        "def shed_name(row):\n",
        "  try:\n",
        "    n = eval(row) \n",
        "    x = n['name'] # Выбираем название графика работы из словаря\n",
        "    return x\n",
        "  except:\n",
        "    return ''\n",
        "\n",
        "# Переносим название в новый столбец\n",
        "df['shed_name'] = df['schedule'].apply(shed_name)"
      ],
      "metadata": {
        "id": "M1qINuVlmwfQ"
      },
      "execution_count": null,
      "outputs": []
    },
    {
      "cell_type": "code",
      "source": [
        "# Значения графика работы\n",
        "\n",
        "df['shed_name'].value_counts()"
      ],
      "metadata": {
        "colab": {
          "base_uri": "https://localhost:8080/"
        },
        "id": "S7FaA2mnKbhF",
        "outputId": "b87a7ec4-c834-4928-baa8-e76147f89723"
      },
      "execution_count": null,
      "outputs": [
        {
          "output_type": "execute_result",
          "data": {
            "text/plain": [
              "Полный день         51933\n",
              "Удаленная работа    10021\n",
              "Гибкий график        3751\n",
              "Сменный график       1308\n",
              "Вахтовый метод        224\n",
              "Name: shed_name, dtype: int64"
            ]
          },
          "metadata": {},
          "execution_count": 178
        }
      ]
    },
    {
      "cell_type": "code",
      "source": [
        "# Построим круговую диаграмму опыта работы\n",
        "\n",
        "plt.style.use('seaborn')\n",
        "plt.title('График работы')\n",
        "plt.pie(df['shed_name'].value_counts().values, autopct='%0.1f%%')\n",
        "plt.legend(bbox_to_anchor = (-0.25, 0.45, 0.25, 0.25), labels = df['shed_name'].value_counts().index)\n",
        "plt.show()"
      ],
      "metadata": {
        "colab": {
          "base_uri": "https://localhost:8080/",
          "height": 346
        },
        "id": "tWA8Cfl3Kpot",
        "outputId": "1e9bea9b-a5c8-4753-de93-2c010d134a9b"
      },
      "execution_count": null,
      "outputs": [
        {
          "output_type": "display_data",
          "data": {
            "text/plain": [
              "<Figure size 576x396 with 1 Axes>"
            ],
            "image/png": "[encoded data removed]"
          },
          "metadata": {}
        }
      ]
    },
    {
      "cell_type": "markdown",
      "source": [
        "Преимущественное требование в вакансиях к графику работы - Полный рабочий день"
      ],
      "metadata": {
        "id": "LtqJvsbI_qDL"
      }
    },
    {
      "cell_type": "markdown",
      "source": [
        "## Опыт работы"
      ],
      "metadata": {
        "id": "hryKL4xLhBGj"
      }
    },
    {
      "cell_type": "code",
      "source": [
        "# Преобразуем строковый тип данных в словарь\n",
        "\n",
        "df['experience'] = df['experience'].apply(eval)"
      ],
      "metadata": {
        "id": "jWRGKFQkhVrO"
      },
      "execution_count": null,
      "outputs": []
    },
    {
      "cell_type": "code",
      "source": [
        "# Выбираем название опыта работы из словаря\n",
        "\n",
        "df['exp_name'] = df['experience'].apply(lambda row: row['name'])"
      ],
      "metadata": {
        "id": "Yur7-Al9h_y1"
      },
      "execution_count": null,
      "outputs": []
    },
    {
      "cell_type": "code",
      "source": [
        "# Значения требуемого опыта работы\n",
        "\n",
        "df['exp_name'].value_counts()"
      ],
      "metadata": {
        "colab": {
          "base_uri": "https://localhost:8080/"
        },
        "id": "vExe0syJi7eA",
        "outputId": "90228a99-e16e-40c7-950b-25fb7b46cc3c"
      },
      "execution_count": null,
      "outputs": [
        {
          "output_type": "execute_result",
          "data": {
            "text/plain": [
              "От 1 года до 3 лет    34529\n",
              "От 3 до 6 лет         19304\n",
              "Нет опыта             11319\n",
              "Более 6 лет            2085\n",
              "Name: exp_name, dtype: int64"
            ]
          },
          "metadata": {},
          "execution_count": 182
        }
      ]
    },
    {
      "cell_type": "code",
      "source": [
        "# Построим круговую диаграмму опыта работы\n",
        "\n",
        "plt.style.use('seaborn')\n",
        "plt.title('Опыт работы')\n",
        "plt.pie(df['exp_name'].value_counts().values, autopct='%1.0f%%')\n",
        "plt.legend(bbox_to_anchor = (-0.25, 0.45, 0.25, 0.25), labels = df['exp_name'].value_counts().index)\n",
        "plt.show()"
      ],
      "metadata": {
        "colab": {
          "base_uri": "https://localhost:8080/",
          "height": 346
        },
        "id": "ZnKTkg_bjFFj",
        "outputId": "2267c365-37bd-48b3-d14f-2b237b2a6b97"
      },
      "execution_count": null,
      "outputs": [
        {
          "output_type": "display_data",
          "data": {
            "text/plain": [
              "<Figure size 576x396 with 1 Axes>"
            ],
            "image/png": "[encoded data removed]"
          },
          "metadata": {}
        }
      ]
    },
    {
      "cell_type": "markdown",
      "source": [
        "Наиболее востребованны специалисты с опытом работы от 1 года до 6 лет"
      ],
      "metadata": {
        "id": "AGC_kZxa_4Ub"
      }
    },
    {
      "cell_type": "markdown",
      "source": [
        "## Ключевые навыки"
      ],
      "metadata": {
        "id": "7DdDfrbPj8Fb"
      }
    },
    {
      "cell_type": "code",
      "source": [
        "# Создадим функцию преобразования строки в список ключевых навыков\n",
        "\n",
        "def skills_name(row):\n",
        "  try:\n",
        "    lst = []\n",
        "    n = eval(row) # преобразуем строку в список словарей\n",
        "    for i in n:\n",
        "      lst.append(i['name']) # Извлекаем названия навыков из словарей и добавляем их в новый список\n",
        "    return lst\n",
        "  except:\n",
        "    return []\n",
        "\n",
        "# Применяем список в новый столбец\n",
        "\n",
        "df['skill_name'] = df['key_skills'].apply(skills_name)"
      ],
      "metadata": {
        "id": "A5GL49u0j-31"
      },
      "execution_count": null,
      "outputs": []
    },
    {
      "cell_type": "code",
      "source": [
        "# Разворачиваем значения в столбце ключевых навыков\n",
        "dx_skl = df.explode('skill_name')\n",
        "\n",
        "# Выводим ТОП 10 ключевых навыков\n",
        "dx_skl['skill_name'].value_counts()[:10]"
      ],
      "metadata": {
        "colab": {
          "base_uri": "https://localhost:8080/"
        },
        "id": "UYn9Y7w6lg9D",
        "outputId": "5cf54a08-18b9-4b23-fbf9-9403e8510984"
      },
      "execution_count": null,
      "outputs": [
        {
          "output_type": "execute_result",
          "data": {
            "text/plain": [
              "SQL                     6287\n",
              "Linux                   4836\n",
              "Git                     4439\n",
              "Английский язык         3874\n",
              "Работа в команде        3421\n",
              "Управление проектами    3412\n",
              "Python                  3140\n",
              "JavaScript              2684\n",
              "1С программирование     2581\n",
              "PostgreSQL              2466\n",
              "Name: skill_name, dtype: int64"
            ]
          },
          "metadata": {},
          "execution_count": 221
        }
      ]
    },
    {
      "cell_type": "code",
      "source": [
        "# Диаграма ТОП 10 скилов\n",
        "\n",
        "plt.style.use('seaborn')\n",
        "plt.title('Ключевые навыки')\n",
        "plt.bar(dx_skl['skill_name'].value_counts()[:10].index, dx_skl['skill_name'].value_counts()[:10].values)\n",
        "plt.xticks(rotation=30, ha='right')\n",
        "plt.show()"
      ],
      "metadata": {
        "colab": {
          "base_uri": "https://localhost:8080/",
          "height": 415
        },
        "id": "oM9aAbzAmCDT",
        "outputId": "c1de312d-5024-470d-db52-78491a4dd430"
      },
      "execution_count": null,
      "outputs": [
        {
          "output_type": "display_data",
          "data": {
            "text/plain": [
              "<Figure size 576x396 with 1 Axes>"
            ],
            "image/png": "[encoded data removed]"
          },
          "metadata": {}
        }
      ]
    },
    {
      "cell_type": "markdown",
      "source": [
        "Самые популярные Hard-skills: знание SQL, Linux, Git, Python"
      ],
      "metadata": {
        "id": "tPqpiMPOAXfL"
      }
    },
    {
      "cell_type": "markdown",
      "source": [
        "## Специальности и проф область"
      ],
      "metadata": {
        "id": "RbeQltZ2nDUs"
      }
    },
    {
      "cell_type": "code",
      "source": [
        "# Создадим функцию извлечения названия специальности в новый список\n",
        "\n",
        "def sp_name(row):\n",
        "  try:\n",
        "    lst = []\n",
        "    n = eval(row) # преобразуем строку в список словарей\n",
        "    for i in n:\n",
        "      lst.append(i['name']) # Извлекаем названия специальностей из словарей и добавляем их в новый список\n",
        "    return lst\n",
        "  except:\n",
        "    return []\n",
        "\n",
        "# Применяем список в новый столбец\n",
        "df['sp_name'] = df['specializations'].apply(sp_name)"
      ],
      "metadata": {
        "id": "HbAx-fkSnYNL"
      },
      "execution_count": null,
      "outputs": []
    },
    {
      "cell_type": "code",
      "source": [
        "# Создадим функцию извлечения названия профессиональной области в новый список\n",
        "\n",
        "def sp_pname(row):\n",
        "  try:\n",
        "    lst = []\n",
        "    n = eval(row) # преобразуем строку в список словарей\n",
        "    for i in n:\n",
        "      lst.append(i['profarea_name']) # Извлекаем названия профессиональной области из словарей и добавляем их в новый список\n",
        "    return lst\n",
        "  except:\n",
        "    return []\n",
        "\n",
        "# Применяем список в новый столбец\n",
        "df['sp_pname'] = df['specializations'].apply(sp_pname)"
      ],
      "metadata": {
        "id": "qH1JM8K_laW_"
      },
      "execution_count": null,
      "outputs": []
    },
    {
      "cell_type": "code",
      "source": [
        "# Развернем значения в столбцах специальности и проф область\n",
        "\n",
        "dx_sp = df.explode('sp_name')\n",
        "dx_prf = df.explode('sp_pname')"
      ],
      "metadata": {
        "id": "rh-NkQBPCbL3"
      },
      "execution_count": null,
      "outputs": []
    },
    {
      "cell_type": "code",
      "source": [
        "# Диаграма ТОП 10 специцальностей\n",
        "\n",
        "plt.style.use('seaborn')\n",
        "plt.title('Специальности')\n",
        "plt.barh(dx_sp['sp_name'].value_counts()[:10].index, dx_sp['sp_name'].value_counts()[:10].values)\n",
        "plt.show()"
      ],
      "metadata": {
        "colab": {
          "base_uri": "https://localhost:8080/",
          "height": 362
        },
        "id": "00GkIRELBuu-",
        "outputId": "3ad36fe2-2bf4-4e28-c5a0-4b644e61055d"
      },
      "execution_count": null,
      "outputs": [
        {
          "output_type": "display_data",
          "data": {
            "text/plain": [
              "<Figure size 576x396 with 1 Axes>"
            ],
            "image/png": "[encoded data removed]"
          },
          "metadata": {}
        }
      ]
    },
    {
      "cell_type": "code",
      "source": [
        "# Диаграма ТОП 10 проф областей\n",
        "\n",
        "plt.style.use('seaborn')\n",
        "plt.title('Специальности')\n",
        "plt.barh(dx_prf['sp_pname'].value_counts()[:10].index, dx_prf['sp_pname'].value_counts()[:10].values)\n",
        "plt.show()"
      ],
      "metadata": {
        "colab": {
          "base_uri": "https://localhost:8080/",
          "height": 362
        },
        "id": "ubRMBY6UDJr_",
        "outputId": "7b3a9d1b-db9e-47fe-c56c-c569ede2ff18"
      },
      "execution_count": null,
      "outputs": [
        {
          "output_type": "display_data",
          "data": {
            "text/plain": [
              "<Figure size 576x396 with 1 Axes>"
            ],
            "image/png": "[encoded data removed]"
          },
          "metadata": {}
        }
      ]
    },
    {
      "cell_type": "markdown",
      "source": [
        "> Уберем из датасета вакансии по профессиональным областям, не имеющим отношения к IT сфере"
      ],
      "metadata": {
        "id": "-JEgZ5HdAmyk"
      }
    },
    {
      "cell_type": "code",
      "source": [
        "# Создадим фильтр по содержанию проф области \"Информационные технологии, интернет, телеком\"\n",
        "it = df['sp_pname'].apply(lambda row: 'Информационные технологии, интернет, телеком' in row)\n",
        "\n",
        "# Применим фильтр к датасету\n",
        "df = df[it]"
      ],
      "metadata": {
        "id": "k-yDFkgyAyBb"
      },
      "execution_count": null,
      "outputs": []
    },
    {
      "cell_type": "markdown",
      "source": [
        "## Итоговый обработанный датасет"
      ],
      "metadata": {
        "id": "0OsDFe13FQT1"
      }
    },
    {
      "cell_type": "code",
      "source": [
        "df.columns"
      ],
      "metadata": {
        "colab": {
          "base_uri": "https://localhost:8080/"
        },
        "id": "aY5C2f0GNgVl",
        "outputId": "540927dd-1a2b-4e77-b4cb-d60f9be306d2"
      },
      "execution_count": null,
      "outputs": [
        {
          "output_type": "execute_result",
          "data": {
            "text/plain": [
              "Index(['name', 'area', 'region', 'salary', 'employer', 'schedule',\n",
              "       'experience', 'key_skills', 'specializations', 'city', 'salary_from',\n",
              "       'salary_to', 'currency', 'gross', 'salary_mean', 'emp_name',\n",
              "       'shed_name', 'exp_name', 'skill_name', 'sp_name', 'sp_pname'],\n",
              "      dtype='object')"
            ]
          },
          "metadata": {},
          "execution_count": 223
        }
      ]
    },
    {
      "cell_type": "code",
      "source": [
        "# Составим копию датасета из преобразованных данных\n",
        "\n",
        "df_clr = df[['name', 'city', 'region', 'salary_from', 'salary_to', 'salary_mean', 'exp_name', 'shed_name', 'skill_name', 'sp_name', 'sp_pname', 'emp_name']]\n",
        "df_clr.sample(4)"
      ],
      "metadata": {
        "colab": {
          "base_uri": "https://localhost:8080/",
          "height": 323
        },
        "id": "-kNFav8khJ9y",
        "outputId": "fc121f87-7c71-453e-ad86-0d8aa50e0b99"
      },
      "execution_count": null,
      "outputs": [
        {
          "output_type": "execute_result",
          "data": {
            "text/plain": [
              "                                                    name        city  \\\n",
              "37888                                   Java-разработчик      Тюмень   \n",
              "33121                              Аналитик (интеграция)  Красноярск   \n",
              "11685                   QA Security Engineer / Pentester      Москва   \n",
              "68624  Специалист отдела информационных систем и ресу...    Кемерово   \n",
              "\n",
              "                    region  salary_from  salary_to  salary_mean  \\\n",
              "37888    Тюменская область          NaN        NaN          NaN   \n",
              "33121    Красноярский край          NaN        NaN          NaN   \n",
              "11685               Москва     220000.0        NaN     220000.0   \n",
              "68624  Кемеровская область      30000.0    40000.0      35000.0   \n",
              "\n",
              "                 exp_name         shed_name  \\\n",
              "37888       От 3 до 6 лет       Полный день   \n",
              "33121  От 1 года до 3 лет  Удаленная работа   \n",
              "11685  От 1 года до 3 лет  Удаленная работа   \n",
              "68624           Нет опыта       Полный день   \n",
              "\n",
              "                                              skill_name  \\\n",
              "37888  [Spring Framework, Git, Java, Apache Maven, Re...   \n",
              "33121  [UML, SQL, Системный анализ, Английский язык, ...   \n",
              "11685  [Linux, Java, Английский язык, REST, AWS, OWAS...   \n",
              "68624                                                 []   \n",
              "\n",
              "                                                 sp_name  \\\n",
              "37888  [Программирование, Разработка, Системы управле...   \n",
              "33121               [Другое, Аналитик, Аналитик, Другое]   \n",
              "11685  [Компьютерная безопасность, Сетевые технологии...   \n",
              "68624  [Компьютерная безопасность, Сетевые технологии...   \n",
              "\n",
              "                                                sp_pname  \\\n",
              "37888  [Информационные технологии, интернет, телеком,...   \n",
              "33121  [Продажи, Информационные технологии, интернет,...   \n",
              "11685  [Информационные технологии, интернет, телеком,...   \n",
              "68624  [Информационные технологии, интернет, телеком,...   \n",
              "\n",
              "                             emp_name  \n",
              "37888                         НОВАТЭК  \n",
              "33121  РУСАЛ, Центр подбора персонала  \n",
              "11685                  Лидекс Системс  \n",
              "68624                ГКУ ЦИТ КУЗБАССА  "
            ],
            "text/html": [
              "\n",
              "  <div id=\"df-faccc84f-2197-4e96-bed5-7ec5bdd5825a\">\n",
              "    <div class=\"colab-df-container\">\n",
              "      <div>\n",
              "<style scoped>\n",
              "    .dataframe tbody tr th:only-of-type {\n",
              "        vertical-align: middle;\n",
              "    }\n",
              "\n",
              "    .dataframe tbody tr th {\n",
              "        vertical-align: top;\n",
              "    }\n",
              "\n",
              "    .dataframe thead th {\n",
              "        text-align: right;\n",
              "    }\n",
              "</style>\n",
              "<table border=\"1\" class=\"dataframe\">\n",
              "  <thead>\n",
              "    <tr style=\"text-align: right;\">\n",
              "      <th></th>\n",
              "      <th>name</th>\n",
              "      <th>city</th>\n",
              "      <th>region</th>\n",
              "      <th>salary_from</th>\n",
              "      <th>salary_to</th>\n",
              "      <th>salary_mean</th>\n",
              "      <th>exp_name</th>\n",
              "      <th>shed_name</th>\n",
              "      <th>skill_name</th>\n",
              "      <th>sp_name</th>\n",
              "      <th>sp_pname</th>\n",
              "      <th>emp_name</th>\n",
              "    </tr>\n",
              "  </thead>\n",
              "  <tbody>\n",
              "    <tr>\n",
              "      <th>37888</th>\n",
              "      <td>Java-разработчик</td>\n",
              "      <td>Тюмень</td>\n",
              "      <td>Тюменская область</td>\n",
              "      <td>NaN</td>\n",
              "      <td>NaN</td>\n",
              "      <td>NaN</td>\n",
              "      <td>От 3 до 6 лет</td>\n",
              "      <td>Полный день</td>\n",
              "      <td>[Spring Framework, Git, Java, Apache Maven, Re...</td>\n",
              "      <td>[Программирование, Разработка, Системы управле...</td>\n",
              "      <td>[Информационные технологии, интернет, телеком,...</td>\n",
              "      <td>НОВАТЭК</td>\n",
              "    </tr>\n",
              "    <tr>\n",
              "      <th>33121</th>\n",
              "      <td>Аналитик (интеграция)</td>\n",
              "      <td>Красноярск</td>\n",
              "      <td>Красноярский край</td>\n",
              "      <td>NaN</td>\n",
              "      <td>NaN</td>\n",
              "      <td>NaN</td>\n",
              "      <td>От 1 года до 3 лет</td>\n",
              "      <td>Удаленная работа</td>\n",
              "      <td>[UML, SQL, Системный анализ, Английский язык, ...</td>\n",
              "      <td>[Другое, Аналитик, Аналитик, Другое]</td>\n",
              "      <td>[Продажи, Информационные технологии, интернет,...</td>\n",
              "      <td>РУСАЛ, Центр подбора персонала</td>\n",
              "    </tr>\n",
              "    <tr>\n",
              "      <th>11685</th>\n",
              "      <td>QA Security Engineer / Pentester</td>\n",
              "      <td>Москва</td>\n",
              "      <td>Москва</td>\n",
              "      <td>220000.0</td>\n",
              "      <td>NaN</td>\n",
              "      <td>220000.0</td>\n",
              "      <td>От 1 года до 3 лет</td>\n",
              "      <td>Удаленная работа</td>\n",
              "      <td>[Linux, Java, Английский язык, REST, AWS, OWAS...</td>\n",
              "      <td>[Компьютерная безопасность, Сетевые технологии...</td>\n",
              "      <td>[Информационные технологии, интернет, телеком,...</td>\n",
              "      <td>Лидекс Системс</td>\n",
              "    </tr>\n",
              "    <tr>\n",
              "      <th>68624</th>\n",
              "      <td>Специалист отдела информационных систем и ресу...</td>\n",
              "      <td>Кемерово</td>\n",
              "      <td>Кемеровская область</td>\n",
              "      <td>30000.0</td>\n",
              "      <td>40000.0</td>\n",
              "      <td>35000.0</td>\n",
              "      <td>Нет опыта</td>\n",
              "      <td>Полный день</td>\n",
              "      <td>[]</td>\n",
              "      <td>[Компьютерная безопасность, Сетевые технологии...</td>\n",
              "      <td>[Информационные технологии, интернет, телеком,...</td>\n",
              "      <td>ГКУ ЦИТ КУЗБАССА</td>\n",
              "    </tr>\n",
              "  </tbody>\n",
              "</table>\n",
              "</div>\n",
              "      <button class=\"colab-df-convert\" onclick=\"convertToInteractive('df-faccc84f-2197-4e96-bed5-7ec5bdd5825a')\"\n",
              "              title=\"Convert this dataframe to an interactive table.\"\n",
              "              style=\"display:none;\">\n",
              "        \n",
              "  <svg xmlns=\"http://www.w3.org/2000/svg\" height=\"24px\"viewBox=\"0 0 24 24\"\n",
              "       width=\"24px\">\n",
              "    <path d=\"M0 0h24v24H0V0z\" fill=\"none\"/>\n",
              "    <path d=\"M18.56 5.44l.94 2.06.94-2.06 2.06-.94-2.06-.94-.94-2.06-.94 2.06-2.06.94zm-11 1L8.5 8.5l.94-2.06 2.06-.94-2.06-.94L8.5 2.5l-.94 2.06-2.06.94zm10 10l.94 2.06.94-2.06 2.06-.94-2.06-.94-.94-2.06-.94 2.06-2.06.94z\"/><path d=\"M17.41 7.96l-1.37-1.37c-.4-.4-.92-.59-1.43-.59-.52 0-1.04.2-1.43.59L10.3 9.45l-7.72 7.72c-.78.78-.78 2.05 0 2.83L4 21.41c.39.39.9.59 1.41.59.51 0 1.02-.2 1.41-.59l7.78-7.78 2.81-2.81c.8-.78.8-2.07 0-2.86zM5.41 20L4 18.59l7.72-7.72 1.47 1.35L5.41 20z\"/>\n",
              "  </svg>\n",
              "      </button>\n",
              "      \n",
              "  <style>\n",
              "    .colab-df-container {\n",
              "      display:flex;\n",
              "      flex-wrap:wrap;\n",
              "      gap: 12px;\n",
              "    }\n",
              "\n",
              "    .colab-df-convert {\n",
              "      background-color: #E8F0FE;\n",
              "      border: none;\n",
              "      border-radius: 50%;\n",
              "      cursor: pointer;\n",
              "      display: none;\n",
              "      fill: #1967D2;\n",
              "      height: 32px;\n",
              "      padding: 0 0 0 0;\n",
              "      width: 32px;\n",
              "    }\n",
              "\n",
              "    .colab-df-convert:hover {\n",
              "      background-color: #E2EBFA;\n",
              "      box-shadow: 0px 1px 2px rgba(60, 64, 67, 0.3), 0px 1px 3px 1px rgba(60, 64, 67, 0.15);\n",
              "      fill: #174EA6;\n",
              "    }\n",
              "\n",
              "    [theme=dark] .colab-df-convert {\n",
              "      background-color: #3B4455;\n",
              "      fill: #D2E3FC;\n",
              "    }\n",
              "\n",
              "    [theme=dark] .colab-df-convert:hover {\n",
              "      background-color: #434B5C;\n",
              "      box-shadow: 0px 1px 3px 1px rgba(0, 0, 0, 0.15);\n",
              "      filter: drop-shadow(0px 1px 2px rgba(0, 0, 0, 0.3));\n",
              "      fill: #FFFFFF;\n",
              "    }\n",
              "  </style>\n",
              "\n",
              "      <script>\n",
              "        const buttonEl =\n",
              "          document.querySelector('#df-faccc84f-2197-4e96-bed5-7ec5bdd5825a button.colab-df-convert');\n",
              "        buttonEl.style.display =\n",
              "          google.colab.kernel.accessAllowed ? 'block' : 'none';\n",
              "\n",
              "        async function convertToInteractive(key) {\n",
              "          const element = document.querySelector('#df-faccc84f-2197-4e96-bed5-7ec5bdd5825a');\n",
              "          const dataTable =\n",
              "            await google.colab.kernel.invokeFunction('convertToInteractive',\n",
              "                                                     [key], {});\n",
              "          if (!dataTable) return;\n",
              "\n",
              "          const docLinkHtml = 'Like what you see? Visit the ' +\n",
              "            '<a target=\"_blank\" href=https://colab.research.google.com/notebooks/data_table.ipynb>data table notebook</a>'\n",
              "            + ' to learn more about interactive tables.';\n",
              "          element.innerHTML = '';\n",
              "          dataTable['output_type'] = 'display_data';\n",
              "          await google.colab.output.renderOutput(dataTable, element);\n",
              "          const docLink = document.createElement('div');\n",
              "          docLink.innerHTML = docLinkHtml;\n",
              "          element.appendChild(docLink);\n",
              "        }\n",
              "      </script>\n",
              "    </div>\n",
              "  </div>\n",
              "  "
            ]
          },
          "metadata": {},
          "execution_count": 224
        }
      ]
    },
    {
      "cell_type": "markdown",
      "source": [
        "# 3. Взаимосвязь колонок"
      ],
      "metadata": {
        "id": "1jO1X2mOtZhN"
      }
    },
    {
      "cell_type": "markdown",
      "source": [
        "## Связь двух числовых переменных"
      ],
      "metadata": {
        "id": "mSwY6czXubKF"
      }
    },
    {
      "cell_type": "code",
      "source": [
        "ds_to = df[df['salary_to'].notna()]"
      ],
      "metadata": {
        "id": "grXGjhQuvC3F"
      },
      "execution_count": null,
      "outputs": []
    },
    {
      "cell_type": "code",
      "source": [
        "ds_to[['salary_from', 'salary_to']].describe().astype(int)"
      ],
      "metadata": {
        "colab": {
          "base_uri": "https://localhost:8080/",
          "height": 300
        },
        "id": "kWxm7HE5wjot",
        "outputId": "455f3ef4-1416-49a7-eae3-94112ef1a887"
      },
      "execution_count": null,
      "outputs": [
        {
          "output_type": "execute_result",
          "data": {
            "text/plain": [
              "       salary_from  salary_to\n",
              "count         9048      11356\n",
              "mean         73983     111268\n",
              "std          48851      75199\n",
              "min             30      17400\n",
              "25%          38000      50000\n",
              "50%          60000      87000\n",
              "75%         100000     150000\n",
              "max         290300     500000"
            ],
            "text/html": [
              "\n",
              "  <div id=\"df-131ccaea-86ce-4e19-ab10-8e08c2daf732\">\n",
              "    <div class=\"colab-df-container\">\n",
              "      <div>\n",
              "<style scoped>\n",
              "    .dataframe tbody tr th:only-of-type {\n",
              "        vertical-align: middle;\n",
              "    }\n",
              "\n",
              "    .dataframe tbody tr th {\n",
              "        vertical-align: top;\n",
              "    }\n",
              "\n",
              "    .dataframe thead th {\n",
              "        text-align: right;\n",
              "    }\n",
              "</style>\n",
              "<table border=\"1\" class=\"dataframe\">\n",
              "  <thead>\n",
              "    <tr style=\"text-align: right;\">\n",
              "      <th></th>\n",
              "      <th>salary_from</th>\n",
              "      <th>salary_to</th>\n",
              "    </tr>\n",
              "  </thead>\n",
              "  <tbody>\n",
              "    <tr>\n",
              "      <th>count</th>\n",
              "      <td>9048</td>\n",
              "      <td>11356</td>\n",
              "    </tr>\n",
              "    <tr>\n",
              "      <th>mean</th>\n",
              "      <td>73983</td>\n",
              "      <td>111268</td>\n",
              "    </tr>\n",
              "    <tr>\n",
              "      <th>std</th>\n",
              "      <td>48851</td>\n",
              "      <td>75199</td>\n",
              "    </tr>\n",
              "    <tr>\n",
              "      <th>min</th>\n",
              "      <td>30</td>\n",
              "      <td>17400</td>\n",
              "    </tr>\n",
              "    <tr>\n",
              "      <th>25%</th>\n",
              "      <td>38000</td>\n",
              "      <td>50000</td>\n",
              "    </tr>\n",
              "    <tr>\n",
              "      <th>50%</th>\n",
              "      <td>60000</td>\n",
              "      <td>87000</td>\n",
              "    </tr>\n",
              "    <tr>\n",
              "      <th>75%</th>\n",
              "      <td>100000</td>\n",
              "      <td>150000</td>\n",
              "    </tr>\n",
              "    <tr>\n",
              "      <th>max</th>\n",
              "      <td>290300</td>\n",
              "      <td>500000</td>\n",
              "    </tr>\n",
              "  </tbody>\n",
              "</table>\n",
              "</div>\n",
              "      <button class=\"colab-df-convert\" onclick=\"convertToInteractive('df-131ccaea-86ce-4e19-ab10-8e08c2daf732')\"\n",
              "              title=\"Convert this dataframe to an interactive table.\"\n",
              "              style=\"display:none;\">\n",
              "        \n",
              "  <svg xmlns=\"http://www.w3.org/2000/svg\" height=\"24px\"viewBox=\"0 0 24 24\"\n",
              "       width=\"24px\">\n",
              "    <path d=\"M0 0h24v24H0V0z\" fill=\"none\"/>\n",
              "    <path d=\"M18.56 5.44l.94 2.06.94-2.06 2.06-.94-2.06-.94-.94-2.06-.94 2.06-2.06.94zm-11 1L8.5 8.5l.94-2.06 2.06-.94-2.06-.94L8.5 2.5l-.94 2.06-2.06.94zm10 10l.94 2.06.94-2.06 2.06-.94-2.06-.94-.94-2.06-.94 2.06-2.06.94z\"/><path d=\"M17.41 7.96l-1.37-1.37c-.4-.4-.92-.59-1.43-.59-.52 0-1.04.2-1.43.59L10.3 9.45l-7.72 7.72c-.78.78-.78 2.05 0 2.83L4 21.41c.39.39.9.59 1.41.59.51 0 1.02-.2 1.41-.59l7.78-7.78 2.81-2.81c.8-.78.8-2.07 0-2.86zM5.41 20L4 18.59l7.72-7.72 1.47 1.35L5.41 20z\"/>\n",
              "  </svg>\n",
              "      </button>\n",
              "      \n",
              "  <style>\n",
              "    .colab-df-container {\n",
              "      display:flex;\n",
              "      flex-wrap:wrap;\n",
              "      gap: 12px;\n",
              "    }\n",
              "\n",
              "    .colab-df-convert {\n",
              "      background-color: #E8F0FE;\n",
              "      border: none;\n",
              "      border-radius: 50%;\n",
              "      cursor: pointer;\n",
              "      display: none;\n",
              "      fill: #1967D2;\n",
              "      height: 32px;\n",
              "      padding: 0 0 0 0;\n",
              "      width: 32px;\n",
              "    }\n",
              "\n",
              "    .colab-df-convert:hover {\n",
              "      background-color: #E2EBFA;\n",
              "      box-shadow: 0px 1px 2px rgba(60, 64, 67, 0.3), 0px 1px 3px 1px rgba(60, 64, 67, 0.15);\n",
              "      fill: #174EA6;\n",
              "    }\n",
              "\n",
              "    [theme=dark] .colab-df-convert {\n",
              "      background-color: #3B4455;\n",
              "      fill: #D2E3FC;\n",
              "    }\n",
              "\n",
              "    [theme=dark] .colab-df-convert:hover {\n",
              "      background-color: #434B5C;\n",
              "      box-shadow: 0px 1px 3px 1px rgba(0, 0, 0, 0.15);\n",
              "      filter: drop-shadow(0px 1px 2px rgba(0, 0, 0, 0.3));\n",
              "      fill: #FFFFFF;\n",
              "    }\n",
              "  </style>\n",
              "\n",
              "      <script>\n",
              "        const buttonEl =\n",
              "          document.querySelector('#df-131ccaea-86ce-4e19-ab10-8e08c2daf732 button.colab-df-convert');\n",
              "        buttonEl.style.display =\n",
              "          google.colab.kernel.accessAllowed ? 'block' : 'none';\n",
              "\n",
              "        async function convertToInteractive(key) {\n",
              "          const element = document.querySelector('#df-131ccaea-86ce-4e19-ab10-8e08c2daf732');\n",
              "          const dataTable =\n",
              "            await google.colab.kernel.invokeFunction('convertToInteractive',\n",
              "                                                     [key], {});\n",
              "          if (!dataTable) return;\n",
              "\n",
              "          const docLinkHtml = 'Like what you see? Visit the ' +\n",
              "            '<a target=\"_blank\" href=https://colab.research.google.com/notebooks/data_table.ipynb>data table notebook</a>'\n",
              "            + ' to learn more about interactive tables.';\n",
              "          element.innerHTML = '';\n",
              "          dataTable['output_type'] = 'display_data';\n",
              "          await google.colab.output.renderOutput(dataTable, element);\n",
              "          const docLink = document.createElement('div');\n",
              "          docLink.innerHTML = docLinkHtml;\n",
              "          element.appendChild(docLink);\n",
              "        }\n",
              "      </script>\n",
              "    </div>\n",
              "  </div>\n",
              "  "
            ]
          },
          "metadata": {},
          "execution_count": 226
        }
      ]
    },
    {
      "cell_type": "code",
      "source": [
        "scp = sns.scatterplot(x=ds_to[\"salary_from\"], y=ds_to[\"salary_to\"], alpha=0.2)\n",
        "scp.set_title('Зависимость максимальной зарплаты от минимальной', fontsize=18)\n",
        "scp.set_xlabel('Зарплата \"от\"')\n",
        "scp.set_ylabel('Зарплата \"до\"')\n",
        "plt.show()"
      ],
      "metadata": {
        "colab": {
          "base_uri": "https://localhost:8080/",
          "height": 381
        },
        "id": "JyrDw0uWxbe1",
        "outputId": "e7872d66-b222-4ae4-aefb-c6cd10131a47"
      },
      "execution_count": null,
      "outputs": [
        {
          "output_type": "display_data",
          "data": {
            "text/plain": [
              "<Figure size 576x396 with 1 Axes>"
            ],
            "image/png": "[encoded data removed]"
          },
          "metadata": {}
        }
      ]
    },
    {
      "cell_type": "markdown",
      "source": [
        "На графике визуально наблюдается зависимость максимальной зарплаты от минимальной"
      ],
      "metadata": {
        "id": "tZqhXz3_ZeY1"
      }
    },
    {
      "cell_type": "markdown",
      "source": [
        "## Связь числовой и категориальной переменной"
      ],
      "metadata": {
        "id": "cQvfRK53x_b9"
      }
    },
    {
      "cell_type": "markdown",
      "source": [
        "> Взаимосвязь опыта работы и средней зарплаты"
      ],
      "metadata": {
        "id": "Yefnhsr5ax3t"
      }
    },
    {
      "cell_type": "code",
      "source": [
        "# Сгруппируем значения средней ЗП по опыту работы\n",
        "\n",
        "exp_describe = df.groupby('exp_name')['salary_mean']\n",
        "exp_describe.describe().astype(int)"
      ],
      "metadata": {
        "id": "9gb7ngbFyHq6",
        "colab": {
          "base_uri": "https://localhost:8080/",
          "height": 206
        },
        "outputId": "d4045f79-334b-466b-e4e3-65dfd6924573"
      },
      "execution_count": null,
      "outputs": [
        {
          "output_type": "execute_result",
          "data": {
            "text/plain": [
              "                    count    mean    std    min    25%     50%     75%     max\n",
              "exp_name                                                                      \n",
              "Более 6 лет           474  142361  64193  20000  90000  135000  197850  295800\n",
              "Нет опыта            3390   44991  28055  17400  27000   36975   52200  270000\n",
              "От 1 года до 3 лет  11656   81195  49992  17400  44193   67194  100000  290000\n",
              "От 3 до 6 лет        5632  129049  64060  17400  78300  120000  174000  295800"
            ],
            "text/html": [
              "\n",
              "  <div id=\"df-6eaee731-9910-44b3-95f3-bf2b5a66fcea\">\n",
              "    <div class=\"colab-df-container\">\n",
              "      <div>\n",
              "<style scoped>\n",
              "    .dataframe tbody tr th:only-of-type {\n",
              "        vertical-align: middle;\n",
              "    }\n",
              "\n",
              "    .dataframe tbody tr th {\n",
              "        vertical-align: top;\n",
              "    }\n",
              "\n",
              "    .dataframe thead th {\n",
              "        text-align: right;\n",
              "    }\n",
              "</style>\n",
              "<table border=\"1\" class=\"dataframe\">\n",
              "  <thead>\n",
              "    <tr style=\"text-align: right;\">\n",
              "      <th></th>\n",
              "      <th>count</th>\n",
              "      <th>mean</th>\n",
              "      <th>std</th>\n",
              "      <th>min</th>\n",
              "      <th>25%</th>\n",
              "      <th>50%</th>\n",
              "      <th>75%</th>\n",
              "      <th>max</th>\n",
              "    </tr>\n",
              "    <tr>\n",
              "      <th>exp_name</th>\n",
              "      <th></th>\n",
              "      <th></th>\n",
              "      <th></th>\n",
              "      <th></th>\n",
              "      <th></th>\n",
              "      <th></th>\n",
              "      <th></th>\n",
              "      <th></th>\n",
              "    </tr>\n",
              "  </thead>\n",
              "  <tbody>\n",
              "    <tr>\n",
              "      <th>Более 6 лет</th>\n",
              "      <td>474</td>\n",
              "      <td>142361</td>\n",
              "      <td>64193</td>\n",
              "      <td>20000</td>\n",
              "      <td>90000</td>\n",
              "      <td>135000</td>\n",
              "      <td>197850</td>\n",
              "      <td>295800</td>\n",
              "    </tr>\n",
              "    <tr>\n",
              "      <th>Нет опыта</th>\n",
              "      <td>3390</td>\n",
              "      <td>44991</td>\n",
              "      <td>28055</td>\n",
              "      <td>17400</td>\n",
              "      <td>27000</td>\n",
              "      <td>36975</td>\n",
              "      <td>52200</td>\n",
              "      <td>270000</td>\n",
              "    </tr>\n",
              "    <tr>\n",
              "      <th>От 1 года до 3 лет</th>\n",
              "      <td>11656</td>\n",
              "      <td>81195</td>\n",
              "      <td>49992</td>\n",
              "      <td>17400</td>\n",
              "      <td>44193</td>\n",
              "      <td>67194</td>\n",
              "      <td>100000</td>\n",
              "      <td>290000</td>\n",
              "    </tr>\n",
              "    <tr>\n",
              "      <th>От 3 до 6 лет</th>\n",
              "      <td>5632</td>\n",
              "      <td>129049</td>\n",
              "      <td>64060</td>\n",
              "      <td>17400</td>\n",
              "      <td>78300</td>\n",
              "      <td>120000</td>\n",
              "      <td>174000</td>\n",
              "      <td>295800</td>\n",
              "    </tr>\n",
              "  </tbody>\n",
              "</table>\n",
              "</div>\n",
              "      <button class=\"colab-df-convert\" onclick=\"convertToInteractive('df-6eaee731-9910-44b3-95f3-bf2b5a66fcea')\"\n",
              "              title=\"Convert this dataframe to an interactive table.\"\n",
              "              style=\"display:none;\">\n",
              "        \n",
              "  <svg xmlns=\"http://www.w3.org/2000/svg\" height=\"24px\"viewBox=\"0 0 24 24\"\n",
              "       width=\"24px\">\n",
              "    <path d=\"M0 0h24v24H0V0z\" fill=\"none\"/>\n",
              "    <path d=\"M18.56 5.44l.94 2.06.94-2.06 2.06-.94-2.06-.94-.94-2.06-.94 2.06-2.06.94zm-11 1L8.5 8.5l.94-2.06 2.06-.94-2.06-.94L8.5 2.5l-.94 2.06-2.06.94zm10 10l.94 2.06.94-2.06 2.06-.94-2.06-.94-.94-2.06-.94 2.06-2.06.94z\"/><path d=\"M17.41 7.96l-1.37-1.37c-.4-.4-.92-.59-1.43-.59-.52 0-1.04.2-1.43.59L10.3 9.45l-7.72 7.72c-.78.78-.78 2.05 0 2.83L4 21.41c.39.39.9.59 1.41.59.51 0 1.02-.2 1.41-.59l7.78-7.78 2.81-2.81c.8-.78.8-2.07 0-2.86zM5.41 20L4 18.59l7.72-7.72 1.47 1.35L5.41 20z\"/>\n",
              "  </svg>\n",
              "      </button>\n",
              "      \n",
              "  <style>\n",
              "    .colab-df-container {\n",
              "      display:flex;\n",
              "      flex-wrap:wrap;\n",
              "      gap: 12px;\n",
              "    }\n",
              "\n",
              "    .colab-df-convert {\n",
              "      background-color: #E8F0FE;\n",
              "      border: none;\n",
              "      border-radius: 50%;\n",
              "      cursor: pointer;\n",
              "      display: none;\n",
              "      fill: #1967D2;\n",
              "      height: 32px;\n",
              "      padding: 0 0 0 0;\n",
              "      width: 32px;\n",
              "    }\n",
              "\n",
              "    .colab-df-convert:hover {\n",
              "      background-color: #E2EBFA;\n",
              "      box-shadow: 0px 1px 2px rgba(60, 64, 67, 0.3), 0px 1px 3px 1px rgba(60, 64, 67, 0.15);\n",
              "      fill: #174EA6;\n",
              "    }\n",
              "\n",
              "    [theme=dark] .colab-df-convert {\n",
              "      background-color: #3B4455;\n",
              "      fill: #D2E3FC;\n",
              "    }\n",
              "\n",
              "    [theme=dark] .colab-df-convert:hover {\n",
              "      background-color: #434B5C;\n",
              "      box-shadow: 0px 1px 3px 1px rgba(0, 0, 0, 0.15);\n",
              "      filter: drop-shadow(0px 1px 2px rgba(0, 0, 0, 0.3));\n",
              "      fill: #FFFFFF;\n",
              "    }\n",
              "  </style>\n",
              "\n",
              "      <script>\n",
              "        const buttonEl =\n",
              "          document.querySelector('#df-6eaee731-9910-44b3-95f3-bf2b5a66fcea button.colab-df-convert');\n",
              "        buttonEl.style.display =\n",
              "          google.colab.kernel.accessAllowed ? 'block' : 'none';\n",
              "\n",
              "        async function convertToInteractive(key) {\n",
              "          const element = document.querySelector('#df-6eaee731-9910-44b3-95f3-bf2b5a66fcea');\n",
              "          const dataTable =\n",
              "            await google.colab.kernel.invokeFunction('convertToInteractive',\n",
              "                                                     [key], {});\n",
              "          if (!dataTable) return;\n",
              "\n",
              "          const docLinkHtml = 'Like what you see? Visit the ' +\n",
              "            '<a target=\"_blank\" href=https://colab.research.google.com/notebooks/data_table.ipynb>data table notebook</a>'\n",
              "            + ' to learn more about interactive tables.';\n",
              "          element.innerHTML = '';\n",
              "          dataTable['output_type'] = 'display_data';\n",
              "          await google.colab.output.renderOutput(dataTable, element);\n",
              "          const docLink = document.createElement('div');\n",
              "          docLink.innerHTML = docLinkHtml;\n",
              "          element.appendChild(docLink);\n",
              "        }\n",
              "      </script>\n",
              "    </div>\n",
              "  </div>\n",
              "  "
            ]
          },
          "metadata": {},
          "execution_count": 228
        }
      ]
    },
    {
      "cell_type": "code",
      "source": [
        "# Выведем график boxplot средних зарплат по всем группам опыта\n",
        "\n",
        "grs = sns.boxplot(x='exp_name', y='salary_mean', data=df)\n",
        "plt.axis(ymin = 0, ymax = 310000)\n",
        "grs.axes.set_title('Зависимость зарплаты от опыта работы' , fontsize=14)\n",
        "grs.set_xlabel('Опыт работы', fontsize=12)\n",
        "grs.set_ylabel('Средняя зарплата', fontsize=12)\n",
        "plt.show()"
      ],
      "metadata": {
        "colab": {
          "base_uri": "https://localhost:8080/",
          "height": 381
        },
        "id": "DbNd3uh9cjyd",
        "outputId": "1fe6ca41-8961-494c-fee0-7a8368d2ddde"
      },
      "execution_count": null,
      "outputs": [
        {
          "output_type": "display_data",
          "data": {
            "text/plain": [
              "<Figure size 576x396 with 1 Axes>"
            ],
            "image/png": "[encoded data removed]"
          },
          "metadata": {}
        }
      ]
    },
    {
      "cell_type": "markdown",
      "source": [
        "Визуально наблюдается рост средних значений ЗП с ростом опыта работы"
      ],
      "metadata": {
        "id": "QLOtjwGrE0CS"
      }
    },
    {
      "cell_type": "markdown",
      "source": [
        "> Взаимосвязь графика работы и средней зарплаты"
      ],
      "metadata": {
        "id": "wtyB1OcgeFSt"
      }
    },
    {
      "cell_type": "code",
      "source": [
        "# Сгруппируем значения средней ЗП по графику работы\n",
        "\n",
        "shed_describe = df.groupby('shed_name')['salary_mean']\n",
        "shed_describe.describe().astype(int)"
      ],
      "metadata": {
        "colab": {
          "base_uri": "https://localhost:8080/",
          "height": 238
        },
        "outputId": "981319aa-77fd-45a0-906c-b557e5a4018c",
        "id": "nYjRnQZ7eFSz"
      },
      "execution_count": null,
      "outputs": [
        {
          "output_type": "execute_result",
          "data": {
            "text/plain": [
              "                  count    mean    std    min    25%     50%     75%     max\n",
              "shed_name                                                                   \n",
              "Вахтовый метод       51  117232  52165  40000  64195  130000  147500  252950\n",
              "Гибкий график       742  107375  64645  17400  52200  100000  150000  286230\n",
              "Полный день       15669   83902  54144  17400  43500   69600  107000  295800\n",
              "Сменный график      574   52196  23423  19575  34800   45000   65000  190000\n",
              "Удаленная работа   4116  112474  71926  17400  43500  100000  165000  295800"
            ],
            "text/html": [
              "\n",
              "  <div id=\"df-b63f1408-f9fa-4100-8293-404808972ecc\">\n",
              "    <div class=\"colab-df-container\">\n",
              "      <div>\n",
              "<style scoped>\n",
              "    .dataframe tbody tr th:only-of-type {\n",
              "        vertical-align: middle;\n",
              "    }\n",
              "\n",
              "    .dataframe tbody tr th {\n",
              "        vertical-align: top;\n",
              "    }\n",
              "\n",
              "    .dataframe thead th {\n",
              "        text-align: right;\n",
              "    }\n",
              "</style>\n",
              "<table border=\"1\" class=\"dataframe\">\n",
              "  <thead>\n",
              "    <tr style=\"text-align: right;\">\n",
              "      <th></th>\n",
              "      <th>count</th>\n",
              "      <th>mean</th>\n",
              "      <th>std</th>\n",
              "      <th>min</th>\n",
              "      <th>25%</th>\n",
              "      <th>50%</th>\n",
              "      <th>75%</th>\n",
              "      <th>max</th>\n",
              "    </tr>\n",
              "    <tr>\n",
              "      <th>shed_name</th>\n",
              "      <th></th>\n",
              "      <th></th>\n",
              "      <th></th>\n",
              "      <th></th>\n",
              "      <th></th>\n",
              "      <th></th>\n",
              "      <th></th>\n",
              "      <th></th>\n",
              "    </tr>\n",
              "  </thead>\n",
              "  <tbody>\n",
              "    <tr>\n",
              "      <th>Вахтовый метод</th>\n",
              "      <td>51</td>\n",
              "      <td>117232</td>\n",
              "      <td>52165</td>\n",
              "      <td>40000</td>\n",
              "      <td>64195</td>\n",
              "      <td>130000</td>\n",
              "      <td>147500</td>\n",
              "      <td>252950</td>\n",
              "    </tr>\n",
              "    <tr>\n",
              "      <th>Гибкий график</th>\n",
              "      <td>742</td>\n",
              "      <td>107375</td>\n",
              "      <td>64645</td>\n",
              "      <td>17400</td>\n",
              "      <td>52200</td>\n",
              "      <td>100000</td>\n",
              "      <td>150000</td>\n",
              "      <td>286230</td>\n",
              "    </tr>\n",
              "    <tr>\n",
              "      <th>Полный день</th>\n",
              "      <td>15669</td>\n",
              "      <td>83902</td>\n",
              "      <td>54144</td>\n",
              "      <td>17400</td>\n",
              "      <td>43500</td>\n",
              "      <td>69600</td>\n",
              "      <td>107000</td>\n",
              "      <td>295800</td>\n",
              "    </tr>\n",
              "    <tr>\n",
              "      <th>Сменный график</th>\n",
              "      <td>574</td>\n",
              "      <td>52196</td>\n",
              "      <td>23423</td>\n",
              "      <td>19575</td>\n",
              "      <td>34800</td>\n",
              "      <td>45000</td>\n",
              "      <td>65000</td>\n",
              "      <td>190000</td>\n",
              "    </tr>\n",
              "    <tr>\n",
              "      <th>Удаленная работа</th>\n",
              "      <td>4116</td>\n",
              "      <td>112474</td>\n",
              "      <td>71926</td>\n",
              "      <td>17400</td>\n",
              "      <td>43500</td>\n",
              "      <td>100000</td>\n",
              "      <td>165000</td>\n",
              "      <td>295800</td>\n",
              "    </tr>\n",
              "  </tbody>\n",
              "</table>\n",
              "</div>\n",
              "      <button class=\"colab-df-convert\" onclick=\"convertToInteractive('df-b63f1408-f9fa-4100-8293-404808972ecc')\"\n",
              "              title=\"Convert this dataframe to an interactive table.\"\n",
              "              style=\"display:none;\">\n",
              "        \n",
              "  <svg xmlns=\"http://www.w3.org/2000/svg\" height=\"24px\"viewBox=\"0 0 24 24\"\n",
              "       width=\"24px\">\n",
              "    <path d=\"M0 0h24v24H0V0z\" fill=\"none\"/>\n",
              "    <path d=\"M18.56 5.44l.94 2.06.94-2.06 2.06-.94-2.06-.94-.94-2.06-.94 2.06-2.06.94zm-11 1L8.5 8.5l.94-2.06 2.06-.94-2.06-.94L8.5 2.5l-.94 2.06-2.06.94zm10 10l.94 2.06.94-2.06 2.06-.94-2.06-.94-.94-2.06-.94 2.06-2.06.94z\"/><path d=\"M17.41 7.96l-1.37-1.37c-.4-.4-.92-.59-1.43-.59-.52 0-1.04.2-1.43.59L10.3 9.45l-7.72 7.72c-.78.78-.78 2.05 0 2.83L4 21.41c.39.39.9.59 1.41.59.51 0 1.02-.2 1.41-.59l7.78-7.78 2.81-2.81c.8-.78.8-2.07 0-2.86zM5.41 20L4 18.59l7.72-7.72 1.47 1.35L5.41 20z\"/>\n",
              "  </svg>\n",
              "      </button>\n",
              "      \n",
              "  <style>\n",
              "    .colab-df-container {\n",
              "      display:flex;\n",
              "      flex-wrap:wrap;\n",
              "      gap: 12px;\n",
              "    }\n",
              "\n",
              "    .colab-df-convert {\n",
              "      background-color: #E8F0FE;\n",
              "      border: none;\n",
              "      border-radius: 50%;\n",
              "      cursor: pointer;\n",
              "      display: none;\n",
              "      fill: #1967D2;\n",
              "      height: 32px;\n",
              "      padding: 0 0 0 0;\n",
              "      width: 32px;\n",
              "    }\n",
              "\n",
              "    .colab-df-convert:hover {\n",
              "      background-color: #E2EBFA;\n",
              "      box-shadow: 0px 1px 2px rgba(60, 64, 67, 0.3), 0px 1px 3px 1px rgba(60, 64, 67, 0.15);\n",
              "      fill: #174EA6;\n",
              "    }\n",
              "\n",
              "    [theme=dark] .colab-df-convert {\n",
              "      background-color: #3B4455;\n",
              "      fill: #D2E3FC;\n",
              "    }\n",
              "\n",
              "    [theme=dark] .colab-df-convert:hover {\n",
              "      background-color: #434B5C;\n",
              "      box-shadow: 0px 1px 3px 1px rgba(0, 0, 0, 0.15);\n",
              "      filter: drop-shadow(0px 1px 2px rgba(0, 0, 0, 0.3));\n",
              "      fill: #FFFFFF;\n",
              "    }\n",
              "  </style>\n",
              "\n",
              "      <script>\n",
              "        const buttonEl =\n",
              "          document.querySelector('#df-b63f1408-f9fa-4100-8293-404808972ecc button.colab-df-convert');\n",
              "        buttonEl.style.display =\n",
              "          google.colab.kernel.accessAllowed ? 'block' : 'none';\n",
              "\n",
              "        async function convertToInteractive(key) {\n",
              "          const element = document.querySelector('#df-b63f1408-f9fa-4100-8293-404808972ecc');\n",
              "          const dataTable =\n",
              "            await google.colab.kernel.invokeFunction('convertToInteractive',\n",
              "                                                     [key], {});\n",
              "          if (!dataTable) return;\n",
              "\n",
              "          const docLinkHtml = 'Like what you see? Visit the ' +\n",
              "            '<a target=\"_blank\" href=https://colab.research.google.com/notebooks/data_table.ipynb>data table notebook</a>'\n",
              "            + ' to learn more about interactive tables.';\n",
              "          element.innerHTML = '';\n",
              "          dataTable['output_type'] = 'display_data';\n",
              "          await google.colab.output.renderOutput(dataTable, element);\n",
              "          const docLink = document.createElement('div');\n",
              "          docLink.innerHTML = docLinkHtml;\n",
              "          element.appendChild(docLink);\n",
              "        }\n",
              "      </script>\n",
              "    </div>\n",
              "  </div>\n",
              "  "
            ]
          },
          "metadata": {},
          "execution_count": 230
        }
      ]
    },
    {
      "cell_type": "code",
      "source": [
        "# Выведем график boxplot средних зарплат по всем группам опыта\n",
        "\n",
        "grs = sns.boxplot(x='shed_name', y='salary_mean', data=df)\n",
        "plt.axis(ymin = 0, ymax = 310000)\n",
        "grs.axes.set_title('Зависимость зарплаты от графика работы' , fontsize=14)\n",
        "grs.set_xlabel('График работы', fontsize=12)\n",
        "grs.set_ylabel('Средняя зарплата', fontsize=12)\n",
        "plt.show()"
      ],
      "metadata": {
        "colab": {
          "base_uri": "https://localhost:8080/",
          "height": 382
        },
        "outputId": "ab99fe66-fb69-43f9-bff0-88462be2d041",
        "id": "Hl4fRUIaeFSz"
      },
      "execution_count": null,
      "outputs": [
        {
          "output_type": "display_data",
          "data": {
            "text/plain": [
              "<Figure size 576x396 with 1 Axes>"
            ],
            "image/png": "[encoded data removed]"
          },
          "metadata": {}
        }
      ]
    },
    {
      "cell_type": "markdown",
      "source": [
        "## Связь двух категориальных переменных"
      ],
      "metadata": {
        "id": "NYQaOIE1aXL9"
      }
    },
    {
      "cell_type": "code",
      "source": [
        "# Выведем ТОП 5 ключевых навыков\n",
        "\n",
        "dx_skl['skill_name'].value_counts()[:5]"
      ],
      "metadata": {
        "colab": {
          "base_uri": "https://localhost:8080/"
        },
        "id": "3qETpQnxpY1U",
        "outputId": "b30f052b-6974-4b51-b3c2-8a47029340de"
      },
      "execution_count": null,
      "outputs": [
        {
          "output_type": "execute_result",
          "data": {
            "text/plain": [
              "SQL                 6287\n",
              "Linux               4836\n",
              "Git                 4439\n",
              "Английский язык     3874\n",
              "Работа в команде    3421\n",
              "Name: skill_name, dtype: int64"
            ]
          },
          "metadata": {},
          "execution_count": 232
        }
      ]
    },
    {
      "cell_type": "code",
      "source": [
        "# Сформируем список из названий ТОП 5 ключевых навыков\n",
        "\n",
        "top_label = list(dx_skl['skill_name'].value_counts()[:5].index)"
      ],
      "metadata": {
        "id": "wPKLXdSIox6H"
      },
      "execution_count": null,
      "outputs": []
    },
    {
      "cell_type": "code",
      "source": [
        "df_top5_skills = dx_skl[dx_skl['skill_name'].isin(top_label)]"
      ],
      "metadata": {
        "id": "J_7kk0pIgy4V"
      },
      "execution_count": null,
      "outputs": []
    },
    {
      "cell_type": "code",
      "source": [
        "# Сформируем список из значений опыта работы\n",
        "\n",
        "exp_list = df_top5_skills['exp_name'].unique()"
      ],
      "metadata": {
        "id": "hc2h4XxesNVO"
      },
      "execution_count": null,
      "outputs": []
    },
    {
      "cell_type": "code",
      "source": [
        "# Выведем диаграммы ключевых навыков в зависимости от опыта работы\n",
        "\n",
        "for i in exp_list:\n",
        "  n = df_top5_skills[df_top5_skills['exp_name'] == i]\n",
        "  top_sk = n['skill_name'].value_counts()\n",
        "  plt.title(i)\n",
        "  plt.pie(top_sk.values, labels=top_sk.index, autopct='%1.0f%%')\n",
        "  plt.show()"
      ],
      "metadata": {
        "colab": {
          "base_uri": "https://localhost:8080/",
          "height": 1000
        },
        "id": "rSkZf_hPrsAX",
        "outputId": "7e28c106-2000-4d5a-efe6-3605e4c049a5"
      },
      "execution_count": null,
      "outputs": [
        {
          "output_type": "display_data",
          "data": {
            "text/plain": [
              "<Figure size 576x396 with 1 Axes>"
            ],
            "image/png": "[encoded data removed]"
          },
          "metadata": {}
        },
        {
          "output_type": "display_data",
          "data": {
            "text/plain": [
              "<Figure size 576x396 with 1 Axes>"
            ],
            "image/png": "[encoded data removed]"
          },
          "metadata": {}
        },
        {
          "output_type": "display_data",
          "data": {
            "text/plain": [
              "<Figure size 576x396 with 1 Axes>"
            ],
            "image/png": "[encoded data removed]"
          },
          "metadata": {}
        },
        {
          "output_type": "display_data",
          "data": {
            "text/plain": [
              "<Figure size 576x396 with 1 Axes>"
            ],
            "image/png": "[encoded data removed]"
          },
          "metadata": {}
        }
      ]
    },
    {
      "cell_type": "markdown",
      "source": [
        "По мере увеличения опыта работы, меняются и требуемые ключевые навыки специалиста"
      ],
      "metadata": {
        "id": "58GdaYEhFpRk"
      }
    },
    {
      "cell_type": "markdown",
      "source": [
        "#  ВЫВОДЫ ИССЛЕДОВАНИЯ:\n",
        "\n",
        "В результате проведенной работы ответили на все вопросы задания по разделу стажировки EDA:\n",
        "\n",
        "1. Изучили датасет, определил его размер. Нашел повторяющиеся строки и удалил. Определил количество пропусков по определенным столбцам\n",
        "2. Выбрали необходимые для анализа колонки (столбцы) таблицы\n",
        "3. Привели все колонки к типу данных, удобных для анализа, обработали пропуски. По нечисловым данным выяснили топ 10 значений в каждой колонке, по числовым describe основных статистических показателей.\n",
        "4. Построили графики по ключевым показателям каждой колонки, а также их взаимосвязям\n",
        "\n",
        "Сделали следующие выводы:\n",
        "\n",
        "1) Самыми востребованными вакансиями являются Системный администратор, Программист 1С, Специалист технической поддержки\n",
        "\n",
        "2) Значения средней зарплаты по всем вакансиям составляют 83581 руб. Медианное значение равно 65 000 руб. Заметное отклонение среднего показателя от медианного обусловлено большим количеством выбросов.\n",
        "\n",
        "3) Наиболее востребованными специалистами являются специалисты с опытом работы от 1 года до 6-ти лет.\n",
        "\n",
        "4) Наибольшее количество вакансий с графиком на полный день работы, хотя наиболее оплачиваемые графики работы - удаленно и гибкий график\n",
        "\n",
        "5) Самые популярные Hard-skills: знание SQL, Linux, Git, Python\n",
        "\n",
        "6) По количеству вакансий компания работодатель лидирует с заметным отрывом от остальных компаний\n",
        "\n",
        "7) С помощью графического анализа определили связь минимальной зарплаты с максимальной, а также различие в топ 5 ключевых навыков для разного опыта работы"
      ],
      "metadata": {
        "id": "BCiAp7Xw7G9_"
      }
    },
    {
      "cell_type": "code",
      "source": [
        "writer = pd.ExcelWriter('file.xlsx') # write dataframe to excel \n",
        "df_clr.to_excel(writer) # save the excel \n",
        "writer.save()"
      ],
      "metadata": {
        "id": "Sw_t8irPrVgX"
      },
      "execution_count": null,
      "outputs": []
    }
  ]
}