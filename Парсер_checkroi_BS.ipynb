{
  "nbformat": 4,
  "nbformat_minor": 0,
  "metadata": {
    "colab": {
      "provenance": [],
      "authorship_tag": "ABX9TyO385oSHuLHjVbgT/pfSPY+",
      "include_colab_link": true
    },
    "kernelspec": {
      "name": "python3",
      "display_name": "Python 3"
    },
    "language_info": {
      "name": "python"
    }
  },
  "cells": [
    {
      "cell_type": "markdown",
      "metadata": {
        "id": "view-in-github",
        "colab_type": "text"
      },
      "source": [
        "<a href=\"https://colab.research.google.com/github/ArtemDorofeev/IT-education-project/blob/main/%D0%9F%D0%B0%D1%80%D1%81%D0%B5%D1%80_checkroi_BS.ipynb\" target=\"_parent\"><img src=\"https://colab.research.google.com/assets/colab-badge.svg\" alt=\"Open In Colab\"/></a>"
      ]
    },
    {
      "cell_type": "code",
      "source": [
        "!pip install bs4"
      ],
      "metadata": {
        "colab": {
          "base_uri": "https://localhost:8080/"
        },
        "id": "S-8auURcjU2j",
        "outputId": "c293cb9c-d53a-420b-ab38-7cd48b39cbed"
      },
      "execution_count": null,
      "outputs": [
        {
          "output_type": "stream",
          "name": "stdout",
          "text": [
            "Looking in indexes: https://pypi.org/simple, https://us-python.pkg.dev/colab-wheels/public/simple/\n",
            "Requirement already satisfied: bs4 in /usr/local/lib/python3.7/dist-packages (0.0.1)\n",
            "Requirement already satisfied: beautifulsoup4 in /usr/local/lib/python3.7/dist-packages (from bs4) (4.6.3)\n"
          ]
        }
      ]
    },
    {
      "cell_type": "code",
      "source": [
        "!pip install lxml"
      ],
      "metadata": {
        "id": "-B7uBvBWqwp9",
        "outputId": "64c19890-cb0e-404a-8b38-6e658e7d30f8",
        "colab": {
          "base_uri": "https://localhost:8080/"
        }
      },
      "execution_count": null,
      "outputs": [
        {
          "output_type": "stream",
          "name": "stdout",
          "text": [
            "Looking in indexes: https://pypi.org/simple, https://us-python.pkg.dev/colab-wheels/public/simple/\n",
            "Requirement already satisfied: lxml in /usr/local/lib/python3.7/dist-packages (4.9.1)\n"
          ]
        }
      ]
    },
    {
      "cell_type": "code",
      "source": [
        "import requests\n",
        "from bs4 import BeautifulSoup\n",
        "import lxml\n",
        "\n",
        "#URL = \"https://checkroi.ru/napravlenie/analitika/page/{}\"\n",
        "# или\n",
        "URL = \"https://checkroi.ru/napravlenie/programmirovanie/page/{}\"\n",
        "\n",
        "# Убрать '#' перед адресом, который нужно парсить"
      ],
      "metadata": {
        "id": "HrBj7n52Yf48"
      },
      "execution_count": null,
      "outputs": []
    },
    {
      "cell_type": "code",
      "source": [
        "# Формируем суп-объект\n",
        "\n",
        "def get_soup(page):\n",
        "  session = requests.session()\n",
        "  session.headers = {\n",
        "        \"User-Agent\": \"Mozilla/5.0 (Windows NT 10.0; Win64; x64) AppleWebKit/537.36 (KHTML, like Gecko) Chrome/107.0.0.0 Safari/537.36\",\n",
        "        \"Accept-language\": \"ru-RU,ru;q=0.9,en-US;q=0.8,en;q=0.7\"\n",
        "  }\n",
        "\n",
        "  res = session.get(URL.format(page))\n",
        "  html = res.text\n",
        "  soup = BeautifulSoup(html, \"lxml\")\n",
        "  return soup\n"
      ],
      "metadata": {
        "id": "LciRoDScHDZS"
      },
      "execution_count": null,
      "outputs": []
    },
    {
      "cell_type": "code",
      "source": [
        "# Собираем все характеристики курса\n",
        "\n",
        "def get_cource_info(cart):\n",
        "\n",
        "  # Выбираем название курса\n",
        "  name_obj = cart.select_one('a.title')\n",
        "  if name_obj.get_text():\n",
        "    name = name_obj.get_text()\n",
        "  else:\n",
        "    name ='None'\n",
        "\n",
        "  # Выбираем категорию специальности\n",
        "  category_obj = cart.select_one('div.pa_kategoriya')\n",
        "  if category_obj.get_text():\n",
        "    category = category_obj.get_text()\n",
        "  else:\n",
        "    category ='None'\n",
        "\n",
        "  # Выбираем продолжительность курса\n",
        "  lng_obj = cart.select_one('div.long')\n",
        "  if lng_obj.get_text():\n",
        "    lng = lng_obj.get_text()\n",
        "  else:\n",
        "    lng ='None'\n",
        "\n",
        "  # Выбираем стоимость курса\n",
        "  price_obj = cart.select_one('div.price')\n",
        "  if price_obj.get_text():\n",
        "    price = price_obj.get_text()\n",
        "  else:\n",
        "    price ='None'\n",
        "  \n",
        "  # Выбираем рейтинг курса\n",
        "  cource_rate_rev_obj = cart.select_one('div.rating')\n",
        "  if cource_rate_rev_obj.get_text():\n",
        "    cource_rate_rev = cource_rate_rev_obj.get_text()\n",
        "  else:\n",
        "    cource_rate_rev ='None'\n",
        "  \n",
        "  # Выбираем рейтинг школы\n",
        "  rate_obj = cart.select_one('div.rating-count')\n",
        "  if rate_obj.get_text():\n",
        "    rate = rate_obj.get_text()\n",
        "  else:\n",
        "    rate ='None'\n",
        "\n",
        "  # Выбираем количество отзывов школы\n",
        "  review_obj = cart.select_one('a.comments')\n",
        "  if review_obj.get_text():\n",
        "    review = review_obj.get_text()\n",
        "  else:\n",
        "    review ='None'\n",
        "\n",
        "  # Выбираем выдаваемый документ\n",
        "  doc_obj = cart.select_one('div.vydaetsya-diplom-sertifikat')\n",
        "  if doc_obj.get_text():\n",
        "    doc = doc_obj.get_text()\n",
        "  else:\n",
        "    doc ='her'\n",
        "\n",
        "  # Выбираем формат проведения занятий\n",
        "  format_obj = cart.select_one('div.format-obucheniya')\n",
        "  if format_obj.get_text():\n",
        "    format = format_obj.get_text()\n",
        "  else:\n",
        "    format ='None'\n",
        "\n",
        "  # Вытаскиваем внутренний суп из карточки\n",
        "  link = name_obj.get('href')\n",
        "\n",
        "  session = requests.session()\n",
        "  session.headers = {\n",
        "        \"User-Agent\": \"Mozilla/5.0 (Windows NT 10.0; Win64; x64) AppleWebKit/537.36 (KHTML, like Gecko) Chrome/107.0.0.0 Safari/537.36\",\n",
        "        \"Accept-language\": \"ru-RU,ru;q=0.9,en-US;q=0.8,en;q=0.7\"\n",
        "  }\n",
        "\n",
        "  res_in = session.get(link)\n",
        "  html_in = res_in.text\n",
        "  soup_in = BeautifulSoup(html_in, \"lxml\")\n",
        "\n",
        "  # Ключевые навыки, опыт и стек технологий\n",
        "  level = soup_in.select(\"tr.woocommerce-product-attributes-item.woocommerce-product-attributes-item--attribute_pa_uroven td p a\")\n",
        "  key_skills = soup_in.select(\"tr.attribute_row.attribute_row_chemu-nauchites-na-kurse tr.woocommerce-product-attributes-item.woocommerce-product-attributes-item--attribute_pa_chemu-nauchites td p a\")\n",
        "  key_stecks = soup_in.select(\"tr.woocommerce-product-attributes-item.woocommerce-product-attributes-item--attribute_pa_tehnologii td p a\")\n",
        "  \n",
        "  result_dic = {\n",
        "      'name': name,\n",
        "      'category': category,\n",
        "      'long': lng,\n",
        "      'level': level,\n",
        "      'key_skills': key_skills,\n",
        "      'key_stecks': key_stecks,\n",
        "      'price': price,\n",
        "      'cource_rate_rev': cource_rate_rev,\n",
        "      'review': review,\n",
        "      'rate': rate,\n",
        "      'diploma': doc,\n",
        "      'format': format\n",
        "  }\n",
        "  return result_dic\n",
        "\n"
      ],
      "metadata": {
        "id": "OgzLrlF1jHGm"
      },
      "execution_count": null,
      "outputs": []
    },
    {
      "cell_type": "code",
      "source": [
        "# Собираем список курсов на странице\n",
        "\n",
        "def get_books_info(soup):\n",
        "  list_carts = soup.select_one(\"div.columns-3.products.col_wrap_three.rh-flex-eq-height.woogridrev\")\n",
        "  cart_all = list_carts.select(\"div.item_product__card\")\n",
        "  result = []\n",
        "  # Проходимся по каждой карточке и достаем из нее информацию\n",
        "  for x in cart_all:\n",
        "    result.append(get_cource_info(x))\n",
        "  return result\n",
        "\n"
      ],
      "metadata": {
        "id": "RetMPkzfLKN7"
      },
      "execution_count": null,
      "outputs": []
    },
    {
      "cell_type": "code",
      "source": [
        "import time\n",
        "\n",
        "\n",
        "# 1. Цикл по страницам\n",
        "# 2. Получить исходный код\n",
        "# 3. Сварить суп из исходного кода\n",
        "# 4. Получить информацию о книгах\n",
        "\n",
        "result = []\n",
        "# # Цикл по количеству страниц (надо смотреть на сайте сколько!!!)\n",
        "for page in range(1, 19):\n",
        "#   Перерыв между запросами\n",
        "  time.sleep(3)\n",
        "  soup = get_soup(page)\n",
        "# Получаем информацию о книгах\n",
        "  course_info = get_books_info(soup)\n",
        "# Записываем в result получившуюся инфу о книгах на страниц\n",
        "  result = result + course_info\n",
        "\n",
        "\n",
        "\n"
      ],
      "metadata": {
        "id": "rkrmlYzEzlGo"
      },
      "execution_count": null,
      "outputs": []
    },
    {
      "cell_type": "code",
      "source": [
        "# записываем результат парсинга в csv файлы\n",
        "\n",
        "import csv\n",
        "\n",
        "with open(\"courses_prog_full.csv\", \"w\") as f:\n",
        "  writer = csv.DictWriter(f, result[0].keys())\n",
        "  writer.writeheader()\n",
        "  for r in result:\n",
        "    writer.writerow(r)"
      ],
      "metadata": {
        "id": "0PdBfXyfL4kq"
      },
      "execution_count": null,
      "outputs": []
    },
    {
      "cell_type": "code",
      "execution_count": null,
      "metadata": {
        "id": "9ylGP8BaYb2e"
      },
      "outputs": [],
      "source": [
        "# Объеденяем полученные csv\n",
        "\n",
        "import pandas as pd\n",
        "import glob"
      ]
    },
    {
      "cell_type": "code",
      "source": [
        "files = glob.glob('*.csv')"
      ],
      "metadata": {
        "id": "nxG_4RJTZI9U"
      },
      "execution_count": null,
      "outputs": []
    },
    {
      "cell_type": "code",
      "source": [
        "# Объединяем\n",
        "courses_full = pd.DataFrame()\n",
        "\n",
        "for file in files:\n",
        "    data = pd.read_csv(file)\n",
        "    data['filename'] = file\n",
        "    courses_full = pd.concat([courses_full, data])"
      ],
      "metadata": {
        "id": "iIH6kTUDZN7T"
      },
      "execution_count": null,
      "outputs": []
    },
    {
      "cell_type": "code",
      "source": [
        "courses_full.info()"
      ],
      "metadata": {
        "id": "3g0Q2LhoaJVc"
      },
      "execution_count": null,
      "outputs": []
    },
    {
      "cell_type": "code",
      "source": [
        "# Записываем объедененные csv в итоговый Excel\n",
        "\n",
        "writer = pd.ExcelWriter('dataset_courses.xlsx') # write dataframe to excel \n",
        "courses_full.to_excel(writer) # save the excel \n",
        "writer.save()"
      ],
      "metadata": {
        "id": "FLssxE6NbRXs"
      },
      "execution_count": null,
      "outputs": []
    }
  ]
}