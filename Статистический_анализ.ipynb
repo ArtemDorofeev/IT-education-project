{
  "nbformat": 4,
  "nbformat_minor": 0,
  "metadata": {
    "colab": {
      "provenance": [],
      "collapsed_sections": [
        "y9tKstabbtaJ",
        "lCyUR7TgdNr8",
        "WrSHTNWvdWkz",
        "mmUnRP8Me-I8",
        "Qr9nuJ1shH8l",
        "rGI9qBrZiR6F",
        "EtU4de4J-xWb",
        "TZ36iRipFTfJ",
        "Q5JZ0swFMnAN",
        "lPfsFlLnNq8m",
        "3UAryuhSaDli",
        "fir-fd_qFgsf",
        "jpsdei5Nzi5b",
        "3A4Lg_3ELNFS",
        "g-J2hmJtOefN",
        "9mIOB5_pSNnd"
      ],
      "authorship_tag": "ABX9TyP5/ntUQri2PiKzZHnghpl/",
      "include_colab_link": true
    },
    "kernelspec": {
      "name": "python3",
      "display_name": "Python 3"
    },
    "language_info": {
      "name": "python"
    }
  },
  "cells": [
    {
      "cell_type": "markdown",
      "metadata": {
        "id": "view-in-github",
        "colab_type": "text"
      },
      "source": [
        "<a href=\"https://colab.research.google.com/github/ArtemDorofeev/IT-education-project/blob/main/%D0%A1%D1%82%D0%B0%D1%82%D0%B8%D1%81%D1%82%D0%B8%D1%87%D0%B5%D1%81%D0%BA%D0%B8%D0%B9_%D0%B0%D0%BD%D0%B0%D0%BB%D0%B8%D0%B7.ipynb\" target=\"_parent\"><img src=\"https://colab.research.google.com/assets/colab-badge.svg\" alt=\"Open In Colab\"/></a>"
      ]
    },
    {
      "cell_type": "markdown",
      "metadata": {
        "id": "y9tKstabbtaJ"
      },
      "source": [
        "# Загрузка данных и подключение библиотек"
      ]
    },
    {
      "cell_type": "code",
      "execution_count": null,
      "metadata": {
        "colab": {
          "base_uri": "https://localhost:8080/"
        },
        "id": "_4k5ZCgflZ8N",
        "outputId": "6ad551bd-e573-4d55-d30d-489cbd460c2e"
      },
      "outputs": [
        {
          "output_type": "stream",
          "name": "stdout",
          "text": [
            "/usr/local/lib/python3.7/dist-packages/gdown/cli.py:131: FutureWarning: Option `--id` was deprecated in version 4.3.1 and will be removed in 5.0. You don't need to pass it anymore to use a file ID.\n",
            "  category=FutureWarning,\n",
            "Downloading...\n",
            "From: https://drive.google.com/uc?id=1djl09wsFTZOzYORDXbm5easK0ELzndAP\n",
            "To: /content/data_statistics.xlsx\n",
            "100% 5.60M/5.60M [00:00<00:00, 238MB/s]\n"
          ]
        }
      ],
      "source": [
        "# # Подключаем загрузку файла датасета с Гугл Диска и нужные библиотеки\n",
        "\n",
        "!gdown --id 1djl09wsFTZOzYORDXbm5easK0ELzndAP\n",
        "import numpy as np\n",
        "import pandas as pd\n",
        "import matplotlib.pyplot as plt\n",
        "import scipy\n",
        "import scipy.stats as stats\n",
        "import seaborn as sns\n",
        "import sklearn.linear_model as lm\n",
        "import statsmodels.api as sm\n",
        "import statsmodels.formula.api as smf"
      ]
    },
    {
      "cell_type": "code",
      "execution_count": null,
      "metadata": {
        "colab": {
          "base_uri": "https://localhost:8080/",
          "height": 206
        },
        "id": "SUALyHWNmPPa",
        "outputId": "3195a3af-5637-4b72-c0e5-fb8b076ed9c6"
      },
      "outputs": [
        {
          "output_type": "execute_result",
          "data": {
            "text/plain": [
              "   Unnamed: 0                                              name  area_city  \\\n",
              "0           0           Младший специалист ручного тестирования  Астрахань   \n",
              "1           1                                   Тестировщик.Net  Астрахань   \n",
              "2           2                                         Пентестер  Астрахань   \n",
              "3           3  Ведущий Специалист по информационным технологиям  Астрахань   \n",
              "4           4                   Специалист по защите информации  Астрахань   \n",
              "\n",
              "   salary_from  salary_to  salary_mean     experience_name  \\\n",
              "0          NaN        NaN          NaN           Нет опыта   \n",
              "1      21750.0    43500.0      32625.0  От 1 года до 3 лет   \n",
              "2          NaN        NaN          NaN       От 3 до 6 лет   \n",
              "3      22620.0        NaN      22620.0           Нет опыта   \n",
              "4      20000.0    20000.0      20000.0           Нет опыта   \n",
              "\n",
              "                                     key_skills_list  \\\n",
              "0                                                 []   \n",
              "1        ['Git', 'SQL', 'Тестирование', 'C#', 'API']   \n",
              "2  ['SQL', 'Linux', 'Информационная безопасность'...   \n",
              "3  ['Пользователь ПК', 'Работа в команде', '1С: П...   \n",
              "4  ['MS Dos', 'Диагностика ПК', 'Компьютер', 'Раб...   \n",
              "\n",
              "                                    spec_skills_list  \n",
              "0  ['Начальный уровень, Мало опыта', 'Тестировани...  \n",
              "1  ['Программирование, Разработка', 'Инженер', 'Т...  \n",
              "2  ['Программирование, Разработка', 'Инженер', 'Т...  \n",
              "3  ['Компьютерная безопасность', 'Сетевые техноло...  \n",
              "4  ['Компьютерная безопасность', 'Сетевые техноло...  "
            ],
            "text/html": [
              "\n",
              "  <div id=\"df-63942017-f651-4372-bd67-ac676e7f7c6a\">\n",
              "    <div class=\"colab-df-container\">\n",
              "      <div>\n",
              "<style scoped>\n",
              "    .dataframe tbody tr th:only-of-type {\n",
              "        vertical-align: middle;\n",
              "    }\n",
              "\n",
              "    .dataframe tbody tr th {\n",
              "        vertical-align: top;\n",
              "    }\n",
              "\n",
              "    .dataframe thead th {\n",
              "        text-align: right;\n",
              "    }\n",
              "</style>\n",
              "<table border=\"1\" class=\"dataframe\">\n",
              "  <thead>\n",
              "    <tr style=\"text-align: right;\">\n",
              "      <th></th>\n",
              "      <th>Unnamed: 0</th>\n",
              "      <th>name</th>\n",
              "      <th>area_city</th>\n",
              "      <th>salary_from</th>\n",
              "      <th>salary_to</th>\n",
              "      <th>salary_mean</th>\n",
              "      <th>experience_name</th>\n",
              "      <th>key_skills_list</th>\n",
              "      <th>spec_skills_list</th>\n",
              "    </tr>\n",
              "  </thead>\n",
              "  <tbody>\n",
              "    <tr>\n",
              "      <th>0</th>\n",
              "      <td>0</td>\n",
              "      <td>Младший специалист ручного тестирования</td>\n",
              "      <td>Астрахань</td>\n",
              "      <td>NaN</td>\n",
              "      <td>NaN</td>\n",
              "      <td>NaN</td>\n",
              "      <td>Нет опыта</td>\n",
              "      <td>[]</td>\n",
              "      <td>['Начальный уровень, Мало опыта', 'Тестировани...</td>\n",
              "    </tr>\n",
              "    <tr>\n",
              "      <th>1</th>\n",
              "      <td>1</td>\n",
              "      <td>Тестировщик.Net</td>\n",
              "      <td>Астрахань</td>\n",
              "      <td>21750.0</td>\n",
              "      <td>43500.0</td>\n",
              "      <td>32625.0</td>\n",
              "      <td>От 1 года до 3 лет</td>\n",
              "      <td>['Git', 'SQL', 'Тестирование', 'C#', 'API']</td>\n",
              "      <td>['Программирование, Разработка', 'Инженер', 'Т...</td>\n",
              "    </tr>\n",
              "    <tr>\n",
              "      <th>2</th>\n",
              "      <td>2</td>\n",
              "      <td>Пентестер</td>\n",
              "      <td>Астрахань</td>\n",
              "      <td>NaN</td>\n",
              "      <td>NaN</td>\n",
              "      <td>NaN</td>\n",
              "      <td>От 3 до 6 лет</td>\n",
              "      <td>['SQL', 'Linux', 'Информационная безопасность'...</td>\n",
              "      <td>['Программирование, Разработка', 'Инженер', 'Т...</td>\n",
              "    </tr>\n",
              "    <tr>\n",
              "      <th>3</th>\n",
              "      <td>3</td>\n",
              "      <td>Ведущий Специалист по информационным технологиям</td>\n",
              "      <td>Астрахань</td>\n",
              "      <td>22620.0</td>\n",
              "      <td>NaN</td>\n",
              "      <td>22620.0</td>\n",
              "      <td>Нет опыта</td>\n",
              "      <td>['Пользователь ПК', 'Работа в команде', '1С: П...</td>\n",
              "      <td>['Компьютерная безопасность', 'Сетевые техноло...</td>\n",
              "    </tr>\n",
              "    <tr>\n",
              "      <th>4</th>\n",
              "      <td>4</td>\n",
              "      <td>Специалист по защите информации</td>\n",
              "      <td>Астрахань</td>\n",
              "      <td>20000.0</td>\n",
              "      <td>20000.0</td>\n",
              "      <td>20000.0</td>\n",
              "      <td>Нет опыта</td>\n",
              "      <td>['MS Dos', 'Диагностика ПК', 'Компьютер', 'Раб...</td>\n",
              "      <td>['Компьютерная безопасность', 'Сетевые техноло...</td>\n",
              "    </tr>\n",
              "  </tbody>\n",
              "</table>\n",
              "</div>\n",
              "      <button class=\"colab-df-convert\" onclick=\"convertToInteractive('df-63942017-f651-4372-bd67-ac676e7f7c6a')\"\n",
              "              title=\"Convert this dataframe to an interactive table.\"\n",
              "              style=\"display:none;\">\n",
              "        \n",
              "  <svg xmlns=\"http://www.w3.org/2000/svg\" height=\"24px\"viewBox=\"0 0 24 24\"\n",
              "       width=\"24px\">\n",
              "    <path d=\"M0 0h24v24H0V0z\" fill=\"none\"/>\n",
              "    <path d=\"M18.56 5.44l.94 2.06.94-2.06 2.06-.94-2.06-.94-.94-2.06-.94 2.06-2.06.94zm-11 1L8.5 8.5l.94-2.06 2.06-.94-2.06-.94L8.5 2.5l-.94 2.06-2.06.94zm10 10l.94 2.06.94-2.06 2.06-.94-2.06-.94-.94-2.06-.94 2.06-2.06.94z\"/><path d=\"M17.41 7.96l-1.37-1.37c-.4-.4-.92-.59-1.43-.59-.52 0-1.04.2-1.43.59L10.3 9.45l-7.72 7.72c-.78.78-.78 2.05 0 2.83L4 21.41c.39.39.9.59 1.41.59.51 0 1.02-.2 1.41-.59l7.78-7.78 2.81-2.81c.8-.78.8-2.07 0-2.86zM5.41 20L4 18.59l7.72-7.72 1.47 1.35L5.41 20z\"/>\n",
              "  </svg>\n",
              "      </button>\n",
              "      \n",
              "  <style>\n",
              "    .colab-df-container {\n",
              "      display:flex;\n",
              "      flex-wrap:wrap;\n",
              "      gap: 12px;\n",
              "    }\n",
              "\n",
              "    .colab-df-convert {\n",
              "      background-color: #E8F0FE;\n",
              "      border: none;\n",
              "      border-radius: 50%;\n",
              "      cursor: pointer;\n",
              "      display: none;\n",
              "      fill: #1967D2;\n",
              "      height: 32px;\n",
              "      padding: 0 0 0 0;\n",
              "      width: 32px;\n",
              "    }\n",
              "\n",
              "    .colab-df-convert:hover {\n",
              "      background-color: #E2EBFA;\n",
              "      box-shadow: 0px 1px 2px rgba(60, 64, 67, 0.3), 0px 1px 3px 1px rgba(60, 64, 67, 0.15);\n",
              "      fill: #174EA6;\n",
              "    }\n",
              "\n",
              "    [theme=dark] .colab-df-convert {\n",
              "      background-color: #3B4455;\n",
              "      fill: #D2E3FC;\n",
              "    }\n",
              "\n",
              "    [theme=dark] .colab-df-convert:hover {\n",
              "      background-color: #434B5C;\n",
              "      box-shadow: 0px 1px 3px 1px rgba(0, 0, 0, 0.15);\n",
              "      filter: drop-shadow(0px 1px 2px rgba(0, 0, 0, 0.3));\n",
              "      fill: #FFFFFF;\n",
              "    }\n",
              "  </style>\n",
              "\n",
              "      <script>\n",
              "        const buttonEl =\n",
              "          document.querySelector('#df-63942017-f651-4372-bd67-ac676e7f7c6a button.colab-df-convert');\n",
              "        buttonEl.style.display =\n",
              "          google.colab.kernel.accessAllowed ? 'block' : 'none';\n",
              "\n",
              "        async function convertToInteractive(key) {\n",
              "          const element = document.querySelector('#df-63942017-f651-4372-bd67-ac676e7f7c6a');\n",
              "          const dataTable =\n",
              "            await google.colab.kernel.invokeFunction('convertToInteractive',\n",
              "                                                     [key], {});\n",
              "          if (!dataTable) return;\n",
              "\n",
              "          const docLinkHtml = 'Like what you see? Visit the ' +\n",
              "            '<a target=\"_blank\" href=https://colab.research.google.com/notebooks/data_table.ipynb>data table notebook</a>'\n",
              "            + ' to learn more about interactive tables.';\n",
              "          element.innerHTML = '';\n",
              "          dataTable['output_type'] = 'display_data';\n",
              "          await google.colab.output.renderOutput(dataTable, element);\n",
              "          const docLink = document.createElement('div');\n",
              "          docLink.innerHTML = docLinkHtml;\n",
              "          element.appendChild(docLink);\n",
              "        }\n",
              "      </script>\n",
              "    </div>\n",
              "  </div>\n",
              "  "
            ]
          },
          "metadata": {},
          "execution_count": 96
        }
      ],
      "source": [
        "# Записываем подгруженный файл excel в датафрейм, выводим структуру\n",
        "\n",
        "dataset = pd.read_excel('data_statistics.xlsx')\n",
        "dataset.head()"
      ]
    },
    {
      "cell_type": "code",
      "execution_count": null,
      "metadata": {
        "colab": {
          "base_uri": "https://localhost:8080/"
        },
        "id": "XU7xlZaXy35p",
        "outputId": "761dfbae-8ff6-490f-c298-d04066016cf9"
      },
      "outputs": [
        {
          "output_type": "stream",
          "name": "stdout",
          "text": [
            "<class 'pandas.core.frame.DataFrame'>\n",
            "RangeIndex: 51829 entries, 0 to 51828\n",
            "Data columns (total 9 columns):\n",
            " #   Column            Non-Null Count  Dtype  \n",
            "---  ------            --------------  -----  \n",
            " 0   Unnamed: 0        51829 non-null  int64  \n",
            " 1   name              51829 non-null  object \n",
            " 2   area_city         51829 non-null  object \n",
            " 3   salary_from       21173 non-null  float64\n",
            " 4   salary_to         12471 non-null  float64\n",
            " 5   salary_mean       23751 non-null  float64\n",
            " 6   experience_name   51829 non-null  object \n",
            " 7   key_skills_list   51829 non-null  object \n",
            " 8   spec_skills_list  51829 non-null  object \n",
            "dtypes: float64(3), int64(1), object(5)\n",
            "memory usage: 3.6+ MB\n"
          ]
        }
      ],
      "source": [
        "# Информация о датасете\n",
        "\n",
        "dataset.info()"
      ]
    },
    {
      "cell_type": "markdown",
      "metadata": {
        "id": "lCyUR7TgdNr8"
      },
      "source": [
        "# 1. Структурируем данные в виде таблицы \"объект-свойство\""
      ]
    },
    {
      "cell_type": "code",
      "source": [
        "# Проверим тип данных в свернутых столбцах \n",
        "\n",
        "print(type(dataset['key_skills_list'][2]))\n",
        "print(type(dataset['spec_skills_list'][2]))\n",
        "print(dataset['key_skills_list'][2])\n",
        "print(dataset['spec_skills_list'][2])"
      ],
      "metadata": {
        "colab": {
          "base_uri": "https://localhost:8080/"
        },
        "id": "t3TnK3iTyTpq",
        "outputId": "2c452ba6-556c-40fa-d43b-3661d53efb4f"
      },
      "execution_count": null,
      "outputs": [
        {
          "output_type": "stream",
          "name": "stdout",
          "text": [
            "<class 'str'>\n",
            "<class 'str'>\n",
            "['SQL', 'Linux', 'Информационная безопасность', 'Работа с базами данных', 'Базы данных']\n",
            "['Программирование, Разработка', 'Инженер', 'Тестирование']\n"
          ]
        }
      ]
    },
    {
      "cell_type": "code",
      "execution_count": null,
      "metadata": {
        "id": "rF6_6xljzQG5"
      },
      "outputs": [],
      "source": [
        "# Преобразуем строковый тип данных в списки\n",
        "\n",
        "def str_list(n):\n",
        "  try:\n",
        "    n = eval(n)\n",
        "    return n\n",
        "  except:\n",
        "    return np.nan \n",
        "\n",
        "dataset['key_skills_list'] = dataset['key_skills_list'].apply(str_list)\n",
        "dataset['spec_skills_list'] = dataset['spec_skills_list'].apply(str_list)"
      ]
    },
    {
      "cell_type": "code",
      "source": [
        "print(type(dataset['key_skills_list'][2]))\n",
        "print(type(dataset['spec_skills_list'][2]))"
      ],
      "metadata": {
        "colab": {
          "base_uri": "https://localhost:8080/"
        },
        "id": "tFWDegtWzGN5",
        "outputId": "783edb86-2756-496b-8c90-e84ec9d0f75c"
      },
      "execution_count": null,
      "outputs": [
        {
          "output_type": "stream",
          "name": "stdout",
          "text": [
            "<class 'list'>\n",
            "<class 'list'>\n"
          ]
        }
      ]
    },
    {
      "cell_type": "code",
      "execution_count": null,
      "metadata": {
        "id": "GGNl3k3uaz6J"
      },
      "outputs": [],
      "source": [
        "# Убираем пропуски и нулевые значения \n",
        "\n",
        "dataset = dataset[dataset['salary_mean'].notna()]\n",
        "dataset = dataset[dataset.key_skills_list.astype(bool)]"
      ]
    },
    {
      "cell_type": "code",
      "execution_count": null,
      "metadata": {
        "colab": {
          "base_uri": "https://localhost:8080/"
        },
        "id": "1UZAh3iSbIhB",
        "outputId": "c1a2dfc2-0f27-4335-f7c3-8fd59b1497f3"
      },
      "outputs": [
        {
          "output_type": "execute_result",
          "data": {
            "text/plain": [
              "Unnamed: 0             0\n",
              "name                   0\n",
              "area_city              0\n",
              "salary_from         2137\n",
              "salary_to           8695\n",
              "salary_mean            0\n",
              "experience_name        0\n",
              "key_skills_list        0\n",
              "spec_skills_list       0\n",
              "dtype: int64"
            ]
          },
          "metadata": {},
          "execution_count": 102
        }
      ],
      "source": [
        "dataset.isna().sum()"
      ]
    },
    {
      "cell_type": "code",
      "execution_count": null,
      "metadata": {
        "colab": {
          "base_uri": "https://localhost:8080/"
        },
        "id": "onZOXZIaaUxq",
        "outputId": "e8d30f31-9e0d-433c-eb1b-4363861fcfba"
      },
      "outputs": [
        {
          "output_type": "execute_result",
          "data": {
            "text/plain": [
              "Index(['Unnamed: 0', 'name', 'area_city', 'salary_from', 'salary_to',\n",
              "       'salary_mean', 'experience_name', 'key_skills_list',\n",
              "       'spec_skills_list'],\n",
              "      dtype='object')"
            ]
          },
          "metadata": {},
          "execution_count": 103
        }
      ],
      "source": [
        "dataset.columns"
      ]
    },
    {
      "cell_type": "code",
      "execution_count": null,
      "metadata": {
        "colab": {
          "base_uri": "https://localhost:8080/",
          "height": 143
        },
        "id": "h9MHd-0OaSt5",
        "outputId": "8bf7a453-8474-4d3d-a876-3ab6fe6df28f"
      },
      "outputs": [
        {
          "output_type": "execute_result",
          "data": {
            "text/plain": [
              "                      name area_city  salary_from  salary_to  salary_mean  \\\n",
              "6602           3D-дизайнер       Уфа      30000.0        NaN      30000.0   \n",
              "15961     Менеджер проекта    Москва      50000.0        NaN      50000.0   \n",
              "31466  Компьютерный мастер  Белгород      70000.0        NaN      70000.0   \n",
              "\n",
              "          experience_name                                    key_skills_list  \\\n",
              "6602            Нет опыта                    [Blender 3D, Unity, C#, VR, 3D]   \n",
              "15961  От 1 года до 3 лет  [Управление персоналом, Организаторские навыки...   \n",
              "31466           Нет опыта  [Ремонт ПК, Активные продажи, Диагностика, Win...   \n",
              "\n",
              "                                        spec_skills_list  \n",
              "6602   [Игровое ПО, Программирование, Разработка, Диз...  \n",
              "15961  [Программирование, Разработка, Системы управле...  \n",
              "31466  [Начальный уровень, Мало опыта, Системный адми...  "
            ],
            "text/html": [
              "\n",
              "  <div id=\"df-a4ab3070-833d-4720-aef4-2cc3db0821cf\">\n",
              "    <div class=\"colab-df-container\">\n",
              "      <div>\n",
              "<style scoped>\n",
              "    .dataframe tbody tr th:only-of-type {\n",
              "        vertical-align: middle;\n",
              "    }\n",
              "\n",
              "    .dataframe tbody tr th {\n",
              "        vertical-align: top;\n",
              "    }\n",
              "\n",
              "    .dataframe thead th {\n",
              "        text-align: right;\n",
              "    }\n",
              "</style>\n",
              "<table border=\"1\" class=\"dataframe\">\n",
              "  <thead>\n",
              "    <tr style=\"text-align: right;\">\n",
              "      <th></th>\n",
              "      <th>name</th>\n",
              "      <th>area_city</th>\n",
              "      <th>salary_from</th>\n",
              "      <th>salary_to</th>\n",
              "      <th>salary_mean</th>\n",
              "      <th>experience_name</th>\n",
              "      <th>key_skills_list</th>\n",
              "      <th>spec_skills_list</th>\n",
              "    </tr>\n",
              "  </thead>\n",
              "  <tbody>\n",
              "    <tr>\n",
              "      <th>6602</th>\n",
              "      <td>3D-дизайнер</td>\n",
              "      <td>Уфа</td>\n",
              "      <td>30000.0</td>\n",
              "      <td>NaN</td>\n",
              "      <td>30000.0</td>\n",
              "      <td>Нет опыта</td>\n",
              "      <td>[Blender 3D, Unity, C#, VR, 3D]</td>\n",
              "      <td>[Игровое ПО, Программирование, Разработка, Диз...</td>\n",
              "    </tr>\n",
              "    <tr>\n",
              "      <th>15961</th>\n",
              "      <td>Менеджер проекта</td>\n",
              "      <td>Москва</td>\n",
              "      <td>50000.0</td>\n",
              "      <td>NaN</td>\n",
              "      <td>50000.0</td>\n",
              "      <td>От 1 года до 3 лет</td>\n",
              "      <td>[Управление персоналом, Организаторские навыки...</td>\n",
              "      <td>[Программирование, Разработка, Системы управле...</td>\n",
              "    </tr>\n",
              "    <tr>\n",
              "      <th>31466</th>\n",
              "      <td>Компьютерный мастер</td>\n",
              "      <td>Белгород</td>\n",
              "      <td>70000.0</td>\n",
              "      <td>NaN</td>\n",
              "      <td>70000.0</td>\n",
              "      <td>Нет опыта</td>\n",
              "      <td>[Ремонт ПК, Активные продажи, Диагностика, Win...</td>\n",
              "      <td>[Начальный уровень, Мало опыта, Системный адми...</td>\n",
              "    </tr>\n",
              "  </tbody>\n",
              "</table>\n",
              "</div>\n",
              "      <button class=\"colab-df-convert\" onclick=\"convertToInteractive('df-a4ab3070-833d-4720-aef4-2cc3db0821cf')\"\n",
              "              title=\"Convert this dataframe to an interactive table.\"\n",
              "              style=\"display:none;\">\n",
              "        \n",
              "  <svg xmlns=\"http://www.w3.org/2000/svg\" height=\"24px\"viewBox=\"0 0 24 24\"\n",
              "       width=\"24px\">\n",
              "    <path d=\"M0 0h24v24H0V0z\" fill=\"none\"/>\n",
              "    <path d=\"M18.56 5.44l.94 2.06.94-2.06 2.06-.94-2.06-.94-.94-2.06-.94 2.06-2.06.94zm-11 1L8.5 8.5l.94-2.06 2.06-.94-2.06-.94L8.5 2.5l-.94 2.06-2.06.94zm10 10l.94 2.06.94-2.06 2.06-.94-2.06-.94-.94-2.06-.94 2.06-2.06.94z\"/><path d=\"M17.41 7.96l-1.37-1.37c-.4-.4-.92-.59-1.43-.59-.52 0-1.04.2-1.43.59L10.3 9.45l-7.72 7.72c-.78.78-.78 2.05 0 2.83L4 21.41c.39.39.9.59 1.41.59.51 0 1.02-.2 1.41-.59l7.78-7.78 2.81-2.81c.8-.78.8-2.07 0-2.86zM5.41 20L4 18.59l7.72-7.72 1.47 1.35L5.41 20z\"/>\n",
              "  </svg>\n",
              "      </button>\n",
              "      \n",
              "  <style>\n",
              "    .colab-df-container {\n",
              "      display:flex;\n",
              "      flex-wrap:wrap;\n",
              "      gap: 12px;\n",
              "    }\n",
              "\n",
              "    .colab-df-convert {\n",
              "      background-color: #E8F0FE;\n",
              "      border: none;\n",
              "      border-radius: 50%;\n",
              "      cursor: pointer;\n",
              "      display: none;\n",
              "      fill: #1967D2;\n",
              "      height: 32px;\n",
              "      padding: 0 0 0 0;\n",
              "      width: 32px;\n",
              "    }\n",
              "\n",
              "    .colab-df-convert:hover {\n",
              "      background-color: #E2EBFA;\n",
              "      box-shadow: 0px 1px 2px rgba(60, 64, 67, 0.3), 0px 1px 3px 1px rgba(60, 64, 67, 0.15);\n",
              "      fill: #174EA6;\n",
              "    }\n",
              "\n",
              "    [theme=dark] .colab-df-convert {\n",
              "      background-color: #3B4455;\n",
              "      fill: #D2E3FC;\n",
              "    }\n",
              "\n",
              "    [theme=dark] .colab-df-convert:hover {\n",
              "      background-color: #434B5C;\n",
              "      box-shadow: 0px 1px 3px 1px rgba(0, 0, 0, 0.15);\n",
              "      filter: drop-shadow(0px 1px 2px rgba(0, 0, 0, 0.3));\n",
              "      fill: #FFFFFF;\n",
              "    }\n",
              "  </style>\n",
              "\n",
              "      <script>\n",
              "        const buttonEl =\n",
              "          document.querySelector('#df-a4ab3070-833d-4720-aef4-2cc3db0821cf button.colab-df-convert');\n",
              "        buttonEl.style.display =\n",
              "          google.colab.kernel.accessAllowed ? 'block' : 'none';\n",
              "\n",
              "        async function convertToInteractive(key) {\n",
              "          const element = document.querySelector('#df-a4ab3070-833d-4720-aef4-2cc3db0821cf');\n",
              "          const dataTable =\n",
              "            await google.colab.kernel.invokeFunction('convertToInteractive',\n",
              "                                                     [key], {});\n",
              "          if (!dataTable) return;\n",
              "\n",
              "          const docLinkHtml = 'Like what you see? Visit the ' +\n",
              "            '<a target=\"_blank\" href=https://colab.research.google.com/notebooks/data_table.ipynb>data table notebook</a>'\n",
              "            + ' to learn more about interactive tables.';\n",
              "          element.innerHTML = '';\n",
              "          dataTable['output_type'] = 'display_data';\n",
              "          await google.colab.output.renderOutput(dataTable, element);\n",
              "          const docLink = document.createElement('div');\n",
              "          docLink.innerHTML = docLinkHtml;\n",
              "          element.appendChild(docLink);\n",
              "        }\n",
              "      </script>\n",
              "    </div>\n",
              "  </div>\n",
              "  "
            ]
          },
          "metadata": {},
          "execution_count": 104
        }
      ],
      "source": [
        "# Соберем итоговы датасет для анализа в виде \"объект-свойство\"\n",
        "\n",
        "df = dataset[['name', 'area_city', 'salary_from', 'salary_to', 'salary_mean', 'experience_name', 'key_skills_list', 'spec_skills_list']]\n",
        "df.sample(3)"
      ]
    },
    {
      "cell_type": "markdown",
      "source": [
        "Подготовили таблицу \"объект - свойство\" из 19271 строк-объектов и 8 столбцов-свойств (название, город, зарплат, опыта работы, ключевых навыков и специальностей вакансии)"
      ],
      "metadata": {
        "id": "2GfmTW5fCd2R"
      }
    },
    {
      "cell_type": "markdown",
      "metadata": {
        "id": "WrSHTNWvdWkz"
      },
      "source": [
        "# 2. Проанализируем тип данных"
      ]
    },
    {
      "cell_type": "code",
      "execution_count": null,
      "metadata": {
        "colab": {
          "base_uri": "https://localhost:8080/"
        },
        "id": "q4fX8WJRrRjA",
        "outputId": "7dcaa036-70b4-4863-bcc7-0ef428c58823"
      },
      "outputs": [
        {
          "output_type": "stream",
          "name": "stdout",
          "text": [
            "<class 'pandas.core.frame.DataFrame'>\n",
            "Int64Index: 19271 entries, 1 to 51826\n",
            "Data columns (total 8 columns):\n",
            " #   Column            Non-Null Count  Dtype  \n",
            "---  ------            --------------  -----  \n",
            " 0   name              19271 non-null  object \n",
            " 1   area_city         19271 non-null  object \n",
            " 2   salary_from       17134 non-null  float64\n",
            " 3   salary_to         10576 non-null  float64\n",
            " 4   salary_mean       19271 non-null  float64\n",
            " 5   experience_name   19271 non-null  object \n",
            " 6   key_skills_list   19271 non-null  object \n",
            " 7   spec_skills_list  19271 non-null  object \n",
            "dtypes: float64(3), object(5)\n",
            "memory usage: 1.3+ MB\n"
          ]
        }
      ],
      "source": [
        "df.info()"
      ]
    },
    {
      "cell_type": "markdown",
      "metadata": {
        "id": "BqSLNj_EbUXs"
      },
      "source": [
        "Типы данных для датасета df:\n",
        "\n",
        "1.   name (наименование вакансии) - категориальный тип\n",
        "2.   area_city (город размещения вакансии) - категориальный тип\n",
        "3.   salary_from (зп \"от\") - количественный тип\n",
        "4.   salary_to (зп \"до\") - количественный тип\n",
        "3.   salary_mean (средняя зп) - количественный тип\n",
        "4.   experience_name  (требуемый опыт работы) - категориальный тип*\n",
        "5.   key_skills_list (ключевые навыки) - категориальный тип\n",
        "6.   spec_skills_list (наименование специальности) - категориальный тип\n",
        "\n",
        "*можно привести к порядковому"
      ]
    },
    {
      "cell_type": "markdown",
      "metadata": {
        "id": "mmUnRP8Me-I8"
      },
      "source": [
        "# 3. Визуализируем данные в соответствии с их типом"
      ]
    },
    {
      "cell_type": "markdown",
      "metadata": {
        "id": "Qr9nuJ1shH8l"
      },
      "source": [
        "## 3.1 Гистограмма количественных данных"
      ]
    },
    {
      "cell_type": "code",
      "execution_count": null,
      "metadata": {
        "colab": {
          "base_uri": "https://localhost:8080/",
          "height": 299
        },
        "id": "-KWKYHuIfEec",
        "outputId": "b8e3d7ed-2e73-4ec9-ca57-4328a59358e4"
      },
      "outputs": [
        {
          "output_type": "execute_result",
          "data": {
            "text/plain": [
              "(-44121.0, 400000.0, 0.0, 6221.25)"
            ]
          },
          "metadata": {},
          "execution_count": 106
        },
        {
          "output_type": "display_data",
          "data": {
            "text/plain": [
              "<Figure size 432x288 with 1 Axes>"
            ],
            "image/png": "[encoded data removed]"
          },
          "metadata": {}
        }
      ],
      "source": [
        "# Гисторгамма средней заработной платы\n",
        "\n",
        "plt.style.use('ggplot')\n",
        "df['salary_mean'].hist(bins=30)\n",
        "plt.ylabel('Количество вакансий')\n",
        "plt.xlabel('Средняя зарплата')\n",
        "plt.axis(xmax= 400000)"
      ]
    },
    {
      "cell_type": "markdown",
      "metadata": {
        "id": "rGI9qBrZiR6F"
      },
      "source": [
        "## 3.2 Столбчатые диаграммы для категориальных данных"
      ]
    },
    {
      "cell_type": "code",
      "execution_count": null,
      "metadata": {
        "colab": {
          "base_uri": "https://localhost:8080/"
        },
        "id": "HiqZ0xOSjEX0",
        "outputId": "b134b888-7ad2-44bc-d36b-ac267268fdc2"
      },
      "outputs": [
        {
          "output_type": "execute_result",
          "data": {
            "text/plain": [
              "Москва             4592\n",
              "Санкт-Петербург    2216\n",
              "Екатеринбург        779\n",
              "Новосибирск         777\n",
              "Краснодар           527\n",
              "Казань              526\n",
              "Ростов-на-Дону      426\n",
              "Нижний Новгород     420\n",
              "Воронеж             341\n",
              "Самара              322\n",
              "Name: area_city, dtype: int64"
            ]
          },
          "metadata": {},
          "execution_count": 107
        }
      ],
      "source": [
        "# ТОП 10 городов вакансий\n",
        "\n",
        "df['area_city'].value_counts()[:10]"
      ]
    },
    {
      "cell_type": "code",
      "execution_count": null,
      "metadata": {
        "colab": {
          "base_uri": "https://localhost:8080/",
          "height": 357
        },
        "id": "xJZgliGlfA6R",
        "outputId": "fd35a65e-9a25-4c31-d12d-2393d6797ba8"
      },
      "outputs": [
        {
          "output_type": "display_data",
          "data": {
            "text/plain": [
              "<Figure size 432x288 with 1 Axes>"
            ],
            "image/png": "[encoded data removed]"
          },
          "metadata": {}
        }
      ],
      "source": [
        "# Отрисовка столбцовой диаграммы\n",
        "\n",
        "plt.style.use('ggplot')\n",
        "plt.bar(df['area_city'].value_counts()[:10].index, df['area_city'].value_counts()[:10].values)\n",
        "plt.title('Диаграмма городов размещения вакансий', fontsize=18)\n",
        "plt.xlabel('Города', fontsize=16)\n",
        "plt.ylabel('Количество вакансий', fontsize=16)\n",
        "plt.xticks(rotation=35, ha='right')\n",
        "plt.show()"
      ]
    },
    {
      "cell_type": "code",
      "execution_count": null,
      "metadata": {
        "colab": {
          "base_uri": "https://localhost:8080/"
        },
        "id": "zEPcj81Gp8nx",
        "outputId": "aafca51b-e51a-48b1-c284-9b1a72baa25b"
      },
      "outputs": [
        {
          "output_type": "execute_result",
          "data": {
            "text/plain": [
              "Инженер                                  12491\n",
              "Программирование, Разработка              9415\n",
              "Системы управления предприятием (ERP)     7471\n",
              "Web мастер                                6061\n",
              "Web инженер                               6059\n",
              "Системный администратор                   5916\n",
              "Поддержка, Helpdesk                       5898\n",
              "Интернет                                  5008\n",
              "Аналитик                                  4351\n",
              "Сетевые технологии                        3854\n",
              "Name: spec_skills_list, dtype: int64"
            ]
          },
          "metadata": {},
          "execution_count": 109
        }
      ],
      "source": [
        "# ТОП 10 специальностей\n",
        "\n",
        "dexpl = df.explode('spec_skills_list')\n",
        "dexpl['spec_skills_list'].value_counts()[:10]"
      ]
    },
    {
      "cell_type": "code",
      "execution_count": null,
      "metadata": {
        "colab": {
          "base_uri": "https://localhost:8080/",
          "height": 304
        },
        "id": "iQ2oCIJjsG7o",
        "outputId": "59ea1153-4f49-40d8-f2c6-6bc1e80b4982"
      },
      "outputs": [
        {
          "output_type": "display_data",
          "data": {
            "text/plain": [
              "<Figure size 432x288 with 1 Axes>"
            ],
            "image/png": "[encoded data removed]"
          },
          "metadata": {}
        }
      ],
      "source": [
        "# Отрисовка столбцовой диаграммы\n",
        "\n",
        "plt.style.use('ggplot')\n",
        "plt.barh(dexpl['spec_skills_list'].value_counts()[:10].index, dexpl['spec_skills_list'].value_counts()[:10].values)\n",
        "plt.title('Диаграмма специальностей', fontsize=18)\n",
        "plt.xlabel('Количество вакансий', fontsize=16)\n",
        "plt.ylabel('Специальности', fontsize=16)\n",
        "plt.show()"
      ]
    },
    {
      "cell_type": "code",
      "execution_count": null,
      "metadata": {
        "colab": {
          "base_uri": "https://localhost:8080/"
        },
        "id": "gUThlWiU6oc7",
        "outputId": "4d6b4ab6-2819-4241-b61a-80bde8a0eb64"
      },
      "outputs": [
        {
          "output_type": "execute_result",
          "data": {
            "text/plain": [
              "Работа в команде       2273\n",
              "Git                    1956\n",
              "SQL                    1873\n",
              "Linux                  1784\n",
              "Грамотная речь         1687\n",
              "1С программирование    1572\n",
              "Adobe Photoshop        1385\n",
              "Английский язык        1360\n",
              "JavaScript             1346\n",
              "1С: Предприятие 8      1243\n",
              "Name: key_skills_list, dtype: int64"
            ]
          },
          "metadata": {},
          "execution_count": 111
        }
      ],
      "source": [
        "# ТОП 10 ключевых навыков\n",
        "\n",
        "dexplod = df.explode('key_skills_list')\n",
        "dexplod['key_skills_list'].value_counts()[:10]"
      ]
    },
    {
      "cell_type": "code",
      "execution_count": null,
      "metadata": {
        "colab": {
          "base_uri": "https://localhost:8080/",
          "height": 353
        },
        "id": "x2ZtUVH464vb",
        "outputId": "35dbcfc8-04f9-4877-9210-4c9aaea1ceed"
      },
      "outputs": [
        {
          "output_type": "display_data",
          "data": {
            "text/plain": [
              "<Figure size 432x288 with 1 Axes>"
            ],
            "image/png": "[encoded data removed]"
          },
          "metadata": {}
        }
      ],
      "source": [
        "# Отрисовка столбцовой диаграммы\n",
        "\n",
        "plt.style.use('ggplot')\n",
        "plt.bar(dexplod['key_skills_list'].value_counts()[:10].index, dexplod['key_skills_list'].value_counts()[:10].values)\n",
        "plt.title('Диаграмма ключевых навыков', fontsize=18)\n",
        "plt.xlabel('Ключевые навыки', fontsize=16)\n",
        "plt.ylabel('Количество вакансий', fontsize=14)\n",
        "plt.xticks(rotation=25, ha='right')\n",
        "plt.show()"
      ]
    },
    {
      "cell_type": "markdown",
      "metadata": {
        "id": "EtU4de4J-xWb"
      },
      "source": [
        "## 3.3. Круговые диаграммы для категориальных данных"
      ]
    },
    {
      "cell_type": "code",
      "execution_count": null,
      "metadata": {
        "colab": {
          "base_uri": "https://localhost:8080/"
        },
        "id": "i-elwJSpA0rh",
        "outputId": "c30e27de-73d1-49a2-dc5a-c3e661e6ca28"
      },
      "outputs": [
        {
          "output_type": "execute_result",
          "data": {
            "text/plain": [
              "От 1 года до 3 лет    10677\n",
              "От 3 до 6 лет          5387\n",
              "Нет опыта              2696\n",
              "Более 6 лет             511\n",
              "Name: experience_name, dtype: int64"
            ]
          },
          "metadata": {},
          "execution_count": 113
        }
      ],
      "source": [
        "# Опыт работы\n",
        "df['experience_name'].value_counts()"
      ]
    },
    {
      "cell_type": "code",
      "execution_count": null,
      "metadata": {
        "colab": {
          "base_uri": "https://localhost:8080/",
          "height": 269
        },
        "id": "cekARtvz_tcK",
        "outputId": "66050826-d1a4-4600-9481-694231bdb897"
      },
      "outputs": [
        {
          "output_type": "display_data",
          "data": {
            "text/plain": [
              "<Figure size 432x288 with 1 Axes>"
            ],
            "image/png": "[encoded data removed]"
          },
          "metadata": {}
        }
      ],
      "source": [
        "# Диаграмма распределения опыта работы по вакансиям\n",
        "\n",
        "plt.style.use('ggplot')\n",
        "plt.pie(df['experience_name'].value_counts().values, autopct='%.1f%%')\n",
        "plt.legend(bbox_to_anchor = (-0.25, 0.45, 0.25, 0.25), labels = df['experience_name'].value_counts().index)\n",
        "plt.title('Диаграмма опыт работы в %', fontsize=18)\n",
        "plt.show()"
      ]
    },
    {
      "cell_type": "markdown",
      "metadata": {
        "id": "TZ36iRipFTfJ"
      },
      "source": [
        "# 4. Проверяем гипотезу о нормальном распределении для количественного показателя"
      ]
    },
    {
      "cell_type": "markdown",
      "metadata": {
        "id": "Q5JZ0swFMnAN"
      },
      "source": [
        "## 4.1 Критерий Шапиро_Уилка"
      ]
    },
    {
      "cell_type": "code",
      "execution_count": null,
      "metadata": {
        "colab": {
          "base_uri": "https://localhost:8080/"
        },
        "id": "g53-qNx5MtWN",
        "outputId": "d2fcc516-4103-4622-af7c-4681eebd04bd"
      },
      "outputs": [
        {
          "output_type": "stream",
          "name": "stderr",
          "text": [
            "/usr/local/lib/python3.7/dist-packages/scipy/stats/morestats.py:1760: UserWarning: p-value may not be accurate for N > 5000.\n",
            "  warnings.warn(\"p-value may not be accurate for N > 5000.\")\n"
          ]
        },
        {
          "output_type": "execute_result",
          "data": {
            "text/plain": [
              "ShapiroResult(statistic=0.8155683279037476, pvalue=0.0)"
            ]
          },
          "metadata": {},
          "execution_count": 115
        }
      ],
      "source": [
        "# Проверка нормальности распределения количественной переменной критерием Шапиро-Уйлка\n",
        "\n",
        "stats.shapiro(df['salary_mean'])"
      ]
    },
    {
      "cell_type": "markdown",
      "metadata": {
        "id": "lPfsFlLnNq8m"
      },
      "source": [
        "## 4.2 Критерии ассиметрии, эксцесса, средне квадратическое отклонение"
      ]
    },
    {
      "cell_type": "code",
      "execution_count": null,
      "metadata": {
        "colab": {
          "base_uri": "https://localhost:8080/"
        },
        "id": "5kOcWw5ISv2b",
        "outputId": "e37f3254-5a45-4b1a-bfbd-f53d106f996c"
      },
      "outputs": [
        {
          "output_type": "execute_result",
          "data": {
            "text/plain": [
              "count     19271\n",
              "mean      97448\n",
              "std       75552\n",
              "min          30\n",
              "25%       45000\n",
              "50%       70000\n",
              "75%      130000\n",
              "max      883050\n",
              "Name: salary_mean, dtype: int64"
            ]
          },
          "metadata": {},
          "execution_count": 116
        }
      ],
      "source": [
        "df['salary_mean'].describe().astype(int)"
      ]
    },
    {
      "cell_type": "code",
      "execution_count": null,
      "metadata": {
        "colab": {
          "base_uri": "https://localhost:8080/"
        },
        "id": "MA7gHUgmQ6ZM",
        "outputId": "5b979e75-ff90-4c62-ec92-830337606855"
      },
      "outputs": [
        {
          "output_type": "execute_result",
          "data": {
            "text/plain": [
              "75552"
            ]
          },
          "metadata": {},
          "execution_count": 117
        }
      ],
      "source": [
        "df['salary_mean'].std().astype(int)  # Рассчитаем средне квадратическое отклонение"
      ]
    },
    {
      "cell_type": "code",
      "execution_count": null,
      "metadata": {
        "colab": {
          "base_uri": "https://localhost:8080/"
        },
        "id": "ZznltdGeNx3x",
        "outputId": "0851e760-f8be-4020-c1e0-c3c2043903f6"
      },
      "outputs": [
        {
          "output_type": "execute_result",
          "data": {
            "text/plain": [
              "2.0289130905009722"
            ]
          },
          "metadata": {},
          "execution_count": 118
        }
      ],
      "source": [
        "df['salary_mean'].skew() # Рассчитаем коэффициент асимметрии"
      ]
    },
    {
      "cell_type": "code",
      "execution_count": null,
      "metadata": {
        "colab": {
          "base_uri": "https://localhost:8080/"
        },
        "id": "rFEg1yCsQ11I",
        "outputId": "a8f735e2-8146-4b3a-f646-6d3abc7c0796"
      },
      "outputs": [
        {
          "output_type": "execute_result",
          "data": {
            "text/plain": [
              "6.474346598345484"
            ]
          },
          "metadata": {},
          "execution_count": 119
        }
      ],
      "source": [
        "df['salary_mean'].kurtosis() # Рассчитаем коэффициент эксцесса"
      ]
    },
    {
      "cell_type": "markdown",
      "metadata": {
        "id": "3UAryuhSaDli"
      },
      "source": [
        "## 4.3 Тест д'Агостино"
      ]
    },
    {
      "cell_type": "code",
      "execution_count": null,
      "metadata": {
        "colab": {
          "base_uri": "https://localhost:8080/"
        },
        "id": "JeUc8t7OaQfK",
        "outputId": "21ca39d3-9c2c-4f55-a095-049f64e00d40"
      },
      "outputs": [
        {
          "output_type": "execute_result",
          "data": {
            "text/plain": [
              "NormaltestResult(statistic=8332.82425830157, pvalue=0.0)"
            ]
          },
          "metadata": {},
          "execution_count": 120
        }
      ],
      "source": [
        "# На основании рассчитанных коэффициентов ассиметрии и эксцесса\n",
        "\n",
        "stats.normaltest(df['salary_mean'])"
      ]
    },
    {
      "cell_type": "markdown",
      "metadata": {
        "id": "OtNn7Vtm0cEZ"
      },
      "source": [
        "## ВЫВОД: \n",
        "> рассчитав критерий Шапиро-Уилка плучили значение p-value ниже уровня значимости.\n",
        "Дополнительно посчитав коэффициенты ассиметрии и эксцесса делаем вывод, что распределение количественного показателя зарплата отлична от нормального"
      ]
    },
    {
      "cell_type": "markdown",
      "metadata": {
        "id": "fir-fd_qFgsf"
      },
      "source": [
        "# 5. Оценка связей между показателями"
      ]
    },
    {
      "cell_type": "markdown",
      "metadata": {
        "id": "jpsdei5Nzi5b"
      },
      "source": [
        "## Анализируем связь количественной с категориальной переменной\n",
        "\n",
        "> Произведем сравнение 4-х независимых групп опыта работы с количественной категорией ненормального распределения заработной платы. По таблице сравнения групп выбираем критерий Краскала-Уолиса"
      ]
    },
    {
      "cell_type": "code",
      "execution_count": null,
      "metadata": {
        "colab": {
          "base_uri": "https://localhost:8080/",
          "height": 307
        },
        "id": "a-2vbfGP2FXh",
        "outputId": "f103829e-4369-41d6-a28e-0f575542e232"
      },
      "outputs": [
        {
          "output_type": "display_data",
          "data": {
            "text/plain": [
              "<Figure size 432x288 with 1 Axes>"
            ],
            "image/png": "[encoded data removed]"
          },
          "metadata": {}
        }
      ],
      "source": [
        "# Выведем боксплот зависимости зарплаты от опыта работы\n",
        "\n",
        "plt.style.use('ggplot')\n",
        "exp = sns.boxplot(x='experience_name', y='salary_mean', data=df)\n",
        "plt.axis(ymax=500000)\n",
        "exp.axes.set_title('Боксплот зарплата / опыт работы' , fontsize=20)\n",
        "exp.set_xlabel('Опыт работы', fontsize=16)\n",
        "exp.set_ylabel('Средняя зарплата', fontsize=14)\n",
        "#plt.xticks(rotation=45, ha='right')\n",
        "plt.show()"
      ]
    },
    {
      "cell_type": "code",
      "execution_count": null,
      "metadata": {
        "colab": {
          "base_uri": "https://localhost:8080/"
        },
        "id": "EvLoYqsC0zUp",
        "outputId": "ce9c36ce-03d3-40ec-af69-ac1170afac8f"
      },
      "outputs": [
        {
          "output_type": "execute_result",
          "data": {
            "text/plain": [
              "KruskalResult(statistic=5330.285801644535, pvalue=0.0)"
            ]
          },
          "metadata": {},
          "execution_count": 122
        }
      ],
      "source": [
        "# Рассчитываем критерий Краскала-Уолиса\n",
        "\n",
        "k_0 = np.array(df[df['experience_name'] == 'Нет опыта']['salary_mean'])\n",
        "k_1 = np.array(df[df['experience_name'] == 'От 1 года до 3 лет']['salary_mean'])\n",
        "k_2 = np.array(df[df['experience_name']== 'От 3 до 6 лет']['salary_mean'])\n",
        "k_3 = np.array(df[df['experience_name']== 'Более 6 лет']['salary_mean'])\n",
        "\n",
        "stats.mstats.kruskalwallis(k_0, k_1, k_2, k_3)"
      ]
    },
    {
      "cell_type": "markdown",
      "metadata": {
        "id": "A1w8psQo5Ul4"
      },
      "source": [
        "> Отвергаем Н0 гипотезу об отсутствии связи заработной платы с опытом работы. Категориальный признак имеет статистически значимое влияние на ЗП"
      ]
    },
    {
      "cell_type": "markdown",
      "metadata": {
        "id": "3A4Lg_3ELNFS"
      },
      "source": [
        "## Анализируем связь двух категориальных переменных\n",
        "> Произведем сравнение 3-х независимых групп ключевых навыков с категориальной переменной опыт работы. По таблице сравнения групп выбираем критерий Хи-квадрат"
      ]
    },
    {
      "cell_type": "code",
      "execution_count": null,
      "metadata": {
        "id": "ID3I0gDM-pZb"
      },
      "outputs": [],
      "source": [
        "# Составим списки навыков по группам: программирование, софт-скилы и технологии\n",
        "\n",
        "lang = [\"SQL\",\"Python\",\"JavaScript\",\"PostgreSQL\",\"Java\",\"MS SQL\",\"HTML\",\"MySQL\",\"PHP\",\"C#\",\"CSS\",\"MSVisio\",\"C++\",\"TypeScript\",\"React\",\"HTML5\",\"MS SQL Server\",\"ORACLE\"]\n",
        "soft_skills = [\"Английский язык\",\"Работа в команде\",\"Грамотная речь\",\"Аналитическое мышление\",\"Работа с большим объемом информации\",\"Организаторские навыки\",\"Грамотность\",\"Деловая коммуникация\",\"Креативность\",\"Деловая переписка\",\"Ведение переговоров\",\"Деловое общение\",\"Работа в условиях многозадачности\",\"Обучение и развитие\",\"Постановка задач разработчикам\",\"Ориентация на результат\",\"Системное мышление\",\"Удаленная работа\",\"Многозадачность\",\"Продвинутый пользователь ПК\"]\n",
        "tech = [\"Linux\",\"Git\",\"Управление проектами\",\"1С программирование\",\"ООП\",\"Информационные технологии\",\"Atlassian Jira\",\"Docker\",\"Информационная безопасность\",\"Настройка сетевых подключений\",\"Разработка технических заданий\",\"Техническая поддержка\",\"Бизнес-анализ\",\"TCP/IP\",\"BPMN\",\"Тестирование\",\"Администрирование\",\"Администрирование сетевого оборудования\",\"REST\",\"Bash\",\"UML\",\"Scrum\",\"XML\",\"Active Directory\",\"Анализ данных\",\"Agile Project Management\",\"Системный анализ\",\"Figma\",\"Работа с базами данных\",\"Kubernetes\",\"Графический дизайн\",\"SMM\",\"iOS\",\"Администрирование серверов Windows\",\"Функциональное тестирование\",\"Atlassian Confluence\",\"Техническое обслуживание\",\"СУБД\",\"Подготовка презентаций\",\"Cisco\",\"Adobe Photoshop\",\"1С: Предприятие\",\"MS PowerPoint\",\"Пользователь ПК\",\"Настройка ПК\",\"Настройка ПО\",\"1С: Документооборот\",\"Windows\",\"Adobe Illustrator\",\"1С: Зарплата и управление персоналом\",\"1С: Управление Торговлей\",\"Ремонт ПК\",\"1С: Бухгалтерия\",\"ERP-системы на базе 1С\",\"1С-Битрикс\",\"Сборка ПК\",\"Spring Framework\",\"CorelDRAW\",\"1С: Управление Производственным Предприятием\"]\n"
      ]
    },
    {
      "cell_type": "code",
      "execution_count": null,
      "metadata": {
        "colab": {
          "base_uri": "https://localhost:8080/"
        },
        "id": "1kMObkkJEHjl",
        "outputId": "0f913fa1-5741-42a3-d0c7-1d17ce890712"
      },
      "outputs": [
        {
          "output_type": "execute_result",
          "data": {
            "text/plain": [
              "array([3, 1, 2])"
            ]
          },
          "metadata": {},
          "execution_count": 124
        }
      ],
      "source": [
        "# Преобразуем навыки в числовые значения по группам\n",
        "# 1 - программирование\n",
        "# 2 - софт скилы\n",
        "# 3 - технологии\n",
        "# 4 - Прочие навыки\n",
        "\n",
        "def sk_group(n):\n",
        "  if n in lang:\n",
        "    n = 1\n",
        "  elif n in soft_skills:\n",
        "    n = 2\n",
        "  elif n in tech:\n",
        "    n = 3\n",
        "  else:\n",
        "    n = 4\n",
        "  return n\n",
        "\n",
        "dexplod['skills_group'] = dexplod['key_skills_list'].apply(sk_group)\n",
        "mask_sk4 = dexplod['skills_group'] == 4\n",
        "dexplod_2 = dexplod[~mask_sk4]\n",
        "dexplod_2['skills_group'].unique()"
      ]
    },
    {
      "cell_type": "code",
      "execution_count": null,
      "metadata": {
        "colab": {
          "base_uri": "https://localhost:8080/",
          "height": 300
        },
        "id": "Vbq1LY2r4rb3",
        "outputId": "9a9bb728-d57a-4b00-8301-0e668731ff61"
      },
      "outputs": [
        {
          "output_type": "display_data",
          "data": {
            "text/plain": [
              "<Figure size 432x288 with 1 Axes>"
            ],
            "image/png": "[encoded data removed]"
          },
          "metadata": {}
        }
      ],
      "source": [
        "# Выведем диаграмму комбинаций категорий по опыту работы\n",
        "\n",
        "plt.style.use('ggplot')\n",
        "sns.countplot(x=dexplod_2['experience_name'], hue=dexplod_2['skills_group'])\n",
        "plt.legend(bbox_to_anchor = (1.30, 0.50, 0.25, 0.25), labels = ['Программирование', 'Софт-навыки', 'Технологии'], fontsize=12)\n",
        "plt.ylabel('Количество вакансий')\n",
        "plt.xlabel('Опыт работы')\n",
        "plt.title('Групповая диаграмма навыки / опыт работы')\n",
        "\n",
        "params = {\n",
        "          'axes.titlesize': 16,   \n",
        "          'ytick.labelsize': 13,  \n",
        "          'axes.labelsize': 14    \n",
        "          }\n",
        "plt.rcParams.update(params)"
      ]
    },
    {
      "cell_type": "code",
      "execution_count": null,
      "metadata": {
        "colab": {
          "base_uri": "https://localhost:8080/",
          "height": 206
        },
        "id": "QGBEa8FjIMFr",
        "outputId": "8dcdaaa4-46b1-44d4-c182-47937ed78f97"
      },
      "outputs": [
        {
          "output_type": "execute_result",
          "data": {
            "text/plain": [
              "skills_group           1     2      3\n",
              "experience_name                      \n",
              "Более 6 лет          418   359    770\n",
              "Нет опыта           1045  3184   3593\n",
              "От 1 года до 3 лет  6680  8448  17881\n",
              "От 3 до 6 лет       4153  3249   8770"
            ],
            "text/html": [
              "\n",
              "  <div id=\"df-1a2c1847-e751-46a6-a052-2f14cfddae13\">\n",
              "    <div class=\"colab-df-container\">\n",
              "      <div>\n",
              "<style scoped>\n",
              "    .dataframe tbody tr th:only-of-type {\n",
              "        vertical-align: middle;\n",
              "    }\n",
              "\n",
              "    .dataframe tbody tr th {\n",
              "        vertical-align: top;\n",
              "    }\n",
              "\n",
              "    .dataframe thead th {\n",
              "        text-align: right;\n",
              "    }\n",
              "</style>\n",
              "<table border=\"1\" class=\"dataframe\">\n",
              "  <thead>\n",
              "    <tr style=\"text-align: right;\">\n",
              "      <th>skills_group</th>\n",
              "      <th>1</th>\n",
              "      <th>2</th>\n",
              "      <th>3</th>\n",
              "    </tr>\n",
              "    <tr>\n",
              "      <th>experience_name</th>\n",
              "      <th></th>\n",
              "      <th></th>\n",
              "      <th></th>\n",
              "    </tr>\n",
              "  </thead>\n",
              "  <tbody>\n",
              "    <tr>\n",
              "      <th>Более 6 лет</th>\n",
              "      <td>418</td>\n",
              "      <td>359</td>\n",
              "      <td>770</td>\n",
              "    </tr>\n",
              "    <tr>\n",
              "      <th>Нет опыта</th>\n",
              "      <td>1045</td>\n",
              "      <td>3184</td>\n",
              "      <td>3593</td>\n",
              "    </tr>\n",
              "    <tr>\n",
              "      <th>От 1 года до 3 лет</th>\n",
              "      <td>6680</td>\n",
              "      <td>8448</td>\n",
              "      <td>17881</td>\n",
              "    </tr>\n",
              "    <tr>\n",
              "      <th>От 3 до 6 лет</th>\n",
              "      <td>4153</td>\n",
              "      <td>3249</td>\n",
              "      <td>8770</td>\n",
              "    </tr>\n",
              "  </tbody>\n",
              "</table>\n",
              "</div>\n",
              "      <button class=\"colab-df-convert\" onclick=\"convertToInteractive('df-1a2c1847-e751-46a6-a052-2f14cfddae13')\"\n",
              "              title=\"Convert this dataframe to an interactive table.\"\n",
              "              style=\"display:none;\">\n",
              "        \n",
              "  <svg xmlns=\"http://www.w3.org/2000/svg\" height=\"24px\"viewBox=\"0 0 24 24\"\n",
              "       width=\"24px\">\n",
              "    <path d=\"M0 0h24v24H0V0z\" fill=\"none\"/>\n",
              "    <path d=\"M18.56 5.44l.94 2.06.94-2.06 2.06-.94-2.06-.94-.94-2.06-.94 2.06-2.06.94zm-11 1L8.5 8.5l.94-2.06 2.06-.94-2.06-.94L8.5 2.5l-.94 2.06-2.06.94zm10 10l.94 2.06.94-2.06 2.06-.94-2.06-.94-.94-2.06-.94 2.06-2.06.94z\"/><path d=\"M17.41 7.96l-1.37-1.37c-.4-.4-.92-.59-1.43-.59-.52 0-1.04.2-1.43.59L10.3 9.45l-7.72 7.72c-.78.78-.78 2.05 0 2.83L4 21.41c.39.39.9.59 1.41.59.51 0 1.02-.2 1.41-.59l7.78-7.78 2.81-2.81c.8-.78.8-2.07 0-2.86zM5.41 20L4 18.59l7.72-7.72 1.47 1.35L5.41 20z\"/>\n",
              "  </svg>\n",
              "      </button>\n",
              "      \n",
              "  <style>\n",
              "    .colab-df-container {\n",
              "      display:flex;\n",
              "      flex-wrap:wrap;\n",
              "      gap: 12px;\n",
              "    }\n",
              "\n",
              "    .colab-df-convert {\n",
              "      background-color: #E8F0FE;\n",
              "      border: none;\n",
              "      border-radius: 50%;\n",
              "      cursor: pointer;\n",
              "      display: none;\n",
              "      fill: #1967D2;\n",
              "      height: 32px;\n",
              "      padding: 0 0 0 0;\n",
              "      width: 32px;\n",
              "    }\n",
              "\n",
              "    .colab-df-convert:hover {\n",
              "      background-color: #E2EBFA;\n",
              "      box-shadow: 0px 1px 2px rgba(60, 64, 67, 0.3), 0px 1px 3px 1px rgba(60, 64, 67, 0.15);\n",
              "      fill: #174EA6;\n",
              "    }\n",
              "\n",
              "    [theme=dark] .colab-df-convert {\n",
              "      background-color: #3B4455;\n",
              "      fill: #D2E3FC;\n",
              "    }\n",
              "\n",
              "    [theme=dark] .colab-df-convert:hover {\n",
              "      background-color: #434B5C;\n",
              "      box-shadow: 0px 1px 3px 1px rgba(0, 0, 0, 0.15);\n",
              "      filter: drop-shadow(0px 1px 2px rgba(0, 0, 0, 0.3));\n",
              "      fill: #FFFFFF;\n",
              "    }\n",
              "  </style>\n",
              "\n",
              "      <script>\n",
              "        const buttonEl =\n",
              "          document.querySelector('#df-1a2c1847-e751-46a6-a052-2f14cfddae13 button.colab-df-convert');\n",
              "        buttonEl.style.display =\n",
              "          google.colab.kernel.accessAllowed ? 'block' : 'none';\n",
              "\n",
              "        async function convertToInteractive(key) {\n",
              "          const element = document.querySelector('#df-1a2c1847-e751-46a6-a052-2f14cfddae13');\n",
              "          const dataTable =\n",
              "            await google.colab.kernel.invokeFunction('convertToInteractive',\n",
              "                                                     [key], {});\n",
              "          if (!dataTable) return;\n",
              "\n",
              "          const docLinkHtml = 'Like what you see? Visit the ' +\n",
              "            '<a target=\"_blank\" href=https://colab.research.google.com/notebooks/data_table.ipynb>data table notebook</a>'\n",
              "            + ' to learn more about interactive tables.';\n",
              "          element.innerHTML = '';\n",
              "          dataTable['output_type'] = 'display_data';\n",
              "          await google.colab.output.renderOutput(dataTable, element);\n",
              "          const docLink = document.createElement('div');\n",
              "          docLink.innerHTML = docLinkHtml;\n",
              "          element.appendChild(docLink);\n",
              "        }\n",
              "      </script>\n",
              "    </div>\n",
              "  </div>\n",
              "  "
            ]
          },
          "metadata": {},
          "execution_count": 126
        }
      ],
      "source": [
        "cross_sk_exp = pd.crosstab(dexplod_2['experience_name'], dexplod_2['skills_group'])\n",
        "cross_sk_exp"
      ]
    },
    {
      "cell_type": "code",
      "execution_count": null,
      "metadata": {
        "colab": {
          "base_uri": "https://localhost:8080/"
        },
        "id": "tGjHByZ0NIc8",
        "outputId": "3673c5fb-721a-4843-eac4-9c424caeba71"
      },
      "outputs": [
        {
          "output_type": "stream",
          "name": "stdout",
          "text": [
            "test Statistics: 1385.4246094570494\n",
            "degrees of freedom: 6\n",
            "p-value: 3.468951376263859e-296\n",
            "\n"
          ]
        }
      ],
      "source": [
        "chi2, prob, dof, expected = scipy.stats.chi2_contingency(cross_sk_exp)\n",
        "output = \"test Statistics: {}\\ndegrees of freedom: {}\\np-value: {}\\n\"\n",
        " \n",
        "print(output.format( chi2, dof, prob))"
      ]
    },
    {
      "cell_type": "markdown",
      "metadata": {
        "id": "ZZfrmh2g8Woe"
      },
      "source": [
        "> По результатам анализа таблицы сопряженности и полученному значению p-value значительно ниже уровня значимости, делаем вывод о наличии зависимости между двумя категориальными признаками. Опыт работы влияет на категории навыков вакансии"
      ]
    },
    {
      "cell_type": "markdown",
      "metadata": {
        "id": "g-J2hmJtOefN"
      },
      "source": [
        "## Анализируем связь двух числовых переменных\n",
        "> Произведем сравнение 2-х числовых переменных: минимальной и маскисмальной зарплаты по каждой вакансии. По таблице сравнения групп выбираем парный коэффициент корреляции Пирсона"
      ]
    },
    {
      "cell_type": "code",
      "source": [
        "# Уберем пропуски значений\n",
        "\n",
        "df_salary_full = df[df['salary_from'].notna()]\n",
        "df_salary_full = df_salary_full[df_salary_full['salary_to'].notna()]"
      ],
      "metadata": {
        "id": "HZRSGEJsPCW8"
      },
      "execution_count": null,
      "outputs": []
    },
    {
      "cell_type": "code",
      "source": [
        "# Представляем распределение значений на графике\n",
        "\n",
        "plt.style.use('ggplot')\n",
        "df_salary_full.plot('salary_from','salary_to',kind=\"scatter\")\n",
        "plt.ylabel('Зарплата максимальная')\n",
        "plt.xlabel('Зарплата минимальная')\n",
        "plt.axis(ymax=950000)"
      ],
      "metadata": {
        "colab": {
          "base_uri": "https://localhost:8080/",
          "height": 299
        },
        "id": "ideH6i_tP_XM",
        "outputId": "967b6002-17f1-422f-f165-6bd91a3c0af1"
      },
      "execution_count": null,
      "outputs": [
        {
          "output_type": "execute_result",
          "data": {
            "text/plain": [
              "(-29973.75, 629998.75, -86958.0, 950000.0)"
            ]
          },
          "metadata": {},
          "execution_count": 129
        },
        {
          "output_type": "display_data",
          "data": {
            "text/plain": [
              "<Figure size 432x288 with 1 Axes>"
            ],
            "image/png": "[encoded data removed]"
          },
          "metadata": {}
        }
      ]
    },
    {
      "cell_type": "code",
      "source": [
        "# Определяем парный коэффициент корреляции Пирсона\n",
        "\n",
        "df_salary_full[['salary_from','salary_to']].corr()"
      ],
      "metadata": {
        "colab": {
          "base_uri": "https://localhost:8080/",
          "height": 112
        },
        "id": "z1ITrdhSSSLN",
        "outputId": "0ba3156e-cf5d-446a-e9bb-aa4c0ca29c6d"
      },
      "execution_count": null,
      "outputs": [
        {
          "output_type": "execute_result",
          "data": {
            "text/plain": [
              "             salary_from  salary_to\n",
              "salary_from     1.000000   0.877394\n",
              "salary_to       0.877394   1.000000"
            ],
            "text/html": [
              "\n",
              "  <div id=\"df-0363db4e-6eaf-4d84-bb91-31a9d04d7c8b\">\n",
              "    <div class=\"colab-df-container\">\n",
              "      <div>\n",
              "<style scoped>\n",
              "    .dataframe tbody tr th:only-of-type {\n",
              "        vertical-align: middle;\n",
              "    }\n",
              "\n",
              "    .dataframe tbody tr th {\n",
              "        vertical-align: top;\n",
              "    }\n",
              "\n",
              "    .dataframe thead th {\n",
              "        text-align: right;\n",
              "    }\n",
              "</style>\n",
              "<table border=\"1\" class=\"dataframe\">\n",
              "  <thead>\n",
              "    <tr style=\"text-align: right;\">\n",
              "      <th></th>\n",
              "      <th>salary_from</th>\n",
              "      <th>salary_to</th>\n",
              "    </tr>\n",
              "  </thead>\n",
              "  <tbody>\n",
              "    <tr>\n",
              "      <th>salary_from</th>\n",
              "      <td>1.000000</td>\n",
              "      <td>0.877394</td>\n",
              "    </tr>\n",
              "    <tr>\n",
              "      <th>salary_to</th>\n",
              "      <td>0.877394</td>\n",
              "      <td>1.000000</td>\n",
              "    </tr>\n",
              "  </tbody>\n",
              "</table>\n",
              "</div>\n",
              "      <button class=\"colab-df-convert\" onclick=\"convertToInteractive('df-0363db4e-6eaf-4d84-bb91-31a9d04d7c8b')\"\n",
              "              title=\"Convert this dataframe to an interactive table.\"\n",
              "              style=\"display:none;\">\n",
              "        \n",
              "  <svg xmlns=\"http://www.w3.org/2000/svg\" height=\"24px\"viewBox=\"0 0 24 24\"\n",
              "       width=\"24px\">\n",
              "    <path d=\"M0 0h24v24H0V0z\" fill=\"none\"/>\n",
              "    <path d=\"M18.56 5.44l.94 2.06.94-2.06 2.06-.94-2.06-.94-.94-2.06-.94 2.06-2.06.94zm-11 1L8.5 8.5l.94-2.06 2.06-.94-2.06-.94L8.5 2.5l-.94 2.06-2.06.94zm10 10l.94 2.06.94-2.06 2.06-.94-2.06-.94-.94-2.06-.94 2.06-2.06.94z\"/><path d=\"M17.41 7.96l-1.37-1.37c-.4-.4-.92-.59-1.43-.59-.52 0-1.04.2-1.43.59L10.3 9.45l-7.72 7.72c-.78.78-.78 2.05 0 2.83L4 21.41c.39.39.9.59 1.41.59.51 0 1.02-.2 1.41-.59l7.78-7.78 2.81-2.81c.8-.78.8-2.07 0-2.86zM5.41 20L4 18.59l7.72-7.72 1.47 1.35L5.41 20z\"/>\n",
              "  </svg>\n",
              "      </button>\n",
              "      \n",
              "  <style>\n",
              "    .colab-df-container {\n",
              "      display:flex;\n",
              "      flex-wrap:wrap;\n",
              "      gap: 12px;\n",
              "    }\n",
              "\n",
              "    .colab-df-convert {\n",
              "      background-color: #E8F0FE;\n",
              "      border: none;\n",
              "      border-radius: 50%;\n",
              "      cursor: pointer;\n",
              "      display: none;\n",
              "      fill: #1967D2;\n",
              "      height: 32px;\n",
              "      padding: 0 0 0 0;\n",
              "      width: 32px;\n",
              "    }\n",
              "\n",
              "    .colab-df-convert:hover {\n",
              "      background-color: #E2EBFA;\n",
              "      box-shadow: 0px 1px 2px rgba(60, 64, 67, 0.3), 0px 1px 3px 1px rgba(60, 64, 67, 0.15);\n",
              "      fill: #174EA6;\n",
              "    }\n",
              "\n",
              "    [theme=dark] .colab-df-convert {\n",
              "      background-color: #3B4455;\n",
              "      fill: #D2E3FC;\n",
              "    }\n",
              "\n",
              "    [theme=dark] .colab-df-convert:hover {\n",
              "      background-color: #434B5C;\n",
              "      box-shadow: 0px 1px 3px 1px rgba(0, 0, 0, 0.15);\n",
              "      filter: drop-shadow(0px 1px 2px rgba(0, 0, 0, 0.3));\n",
              "      fill: #FFFFFF;\n",
              "    }\n",
              "  </style>\n",
              "\n",
              "      <script>\n",
              "        const buttonEl =\n",
              "          document.querySelector('#df-0363db4e-6eaf-4d84-bb91-31a9d04d7c8b button.colab-df-convert');\n",
              "        buttonEl.style.display =\n",
              "          google.colab.kernel.accessAllowed ? 'block' : 'none';\n",
              "\n",
              "        async function convertToInteractive(key) {\n",
              "          const element = document.querySelector('#df-0363db4e-6eaf-4d84-bb91-31a9d04d7c8b');\n",
              "          const dataTable =\n",
              "            await google.colab.kernel.invokeFunction('convertToInteractive',\n",
              "                                                     [key], {});\n",
              "          if (!dataTable) return;\n",
              "\n",
              "          const docLinkHtml = 'Like what you see? Visit the ' +\n",
              "            '<a target=\"_blank\" href=https://colab.research.google.com/notebooks/data_table.ipynb>data table notebook</a>'\n",
              "            + ' to learn more about interactive tables.';\n",
              "          element.innerHTML = '';\n",
              "          dataTable['output_type'] = 'display_data';\n",
              "          await google.colab.output.renderOutput(dataTable, element);\n",
              "          const docLink = document.createElement('div');\n",
              "          docLink.innerHTML = docLinkHtml;\n",
              "          element.appendChild(docLink);\n",
              "        }\n",
              "      </script>\n",
              "    </div>\n",
              "  </div>\n",
              "  "
            ]
          },
          "metadata": {},
          "execution_count": 130
        }
      ]
    },
    {
      "cell_type": "code",
      "source": [
        "# Проверяем гипотезу Н0 об отстутствии корреляции статистикой t-стьюдента\n",
        "\n",
        "scipy.stats.pearsonr(df_salary_full.salary_from, df_salary_full.salary_to)"
      ],
      "metadata": {
        "id": "eO7UV7LOSVXT",
        "colab": {
          "base_uri": "https://localhost:8080/"
        },
        "outputId": "9dbc6d77-38ec-466f-835d-2c6aa9639f88"
      },
      "execution_count": null,
      "outputs": [
        {
          "output_type": "execute_result",
          "data": {
            "text/plain": [
              "(0.8773940648749146, 0.0)"
            ]
          },
          "metadata": {},
          "execution_count": 131
        }
      ]
    },
    {
      "cell_type": "markdown",
      "source": [
        "> По результатам рассчета коэффициента корреляции Пирсона и значения p-value меньше 0,05 отвергаем нулевую гипотезу об отсутствии корреляции.\n",
        "Максимальная зарплата имеет прямую корреляцию с минимальной."
      ],
      "metadata": {
        "id": "Lchk6F3VQ6-X"
      }
    },
    {
      "cell_type": "markdown",
      "metadata": {
        "id": "9mIOB5_pSNnd"
      },
      "source": [
        "# 7. Проверка гипотезы"
      ]
    },
    {
      "cell_type": "markdown",
      "metadata": {
        "id": "Lz1CjeHPWzh1"
      },
      "source": [
        "> Гпотеза Н0: Знание языка программирования SQL не влияет на уровень заработной платы"
      ]
    },
    {
      "cell_type": "code",
      "execution_count": null,
      "metadata": {
        "colab": {
          "base_uri": "https://localhost:8080/",
          "height": 424
        },
        "id": "wm6PvuA2Z57X",
        "outputId": "11d82456-7016-4781-8e41-3439fb456a3b"
      },
      "outputs": [
        {
          "output_type": "execute_result",
          "data": {
            "text/plain": [
              "                                                   name  area_city  \\\n",
              "1                                       Тестировщик.Net  Астрахань   \n",
              "1                                       Тестировщик.Net  Астрахань   \n",
              "1                                       Тестировщик.Net  Астрахань   \n",
              "1                                       Тестировщик.Net  Астрахань   \n",
              "3      Ведущий Специалист по информационным технологиям  Астрахань   \n",
              "...                                                 ...        ...   \n",
              "51825                                    Программист 1C       Тула   \n",
              "51826        Начальник отдела информационных технологий       Тула   \n",
              "51826        Начальник отдела информационных технологий       Тула   \n",
              "51826        Начальник отдела информационных технологий       Тула   \n",
              "51826        Начальник отдела информационных технологий       Тула   \n",
              "\n",
              "       salary_from  salary_to  salary_mean     experience_name  \\\n",
              "1          21750.0    43500.0      32625.0  От 1 года до 3 лет   \n",
              "1          21750.0    43500.0      32625.0  От 1 года до 3 лет   \n",
              "1          21750.0    43500.0      32625.0  От 1 года до 3 лет   \n",
              "1          21750.0    43500.0      32625.0  От 1 года до 3 лет   \n",
              "3          22620.0        NaN      22620.0           Нет опыта   \n",
              "...            ...        ...          ...                 ...   \n",
              "51825     130000.0        NaN     130000.0  От 1 года до 3 лет   \n",
              "51826      50000.0        NaN      50000.0  От 1 года до 3 лет   \n",
              "51826      50000.0        NaN      50000.0  От 1 года до 3 лет   \n",
              "51826      50000.0        NaN      50000.0  От 1 года до 3 лет   \n",
              "51826      50000.0        NaN      50000.0  От 1 года до 3 лет   \n",
              "\n",
              "                            key_skills_list  \\\n",
              "1                                       Git   \n",
              "1                                       SQL   \n",
              "1                              Тестирование   \n",
              "1                                        C#   \n",
              "3                           Пользователь ПК   \n",
              "...                                     ...   \n",
              "51825  1С: Зарплата и управление персоналом   \n",
              "51826                Организаторские навыки   \n",
              "51826                      Работа в команде   \n",
              "51826                       Деловое общение   \n",
              "51826     Работа в условиях многозадачности   \n",
              "\n",
              "                                        spec_skills_list  skills_group  \n",
              "1      [Программирование, Разработка, Инженер, Тестир...             3  \n",
              "1      [Программирование, Разработка, Инженер, Тестир...             1  \n",
              "1      [Программирование, Разработка, Инженер, Тестир...             3  \n",
              "1      [Программирование, Разработка, Инженер, Тестир...             1  \n",
              "3      [Компьютерная безопасность, Сетевые технологии...             3  \n",
              "...                                                  ...           ...  \n",
              "51825  [Программирование, Разработка, Системы управле...             3  \n",
              "51826  [Информационные технологии, Интернет, Мультиме...             2  \n",
              "51826  [Информационные технологии, Интернет, Мультиме...             2  \n",
              "51826  [Информационные технологии, Интернет, Мультиме...             2  \n",
              "51826  [Информационные технологии, Интернет, Мультиме...             2  \n",
              "\n",
              "[58550 rows x 9 columns]"
            ],
            "text/html": [
              "\n",
              "  <div id=\"df-f70f740f-5eed-4700-ad7f-7c50cdeaeb6f\">\n",
              "    <div class=\"colab-df-container\">\n",
              "      <div>\n",
              "<style scoped>\n",
              "    .dataframe tbody tr th:only-of-type {\n",
              "        vertical-align: middle;\n",
              "    }\n",
              "\n",
              "    .dataframe tbody tr th {\n",
              "        vertical-align: top;\n",
              "    }\n",
              "\n",
              "    .dataframe thead th {\n",
              "        text-align: right;\n",
              "    }\n",
              "</style>\n",
              "<table border=\"1\" class=\"dataframe\">\n",
              "  <thead>\n",
              "    <tr style=\"text-align: right;\">\n",
              "      <th></th>\n",
              "      <th>name</th>\n",
              "      <th>area_city</th>\n",
              "      <th>salary_from</th>\n",
              "      <th>salary_to</th>\n",
              "      <th>salary_mean</th>\n",
              "      <th>experience_name</th>\n",
              "      <th>key_skills_list</th>\n",
              "      <th>spec_skills_list</th>\n",
              "      <th>skills_group</th>\n",
              "    </tr>\n",
              "  </thead>\n",
              "  <tbody>\n",
              "    <tr>\n",
              "      <th>1</th>\n",
              "      <td>Тестировщик.Net</td>\n",
              "      <td>Астрахань</td>\n",
              "      <td>21750.0</td>\n",
              "      <td>43500.0</td>\n",
              "      <td>32625.0</td>\n",
              "      <td>От 1 года до 3 лет</td>\n",
              "      <td>Git</td>\n",
              "      <td>[Программирование, Разработка, Инженер, Тестир...</td>\n",
              "      <td>3</td>\n",
              "    </tr>\n",
              "    <tr>\n",
              "      <th>1</th>\n",
              "      <td>Тестировщик.Net</td>\n",
              "      <td>Астрахань</td>\n",
              "      <td>21750.0</td>\n",
              "      <td>43500.0</td>\n",
              "      <td>32625.0</td>\n",
              "      <td>От 1 года до 3 лет</td>\n",
              "      <td>SQL</td>\n",
              "      <td>[Программирование, Разработка, Инженер, Тестир...</td>\n",
              "      <td>1</td>\n",
              "    </tr>\n",
              "    <tr>\n",
              "      <th>1</th>\n",
              "      <td>Тестировщик.Net</td>\n",
              "      <td>Астрахань</td>\n",
              "      <td>21750.0</td>\n",
              "      <td>43500.0</td>\n",
              "      <td>32625.0</td>\n",
              "      <td>От 1 года до 3 лет</td>\n",
              "      <td>Тестирование</td>\n",
              "      <td>[Программирование, Разработка, Инженер, Тестир...</td>\n",
              "      <td>3</td>\n",
              "    </tr>\n",
              "    <tr>\n",
              "      <th>1</th>\n",
              "      <td>Тестировщик.Net</td>\n",
              "      <td>Астрахань</td>\n",
              "      <td>21750.0</td>\n",
              "      <td>43500.0</td>\n",
              "      <td>32625.0</td>\n",
              "      <td>От 1 года до 3 лет</td>\n",
              "      <td>C#</td>\n",
              "      <td>[Программирование, Разработка, Инженер, Тестир...</td>\n",
              "      <td>1</td>\n",
              "    </tr>\n",
              "    <tr>\n",
              "      <th>3</th>\n",
              "      <td>Ведущий Специалист по информационным технологиям</td>\n",
              "      <td>Астрахань</td>\n",
              "      <td>22620.0</td>\n",
              "      <td>NaN</td>\n",
              "      <td>22620.0</td>\n",
              "      <td>Нет опыта</td>\n",
              "      <td>Пользователь ПК</td>\n",
              "      <td>[Компьютерная безопасность, Сетевые технологии...</td>\n",
              "      <td>3</td>\n",
              "    </tr>\n",
              "    <tr>\n",
              "      <th>...</th>\n",
              "      <td>...</td>\n",
              "      <td>...</td>\n",
              "      <td>...</td>\n",
              "      <td>...</td>\n",
              "      <td>...</td>\n",
              "      <td>...</td>\n",
              "      <td>...</td>\n",
              "      <td>...</td>\n",
              "      <td>...</td>\n",
              "    </tr>\n",
              "    <tr>\n",
              "      <th>51825</th>\n",
              "      <td>Программист 1C</td>\n",
              "      <td>Тула</td>\n",
              "      <td>130000.0</td>\n",
              "      <td>NaN</td>\n",
              "      <td>130000.0</td>\n",
              "      <td>От 1 года до 3 лет</td>\n",
              "      <td>1С: Зарплата и управление персоналом</td>\n",
              "      <td>[Программирование, Разработка, Системы управле...</td>\n",
              "      <td>3</td>\n",
              "    </tr>\n",
              "    <tr>\n",
              "      <th>51826</th>\n",
              "      <td>Начальник отдела информационных технологий</td>\n",
              "      <td>Тула</td>\n",
              "      <td>50000.0</td>\n",
              "      <td>NaN</td>\n",
              "      <td>50000.0</td>\n",
              "      <td>От 1 года до 3 лет</td>\n",
              "      <td>Организаторские навыки</td>\n",
              "      <td>[Информационные технологии, Интернет, Мультиме...</td>\n",
              "      <td>2</td>\n",
              "    </tr>\n",
              "    <tr>\n",
              "      <th>51826</th>\n",
              "      <td>Начальник отдела информационных технологий</td>\n",
              "      <td>Тула</td>\n",
              "      <td>50000.0</td>\n",
              "      <td>NaN</td>\n",
              "      <td>50000.0</td>\n",
              "      <td>От 1 года до 3 лет</td>\n",
              "      <td>Работа в команде</td>\n",
              "      <td>[Информационные технологии, Интернет, Мультиме...</td>\n",
              "      <td>2</td>\n",
              "    </tr>\n",
              "    <tr>\n",
              "      <th>51826</th>\n",
              "      <td>Начальник отдела информационных технологий</td>\n",
              "      <td>Тула</td>\n",
              "      <td>50000.0</td>\n",
              "      <td>NaN</td>\n",
              "      <td>50000.0</td>\n",
              "      <td>От 1 года до 3 лет</td>\n",
              "      <td>Деловое общение</td>\n",
              "      <td>[Информационные технологии, Интернет, Мультиме...</td>\n",
              "      <td>2</td>\n",
              "    </tr>\n",
              "    <tr>\n",
              "      <th>51826</th>\n",
              "      <td>Начальник отдела информационных технологий</td>\n",
              "      <td>Тула</td>\n",
              "      <td>50000.0</td>\n",
              "      <td>NaN</td>\n",
              "      <td>50000.0</td>\n",
              "      <td>От 1 года до 3 лет</td>\n",
              "      <td>Работа в условиях многозадачности</td>\n",
              "      <td>[Информационные технологии, Интернет, Мультиме...</td>\n",
              "      <td>2</td>\n",
              "    </tr>\n",
              "  </tbody>\n",
              "</table>\n",
              "<p>58550 rows × 9 columns</p>\n",
              "</div>\n",
              "      <button class=\"colab-df-convert\" onclick=\"convertToInteractive('df-f70f740f-5eed-4700-ad7f-7c50cdeaeb6f')\"\n",
              "              title=\"Convert this dataframe to an interactive table.\"\n",
              "              style=\"display:none;\">\n",
              "        \n",
              "  <svg xmlns=\"http://www.w3.org/2000/svg\" height=\"24px\"viewBox=\"0 0 24 24\"\n",
              "       width=\"24px\">\n",
              "    <path d=\"M0 0h24v24H0V0z\" fill=\"none\"/>\n",
              "    <path d=\"M18.56 5.44l.94 2.06.94-2.06 2.06-.94-2.06-.94-.94-2.06-.94 2.06-2.06.94zm-11 1L8.5 8.5l.94-2.06 2.06-.94-2.06-.94L8.5 2.5l-.94 2.06-2.06.94zm10 10l.94 2.06.94-2.06 2.06-.94-2.06-.94-.94-2.06-.94 2.06-2.06.94z\"/><path d=\"M17.41 7.96l-1.37-1.37c-.4-.4-.92-.59-1.43-.59-.52 0-1.04.2-1.43.59L10.3 9.45l-7.72 7.72c-.78.78-.78 2.05 0 2.83L4 21.41c.39.39.9.59 1.41.59.51 0 1.02-.2 1.41-.59l7.78-7.78 2.81-2.81c.8-.78.8-2.07 0-2.86zM5.41 20L4 18.59l7.72-7.72 1.47 1.35L5.41 20z\"/>\n",
              "  </svg>\n",
              "      </button>\n",
              "      \n",
              "  <style>\n",
              "    .colab-df-container {\n",
              "      display:flex;\n",
              "      flex-wrap:wrap;\n",
              "      gap: 12px;\n",
              "    }\n",
              "\n",
              "    .colab-df-convert {\n",
              "      background-color: #E8F0FE;\n",
              "      border: none;\n",
              "      border-radius: 50%;\n",
              "      cursor: pointer;\n",
              "      display: none;\n",
              "      fill: #1967D2;\n",
              "      height: 32px;\n",
              "      padding: 0 0 0 0;\n",
              "      width: 32px;\n",
              "    }\n",
              "\n",
              "    .colab-df-convert:hover {\n",
              "      background-color: #E2EBFA;\n",
              "      box-shadow: 0px 1px 2px rgba(60, 64, 67, 0.3), 0px 1px 3px 1px rgba(60, 64, 67, 0.15);\n",
              "      fill: #174EA6;\n",
              "    }\n",
              "\n",
              "    [theme=dark] .colab-df-convert {\n",
              "      background-color: #3B4455;\n",
              "      fill: #D2E3FC;\n",
              "    }\n",
              "\n",
              "    [theme=dark] .colab-df-convert:hover {\n",
              "      background-color: #434B5C;\n",
              "      box-shadow: 0px 1px 3px 1px rgba(0, 0, 0, 0.15);\n",
              "      filter: drop-shadow(0px 1px 2px rgba(0, 0, 0, 0.3));\n",
              "      fill: #FFFFFF;\n",
              "    }\n",
              "  </style>\n",
              "\n",
              "      <script>\n",
              "        const buttonEl =\n",
              "          document.querySelector('#df-f70f740f-5eed-4700-ad7f-7c50cdeaeb6f button.colab-df-convert');\n",
              "        buttonEl.style.display =\n",
              "          google.colab.kernel.accessAllowed ? 'block' : 'none';\n",
              "\n",
              "        async function convertToInteractive(key) {\n",
              "          const element = document.querySelector('#df-f70f740f-5eed-4700-ad7f-7c50cdeaeb6f');\n",
              "          const dataTable =\n",
              "            await google.colab.kernel.invokeFunction('convertToInteractive',\n",
              "                                                     [key], {});\n",
              "          if (!dataTable) return;\n",
              "\n",
              "          const docLinkHtml = 'Like what you see? Visit the ' +\n",
              "            '<a target=\"_blank\" href=https://colab.research.google.com/notebooks/data_table.ipynb>data table notebook</a>'\n",
              "            + ' to learn more about interactive tables.';\n",
              "          element.innerHTML = '';\n",
              "          dataTable['output_type'] = 'display_data';\n",
              "          await google.colab.output.renderOutput(dataTable, element);\n",
              "          const docLink = document.createElement('div');\n",
              "          docLink.innerHTML = docLinkHtml;\n",
              "          element.appendChild(docLink);\n",
              "        }\n",
              "      </script>\n",
              "    </div>\n",
              "  </div>\n",
              "  "
            ]
          },
          "metadata": {},
          "execution_count": 132
        }
      ],
      "source": [
        "dexplod_2"
      ]
    },
    {
      "cell_type": "code",
      "execution_count": null,
      "metadata": {
        "colab": {
          "base_uri": "https://localhost:8080/"
        },
        "id": "_hY0N4flg5yg",
        "outputId": "3ab8c4ac-a758-4b7a-ada5-14299d38341b"
      },
      "outputs": [
        {
          "output_type": "stream",
          "name": "stderr",
          "text": [
            "/usr/local/lib/python3.7/dist-packages/ipykernel_launcher.py:3: SettingWithCopyWarning: \n",
            "A value is trying to be set on a copy of a slice from a DataFrame.\n",
            "Try using .loc[row_indexer,col_indexer] = value instead\n",
            "\n",
            "See the caveats in the documentation: https://pandas.pydata.org/pandas-docs/stable/user_guide/indexing.html#returning-a-view-versus-a-copy\n",
            "  This is separate from the ipykernel package so we can avoid doing imports until\n"
          ]
        }
      ],
      "source": [
        "# Разделим вакансии на 2 группы: зо знанием языка программирования SQL и без\n",
        "\n",
        "dexplod_2['sql_group'] = dexplod_2['key_skills_list'].apply(lambda row: 'sql_yes' if row == 'SQL' else 'sql_no')"
      ]
    },
    {
      "cell_type": "code",
      "execution_count": null,
      "metadata": {
        "colab": {
          "base_uri": "https://localhost:8080/",
          "height": 206
        },
        "id": "dpgDgcIzl2xQ",
        "outputId": "5616824b-e08f-4d2a-d330-65ce0389dfb6"
      },
      "outputs": [
        {
          "output_type": "execute_result",
          "data": {
            "text/plain": [
              "                                               name  area_city  salary_from  \\\n",
              "1                                   Тестировщик.Net  Астрахань      21750.0   \n",
              "1                                   Тестировщик.Net  Астрахань      21750.0   \n",
              "1                                   Тестировщик.Net  Астрахань      21750.0   \n",
              "1                                   Тестировщик.Net  Астрахань      21750.0   \n",
              "3  Ведущий Специалист по информационным технологиям  Астрахань      22620.0   \n",
              "\n",
              "   salary_to  salary_mean     experience_name  key_skills_list  \\\n",
              "1    43500.0      32625.0  От 1 года до 3 лет              Git   \n",
              "1    43500.0      32625.0  От 1 года до 3 лет              SQL   \n",
              "1    43500.0      32625.0  От 1 года до 3 лет     Тестирование   \n",
              "1    43500.0      32625.0  От 1 года до 3 лет               C#   \n",
              "3        NaN      22620.0           Нет опыта  Пользователь ПК   \n",
              "\n",
              "                                    spec_skills_list  skills_group sql_group  \n",
              "1  [Программирование, Разработка, Инженер, Тестир...             3    sql_no  \n",
              "1  [Программирование, Разработка, Инженер, Тестир...             1   sql_yes  \n",
              "1  [Программирование, Разработка, Инженер, Тестир...             3    sql_no  \n",
              "1  [Программирование, Разработка, Инженер, Тестир...             1    sql_no  \n",
              "3  [Компьютерная безопасность, Сетевые технологии...             3    sql_no  "
            ],
            "text/html": [
              "\n",
              "  <div id=\"df-cd944747-ab3a-439d-b322-31e66002a24e\">\n",
              "    <div class=\"colab-df-container\">\n",
              "      <div>\n",
              "<style scoped>\n",
              "    .dataframe tbody tr th:only-of-type {\n",
              "        vertical-align: middle;\n",
              "    }\n",
              "\n",
              "    .dataframe tbody tr th {\n",
              "        vertical-align: top;\n",
              "    }\n",
              "\n",
              "    .dataframe thead th {\n",
              "        text-align: right;\n",
              "    }\n",
              "</style>\n",
              "<table border=\"1\" class=\"dataframe\">\n",
              "  <thead>\n",
              "    <tr style=\"text-align: right;\">\n",
              "      <th></th>\n",
              "      <th>name</th>\n",
              "      <th>area_city</th>\n",
              "      <th>salary_from</th>\n",
              "      <th>salary_to</th>\n",
              "      <th>salary_mean</th>\n",
              "      <th>experience_name</th>\n",
              "      <th>key_skills_list</th>\n",
              "      <th>spec_skills_list</th>\n",
              "      <th>skills_group</th>\n",
              "      <th>sql_group</th>\n",
              "    </tr>\n",
              "  </thead>\n",
              "  <tbody>\n",
              "    <tr>\n",
              "      <th>1</th>\n",
              "      <td>Тестировщик.Net</td>\n",
              "      <td>Астрахань</td>\n",
              "      <td>21750.0</td>\n",
              "      <td>43500.0</td>\n",
              "      <td>32625.0</td>\n",
              "      <td>От 1 года до 3 лет</td>\n",
              "      <td>Git</td>\n",
              "      <td>[Программирование, Разработка, Инженер, Тестир...</td>\n",
              "      <td>3</td>\n",
              "      <td>sql_no</td>\n",
              "    </tr>\n",
              "    <tr>\n",
              "      <th>1</th>\n",
              "      <td>Тестировщик.Net</td>\n",
              "      <td>Астрахань</td>\n",
              "      <td>21750.0</td>\n",
              "      <td>43500.0</td>\n",
              "      <td>32625.0</td>\n",
              "      <td>От 1 года до 3 лет</td>\n",
              "      <td>SQL</td>\n",
              "      <td>[Программирование, Разработка, Инженер, Тестир...</td>\n",
              "      <td>1</td>\n",
              "      <td>sql_yes</td>\n",
              "    </tr>\n",
              "    <tr>\n",
              "      <th>1</th>\n",
              "      <td>Тестировщик.Net</td>\n",
              "      <td>Астрахань</td>\n",
              "      <td>21750.0</td>\n",
              "      <td>43500.0</td>\n",
              "      <td>32625.0</td>\n",
              "      <td>От 1 года до 3 лет</td>\n",
              "      <td>Тестирование</td>\n",
              "      <td>[Программирование, Разработка, Инженер, Тестир...</td>\n",
              "      <td>3</td>\n",
              "      <td>sql_no</td>\n",
              "    </tr>\n",
              "    <tr>\n",
              "      <th>1</th>\n",
              "      <td>Тестировщик.Net</td>\n",
              "      <td>Астрахань</td>\n",
              "      <td>21750.0</td>\n",
              "      <td>43500.0</td>\n",
              "      <td>32625.0</td>\n",
              "      <td>От 1 года до 3 лет</td>\n",
              "      <td>C#</td>\n",
              "      <td>[Программирование, Разработка, Инженер, Тестир...</td>\n",
              "      <td>1</td>\n",
              "      <td>sql_no</td>\n",
              "    </tr>\n",
              "    <tr>\n",
              "      <th>3</th>\n",
              "      <td>Ведущий Специалист по информационным технологиям</td>\n",
              "      <td>Астрахань</td>\n",
              "      <td>22620.0</td>\n",
              "      <td>NaN</td>\n",
              "      <td>22620.0</td>\n",
              "      <td>Нет опыта</td>\n",
              "      <td>Пользователь ПК</td>\n",
              "      <td>[Компьютерная безопасность, Сетевые технологии...</td>\n",
              "      <td>3</td>\n",
              "      <td>sql_no</td>\n",
              "    </tr>\n",
              "  </tbody>\n",
              "</table>\n",
              "</div>\n",
              "      <button class=\"colab-df-convert\" onclick=\"convertToInteractive('df-cd944747-ab3a-439d-b322-31e66002a24e')\"\n",
              "              title=\"Convert this dataframe to an interactive table.\"\n",
              "              style=\"display:none;\">\n",
              "        \n",
              "  <svg xmlns=\"http://www.w3.org/2000/svg\" height=\"24px\"viewBox=\"0 0 24 24\"\n",
              "       width=\"24px\">\n",
              "    <path d=\"M0 0h24v24H0V0z\" fill=\"none\"/>\n",
              "    <path d=\"M18.56 5.44l.94 2.06.94-2.06 2.06-.94-2.06-.94-.94-2.06-.94 2.06-2.06.94zm-11 1L8.5 8.5l.94-2.06 2.06-.94-2.06-.94L8.5 2.5l-.94 2.06-2.06.94zm10 10l.94 2.06.94-2.06 2.06-.94-2.06-.94-.94-2.06-.94 2.06-2.06.94z\"/><path d=\"M17.41 7.96l-1.37-1.37c-.4-.4-.92-.59-1.43-.59-.52 0-1.04.2-1.43.59L10.3 9.45l-7.72 7.72c-.78.78-.78 2.05 0 2.83L4 21.41c.39.39.9.59 1.41.59.51 0 1.02-.2 1.41-.59l7.78-7.78 2.81-2.81c.8-.78.8-2.07 0-2.86zM5.41 20L4 18.59l7.72-7.72 1.47 1.35L5.41 20z\"/>\n",
              "  </svg>\n",
              "      </button>\n",
              "      \n",
              "  <style>\n",
              "    .colab-df-container {\n",
              "      display:flex;\n",
              "      flex-wrap:wrap;\n",
              "      gap: 12px;\n",
              "    }\n",
              "\n",
              "    .colab-df-convert {\n",
              "      background-color: #E8F0FE;\n",
              "      border: none;\n",
              "      border-radius: 50%;\n",
              "      cursor: pointer;\n",
              "      display: none;\n",
              "      fill: #1967D2;\n",
              "      height: 32px;\n",
              "      padding: 0 0 0 0;\n",
              "      width: 32px;\n",
              "    }\n",
              "\n",
              "    .colab-df-convert:hover {\n",
              "      background-color: #E2EBFA;\n",
              "      box-shadow: 0px 1px 2px rgba(60, 64, 67, 0.3), 0px 1px 3px 1px rgba(60, 64, 67, 0.15);\n",
              "      fill: #174EA6;\n",
              "    }\n",
              "\n",
              "    [theme=dark] .colab-df-convert {\n",
              "      background-color: #3B4455;\n",
              "      fill: #D2E3FC;\n",
              "    }\n",
              "\n",
              "    [theme=dark] .colab-df-convert:hover {\n",
              "      background-color: #434B5C;\n",
              "      box-shadow: 0px 1px 3px 1px rgba(0, 0, 0, 0.15);\n",
              "      filter: drop-shadow(0px 1px 2px rgba(0, 0, 0, 0.3));\n",
              "      fill: #FFFFFF;\n",
              "    }\n",
              "  </style>\n",
              "\n",
              "      <script>\n",
              "        const buttonEl =\n",
              "          document.querySelector('#df-cd944747-ab3a-439d-b322-31e66002a24e button.colab-df-convert');\n",
              "        buttonEl.style.display =\n",
              "          google.colab.kernel.accessAllowed ? 'block' : 'none';\n",
              "\n",
              "        async function convertToInteractive(key) {\n",
              "          const element = document.querySelector('#df-cd944747-ab3a-439d-b322-31e66002a24e');\n",
              "          const dataTable =\n",
              "            await google.colab.kernel.invokeFunction('convertToInteractive',\n",
              "                                                     [key], {});\n",
              "          if (!dataTable) return;\n",
              "\n",
              "          const docLinkHtml = 'Like what you see? Visit the ' +\n",
              "            '<a target=\"_blank\" href=https://colab.research.google.com/notebooks/data_table.ipynb>data table notebook</a>'\n",
              "            + ' to learn more about interactive tables.';\n",
              "          element.innerHTML = '';\n",
              "          dataTable['output_type'] = 'display_data';\n",
              "          await google.colab.output.renderOutput(dataTable, element);\n",
              "          const docLink = document.createElement('div');\n",
              "          docLink.innerHTML = docLinkHtml;\n",
              "          element.appendChild(docLink);\n",
              "        }\n",
              "      </script>\n",
              "    </div>\n",
              "  </div>\n",
              "  "
            ]
          },
          "metadata": {},
          "execution_count": 134
        }
      ],
      "source": [
        "dexplod_2.head()"
      ]
    },
    {
      "cell_type": "code",
      "execution_count": null,
      "metadata": {
        "colab": {
          "base_uri": "https://localhost:8080/",
          "height": 301
        },
        "id": "X4DYk9dqc2Av",
        "outputId": "9015b93e-143d-465a-9575-3e9276cf766d"
      },
      "outputs": [
        {
          "output_type": "display_data",
          "data": {
            "text/plain": [
              "<Figure size 432x288 with 1 Axes>"
            ],
            "image/png": "[encoded data removed]"
          },
          "metadata": {}
        }
      ],
      "source": [
        "# Представим графически распределение зарплат по группам\n",
        "\n",
        "plt.style.use('ggplot')\n",
        "cit = sns.boxplot(x='sql_group', y='salary_mean', data=dexplod_2)\n",
        "plt.axis(ymin=-20000, ymax=370000)\n",
        "cit.axes.set_title('Боксплот зарплата / знание SQL' , fontsize=14)\n",
        "cit.set_ylabel('Средняя зарплата', fontsize=14)\n",
        "cit.set_xlabel('Владение языком SQL', fontsize=14)\n",
        "plt.show()"
      ]
    },
    {
      "cell_type": "code",
      "execution_count": null,
      "metadata": {
        "id": "GyFBcaTNV1nV"
      },
      "outputs": [],
      "source": [
        "# Cоздаем фильтры по группам\n",
        "\n",
        "d_sqlno = dexplod_2[dexplod_2['sql_group'] == 'sql_no']\n",
        "d_sqlyes = dexplod_2[dexplod_2['sql_group'] == 'sql_yes']"
      ]
    },
    {
      "cell_type": "markdown",
      "metadata": {
        "id": "zRa94gN3lep4"
      },
      "source": [
        "> Для сравнения 2-х групп количественного признака ненормального распределения используем критерий Манна-Уитни"
      ]
    },
    {
      "cell_type": "code",
      "execution_count": null,
      "metadata": {
        "colab": {
          "base_uri": "https://localhost:8080/"
        },
        "id": "7XibFWTVcGS_",
        "outputId": "cd785b45-aa0b-4750-8f37-9ffa7e177f38"
      },
      "outputs": [
        {
          "output_type": "execute_result",
          "data": {
            "text/plain": [
              "MannwhitneyuResult(statistic=67944317.5, pvalue=7.832684607114123e-95)"
            ]
          },
          "metadata": {},
          "execution_count": 137
        }
      ],
      "source": [
        "# Определяем значение статистики стьюдента p-value\n",
        "\n",
        "scipy.stats.mannwhitneyu(d_sqlyes['salary_mean'], d_sqlno['salary_mean'])  "
      ]
    },
    {
      "cell_type": "markdown",
      "metadata": {
        "id": "ZdIYkQrRmFgp"
      },
      "source": [
        "> По результатам оценки критерием Манна-Уитни отвергаем Н0 гипотезу об отсутствии связи заработной платы с знанием языка программирования SQL. Категориальный признак имеет статистически значимое влияние на ЗП"
      ]
    },
    {
      "cell_type": "markdown",
      "metadata": {
        "id": "EgSel5oGJUdO"
      },
      "source": [
        "# **ИТОГ:**\n",
        "В результате исследования можно сделать следующие выводы:\n",
        "1. Количественный показатель заработная плата имеет ненормльное распределение\n",
        "2. Количественный показатель заработная плата имеет взаимосвязь с такими категориальными показателями как: город размещения вакансии, специальность и опыт работы.\n",
        "3. Количественный показатель заработная плата зависит так же от категории навыков (Знание языков программирования, soft-skill, Стек технологий)\n",
        "5. По результатам проверки гипотез о влиянии ключевых навыков на уровень зарплаты выяснили:\n",
        "\n",
        "*   заработная плата зависит от наличия в требованиях к вакансии знания языка программирования SQL\n",
        "\n",
        "Рекомендации для заказчика:\n",
        "\n",
        "а) Из проанализированных взаимосвязей между категориями видно, что вакансии с  таким навыком как знание языка программирования SQL ценятся выше, чем без этого навыка.\n",
        "\n",
        "Поэтому рекомендация для заказчика сосредоточиться на включении в программу обучения языку программирования SQL\n",
        "\n",
        "б) Также очевидно, что с изменением требуемого опыта специалиста меняется и уровень заработной платы. Можно сделать вывод, что специалисты с опытом, после повышения квалификации, более востребованны, чем специалисы без опыта после переподготовки.\n",
        "\n",
        "Поэтому выгоднее сосредоточиться на курсах по повышению квалификации\n",
        "\n"
      ]
    }
  ]
}