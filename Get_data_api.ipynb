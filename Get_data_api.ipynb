{
  "nbformat": 4,
  "nbformat_minor": 0,
  "metadata": {
    "colab": {
      "provenance": [],
      "collapsed_sections": [
        "XslJSFkAe5-5",
        "N1UzGf1CtVfa"
      ],
      "name": "Get_data-api.ipynb",
      "include_colab_link": true
    },
    "kernelspec": {
      "name": "python3",
      "display_name": "Python 3"
    },
    "language_info": {
      "name": "python"
    }
  },
  "cells": [
    {
      "cell_type": "markdown",
      "metadata": {
        "id": "view-in-github",
        "colab_type": "text"
      },
      "source": [
        "<a href=\"https://colab.research.google.com/github/ArtemDorofeev/IT-education-project/blob/main/Get_data_api.ipynb\" target=\"_parent\"><img src=\"https://colab.research.google.com/assets/colab-badge.svg\" alt=\"Open In Colab\"/></a>"
      ]
    },
    {
      "cell_type": "code",
      "source": [
        "!pip install vk_api"
      ],
      "metadata": {
        "id": "5rJQzE_8fSS6",
        "colab": {
          "base_uri": "https://localhost:8080/"
        },
        "outputId": "a4a3408b-aa0f-47c2-ee74-a05e0c1a001b"
      },
      "execution_count": null,
      "outputs": [
        {
          "output_type": "stream",
          "name": "stdout",
          "text": [
            "Looking in indexes: https://pypi.org/simple, https://us-python.pkg.dev/colab-wheels/public/simple/\n",
            "Requirement already satisfied: vk_api in /usr/local/lib/python3.7/dist-packages (11.9.9)\n",
            "Requirement already satisfied: requests in /usr/local/lib/python3.7/dist-packages (from vk_api) (2.23.0)\n",
            "Requirement already satisfied: urllib3!=1.25.0,!=1.25.1,<1.26,>=1.21.1 in /usr/local/lib/python3.7/dist-packages (from requests->vk_api) (1.24.3)\n",
            "Requirement already satisfied: chardet<4,>=3.0.2 in /usr/local/lib/python3.7/dist-packages (from requests->vk_api) (3.0.4)\n",
            "Requirement already satisfied: certifi>=2017.4.17 in /usr/local/lib/python3.7/dist-packages (from requests->vk_api) (2022.9.24)\n",
            "Requirement already satisfied: idna<3,>=2.5 in /usr/local/lib/python3.7/dist-packages (from requests->vk_api) (2.10)\n"
          ]
        }
      ]
    },
    {
      "cell_type": "code",
      "source": [
        "import vk_api\n",
        "import csv\n",
        "\n",
        "ACCESS_TOKEN = 'vk1.a.pSKBMznrZEAj0QKshXGiJV538mjVDypdz2EOpjQohj6TgY-Gfjz0wvikMYl7ZzsOwtaAez11FVt_3ew5PhniaX6CqrZvfQzRhjLkSNaQsF7jmD0CSH9UaJpxHTAaXzu5XqVwElNWDRMnJXJ7sVlG6a8e2SsrMSLwTo5MzT8y6etUawpXP0YFBxJHMd4KxllT'\n",
        "\n",
        "# Инициализация сессии с помощью токена доступа\n",
        "\n",
        "vk_session = vk_api.VkApi(token=ACCESS_TOKEN)\n",
        "vk = vk_session.get_api()\n"
      ],
      "metadata": {
        "id": "gTGMIC4RC-uC"
      },
      "execution_count": null,
      "outputs": []
    },
    {
      "cell_type": "markdown",
      "source": [
        "## **Задание 1. Собираем данные с помощью Requests**"
      ],
      "metadata": {
        "id": "zKH9MpmOepks"
      }
    },
    {
      "cell_type": "markdown",
      "source": [
        "С помощью методов API ВКонтакте получите список высших учебных заведений и названия их факультетов в городе Томск.\n",
        "Результат должен быть записан в файл JSON в следующем формате:"
      ],
      "metadata": {
        "id": "MgvkdXgsex5B"
      }
    },
    {
      "cell_type": "code",
      "source": [
        "# Получение ID города Томск\n",
        "city = vk.database.getCities(country_id=1, q=\"Томск\", count=1)\n",
        "city_id = city[\"items\"][0][\"id\"] if city[\"count\"] > 0 else None\n",
        "city_name = city[\"items\"][0][\"title\"] if city[\"count\"] > 0 else None\n",
        "\n",
        "city_name"
      ],
      "metadata": {
        "id": "dpDf8dHbWR74",
        "colab": {
          "base_uri": "https://localhost:8080/",
          "height": 35
        },
        "outputId": "957c90b8-1c28-479e-e22f-f70d1f3e087d"
      },
      "execution_count": null,
      "outputs": [
        {
          "output_type": "execute_result",
          "data": {
            "text/plain": [
              "'Томск'"
            ],
            "application/vnd.google.colaboratory.intrinsic+json": {
              "type": "string"
            }
          },
          "metadata": {},
          "execution_count": 34
        }
      ]
    },
    {
      "cell_type": "code",
      "source": [
        "# Получение списка университетов и факультетов\n",
        "\n",
        "if city_id:\n",
        "  univer_data = vk.database.getUniversities(country_id=1, city_id=city_id, count=1000)\n",
        "  universities = []\n",
        "  for i in univer_data['items']:\n",
        "    facult_data = vk.database.getFaculties(university_id=i['id'])\n",
        "    faculties = [fk['title'] for fk in facult_data['items']]\n",
        "    university = {'id':i['id'], 'name':i['title'], 'faculties':faculties}\n",
        "    universities.append(university)\n",
        "else:\n",
        "   print(f\"ERROR: not city\")\n",
        "dic = {\"cities\": [{\"id\": city_id, \"name\": city_name, \"universities\": universities}]}\n"
      ],
      "metadata": {
        "id": "2uUSh6M4GX8M"
      },
      "execution_count": null,
      "outputs": []
    },
    {
      "cell_type": "code",
      "source": [
        "# Запись данных в файл json\n",
        "\n",
        "import json\n",
        "\n",
        "with open('Tomsk_universities.json', 'w') as f:\n",
        "    f.write(json.dumps(dic, ensure_ascii=False))\n"
      ],
      "metadata": {
        "id": "9rNFg2AKUVf6"
      },
      "execution_count": null,
      "outputs": []
    },
    {
      "cell_type": "markdown",
      "source": [
        "# **Задание 2. Библиотека VK API**"
      ],
      "metadata": {
        "id": "XslJSFkAe5-5"
      }
    },
    {
      "cell_type": "markdown",
      "source": [
        "Напишите код, который получает список названия школ города Кемерово с помощью библиотеки vk_api и записывает результаты в файл JSON."
      ],
      "metadata": {
        "id": "Fv1R9qMftlt9"
      }
    },
    {
      "cell_type": "code",
      "source": [
        "# Получение ID города Кемерово\n",
        "\n",
        "city = vk.database.getCities(country_id=1, q=\"Кемерово\", count=1)\n",
        "city_id = city[\"items\"][0][\"id\"] if city[\"count\"] > 0 else None\n",
        "city_name = city[\"items\"][0][\"title\"] if city[\"count\"] > 0 else None\n",
        "\n",
        "city_name"
      ],
      "metadata": {
        "id": "AK2dch3xtnpM",
        "colab": {
          "base_uri": "https://localhost:8080/",
          "height": 35
        },
        "outputId": "43394243-7833-44fb-8f57-be735250fe52"
      },
      "execution_count": null,
      "outputs": [
        {
          "output_type": "execute_result",
          "data": {
            "text/plain": [
              "'Кемерово'"
            ],
            "application/vnd.google.colaboratory.intrinsic+json": {
              "type": "string"
            }
          },
          "metadata": {},
          "execution_count": 37
        }
      ]
    },
    {
      "cell_type": "code",
      "source": [
        "# Получение списка школ\n",
        "\n",
        "if city_id:\n",
        "  school_data = vk.database.getSchools(city_id=city_id)\n",
        "  schools = [shl['title'] for shl in school_data['items']]\n",
        "else:\n",
        "   print(f\"ERROR: not city\")"
      ],
      "metadata": {
        "id": "WbDE2D1DaayH"
      },
      "execution_count": null,
      "outputs": []
    },
    {
      "cell_type": "code",
      "source": [
        "# Запись данных в файл json\n",
        "\n",
        "import json\n",
        "\n",
        "with open('Kemerovo_schools.json', 'w') as f:\n",
        "    f.write(json.dumps(schools, ensure_ascii=False))"
      ],
      "metadata": {
        "id": "fe61w2YjbfM2"
      },
      "execution_count": null,
      "outputs": []
    },
    {
      "cell_type": "markdown",
      "source": [
        "# **Задание 3. Запись данных в CSV формат**"
      ],
      "metadata": {
        "id": "N1UzGf1CtVfa"
      }
    },
    {
      "cell_type": "markdown",
      "source": [
        "С помощью методов API «ВКонтакте» получите 1000 подписчиков группы «Лентач», отсортирванных по дате регистрации.\n",
        "\n",
        "Вам необходимо собрать следующие данные в CSV файл: пол, название город, семейное положение (ФИО партнера не указывать)."
      ],
      "metadata": {
        "id": "Rg-gNSTzfA7R"
      }
    },
    {
      "cell_type": "code",
      "source": [
        "# Получение ID группы Лентач\n",
        "\n",
        "group_data = vk.groups.search(q='Лентач')\n",
        "group_id = group_data[\"items\"][0][\"id\"] if group_data[\"count\"] > 0 else None\n"
      ],
      "metadata": {
        "id": "eSslPXrGfDRb"
      },
      "execution_count": null,
      "outputs": []
    },
    {
      "cell_type": "code",
      "source": [
        "# Получение списка подписчиков\n",
        "\n",
        "if group_id:\n",
        "  members_data = vk.groups.getMembers(group_id=group_id, sort='id_asc', fields=['sex', 'city', 'relation'], count=1000)\n",
        "else:\n",
        "   print(f\"ERROR: not group\")\n"
      ],
      "metadata": {
        "id": "Fyou5ZxEmHC0"
      },
      "execution_count": null,
      "outputs": []
    },
    {
      "cell_type": "code",
      "source": [
        "import numpy as np\n",
        "import pandas as pd\n",
        "\n",
        "df = pd.DataFrame(members_data['items'])"
      ],
      "metadata": {
        "id": "7SnJ4bd2gmOl"
      },
      "execution_count": null,
      "outputs": []
    },
    {
      "cell_type": "code",
      "source": [
        "# Приводим значение \"Пол\"\n",
        "\n",
        "df['sex_a'] = df['sex'].apply(lambda x: 'жен' if int(x) == 1 else 'муж')"
      ],
      "metadata": {
        "id": "BvlvzObxHujy"
      },
      "execution_count": null,
      "outputs": []
    },
    {
      "cell_type": "code",
      "source": [
        "# Приводим значение \"Город\"\n",
        "\n",
        "def city_nan(x):\n",
        "  try:\n",
        "    city = x['title']\n",
        "    return city\n",
        "  except:\n",
        "    city = 'не указано'\n",
        "    return city\n",
        "\n",
        "df['city_a'] = df['city'].apply(city_nan)"
      ],
      "metadata": {
        "id": "EJwmPfNjLsp8"
      },
      "execution_count": null,
      "outputs": []
    },
    {
      "cell_type": "code",
      "source": [
        "# преобразование кодов семейного статуса в текстовое значение\n",
        "\n",
        "def relations(status):\n",
        "  if status == 1:\n",
        "    n = 'не женат/не замужем'\n",
        "  elif status == 2:\n",
        "    n = 'есть друг/есть подруга'\n",
        "  elif status == 3:\n",
        "    n = 'помолвлен/помолвлена'\n",
        "  elif status == 4:\n",
        "    n = 'женат/замужем'\n",
        "  elif status == 5:\n",
        "    n = 'всё сложно'\n",
        "  elif status == 6:\n",
        "    n = 'в активном поиске'\n",
        "  elif status == 7:\n",
        "    n = 'влюблён/влюблена'\n",
        "  elif status == 8:\n",
        "    n = 'в гражданском браке'\n",
        "  else:\n",
        "    n = 'не указано'\n",
        "  return n\n"
      ],
      "metadata": {
        "id": "o708TRCnt8oq"
      },
      "execution_count": null,
      "outputs": []
    },
    {
      "cell_type": "code",
      "source": [
        "# Приводим значение \"Отношения\"\n",
        "\n",
        "def relation_nan(x):\n",
        "  try:\n",
        "    rel = relations(int(x))\n",
        "    return rel\n",
        "  except:\n",
        "    rel = 'не указано'\n",
        "    return rel\n",
        "\n",
        "df['relation_a'] = df['relation'].apply(relation_nan)"
      ],
      "metadata": {
        "id": "JUuNutJBOLMJ"
      },
      "execution_count": null,
      "outputs": []
    },
    {
      "cell_type": "code",
      "source": [
        "df[['sex_a', 'city_a', 'relation_a']].to_csv('Lentach_1000_members.csv', index=False, header=['Пол', 'Город', 'Cемейное положение'])"
      ],
      "metadata": {
        "id": "h0gCVaioS322"
      },
      "execution_count": null,
      "outputs": []
    }
  ]
}